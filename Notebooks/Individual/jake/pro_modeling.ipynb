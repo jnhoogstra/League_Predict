{
 "cells": [
  {
   "cell_type": "code",
   "execution_count": 49,
   "metadata": {},
   "outputs": [],
   "source": [
    "import pandas as pd\n",
    "import numpy as np\n",
    "\n",
    "from xgboost import XGBClassifier\n",
    "from sklearn.model_selection import train_test_split, GridSearchCV\n",
    "from sklearn.preprocessing import OneHotEncoder, StandardScaler\n",
    "from sklearn.pipeline import Pipeline, make_pipeline\n",
    "from sklearn.compose import ColumnTransformer\n",
    "from sklearn.metrics import accuracy_score, recall_score, precision_score, f1_score, roc_auc_score, plot_confusion_matrix\n",
    "from sklearn.linear_model import LogisticRegression\n",
    "from sklearn.ensemble import RandomForestClassifier\n",
    "from sklearn.tree import DecisionTreeClassifier\n",
    "\n",
    "import ipynb.fs.full.functions\n",
    "\n",
    "pd.set_option('display.max_columns', None)"
   ]
  },
  {
   "cell_type": "code",
   "execution_count": 18,
   "metadata": {},
   "outputs": [
    {
     "data": {
      "text/html": [
       "<div>\n",
       "<style scoped>\n",
       "    .dataframe tbody tr th:only-of-type {\n",
       "        vertical-align: middle;\n",
       "    }\n",
       "\n",
       "    .dataframe tbody tr th {\n",
       "        vertical-align: top;\n",
       "    }\n",
       "\n",
       "    .dataframe thead th {\n",
       "        text-align: right;\n",
       "    }\n",
       "</style>\n",
       "<table border=\"1\" class=\"dataframe\">\n",
       "  <thead>\n",
       "    <tr style=\"text-align: right;\">\n",
       "      <th></th>\n",
       "      <th>gameId</th>\n",
       "      <th>blueChampions</th>\n",
       "      <th>blueWins</th>\n",
       "      <th>blueFirstBlood</th>\n",
       "      <th>blueFirstBloodAssist</th>\n",
       "      <th>blueTotalGold</th>\n",
       "      <th>blueTotalExperience</th>\n",
       "      <th>blueTotalCS</th>\n",
       "      <th>blueGoldDiff</th>\n",
       "      <th>blueExperienceDiff</th>\n",
       "      <th>blueCsdiffat10</th>\n",
       "      <th>blueKills</th>\n",
       "      <th>blueAssists</th>\n",
       "      <th>blueDeaths</th>\n",
       "      <th>redChampions</th>\n",
       "      <th>redFirstBloodAssist</th>\n",
       "      <th>redTotalGold</th>\n",
       "      <th>redTotalExperience</th>\n",
       "      <th>redTotalCS</th>\n",
       "      <th>redAssists</th>\n",
       "    </tr>\n",
       "  </thead>\n",
       "  <tbody>\n",
       "    <tr>\n",
       "      <th>0</th>\n",
       "      <td>ESPORTSTMNT03/1632489</td>\n",
       "      <td>[('Mordekaiser', 'top'), ('Graves', 'jng'), ('...</td>\n",
       "      <td>1</td>\n",
       "      <td>1.0</td>\n",
       "      <td>0.0</td>\n",
       "      <td>16291.0</td>\n",
       "      <td>20459.0</td>\n",
       "      <td>382.0</td>\n",
       "      <td>1793.0</td>\n",
       "      <td>2365.0</td>\n",
       "      <td>65.0</td>\n",
       "      <td>1.0</td>\n",
       "      <td>0.0</td>\n",
       "      <td>0.0</td>\n",
       "      <td>[('Ornn', 'top'), ('Kindred', 'jng'), ('Oriann...</td>\n",
       "      <td>0.0</td>\n",
       "      <td>14498.0</td>\n",
       "      <td>18094.0</td>\n",
       "      <td>317.0</td>\n",
       "      <td>0.0</td>\n",
       "    </tr>\n",
       "    <tr>\n",
       "      <th>1</th>\n",
       "      <td>ESPORTSTMNT03/1632500</td>\n",
       "      <td>[('Gragas', 'top'), ('Graves', 'jng'), ('Rumbl...</td>\n",
       "      <td>0</td>\n",
       "      <td>1.0</td>\n",
       "      <td>0.0</td>\n",
       "      <td>15623.0</td>\n",
       "      <td>19210.0</td>\n",
       "      <td>340.0</td>\n",
       "      <td>759.0</td>\n",
       "      <td>171.0</td>\n",
       "      <td>-8.0</td>\n",
       "      <td>1.0</td>\n",
       "      <td>3.0</td>\n",
       "      <td>0.0</td>\n",
       "      <td>[('Ornn', 'top'), ('Olaf', 'jng'), ('Syndra', ...</td>\n",
       "      <td>0.0</td>\n",
       "      <td>14864.0</td>\n",
       "      <td>19039.0</td>\n",
       "      <td>348.0</td>\n",
       "      <td>0.0</td>\n",
       "    </tr>\n",
       "    <tr>\n",
       "      <th>2</th>\n",
       "      <td>ESPORTSTMNT03/1632502</td>\n",
       "      <td>[('Gragas', 'top'), ('Graves', 'jng'), ('Zoe',...</td>\n",
       "      <td>0</td>\n",
       "      <td>1.0</td>\n",
       "      <td>0.0</td>\n",
       "      <td>15043.0</td>\n",
       "      <td>16987.0</td>\n",
       "      <td>275.0</td>\n",
       "      <td>73.0</td>\n",
       "      <td>-1.0</td>\n",
       "      <td>-24.0</td>\n",
       "      <td>3.0</td>\n",
       "      <td>3.0</td>\n",
       "      <td>2.0</td>\n",
       "      <td>[('Rumble', 'top'), ('Nidalee', 'jng'), ('Yone...</td>\n",
       "      <td>0.0</td>\n",
       "      <td>14970.0</td>\n",
       "      <td>16988.0</td>\n",
       "      <td>299.0</td>\n",
       "      <td>4.0</td>\n",
       "    </tr>\n",
       "    <tr>\n",
       "      <th>3</th>\n",
       "      <td>6909-9183</td>\n",
       "      <td>[('Karma', 'top'), ('Pantheon', 'jng'), ('Synd...</td>\n",
       "      <td>0</td>\n",
       "      <td>1.0</td>\n",
       "      <td>0.0</td>\n",
       "      <td>16177.0</td>\n",
       "      <td>19640.0</td>\n",
       "      <td>380.0</td>\n",
       "      <td>732.0</td>\n",
       "      <td>75.0</td>\n",
       "      <td>20.0</td>\n",
       "      <td>1.0</td>\n",
       "      <td>1.0</td>\n",
       "      <td>0.0</td>\n",
       "      <td>[('Aatrox', 'top'), ('Nidalee', 'jng'), ('Vikt...</td>\n",
       "      <td>0.0</td>\n",
       "      <td>15445.0</td>\n",
       "      <td>19565.0</td>\n",
       "      <td>360.0</td>\n",
       "      <td>0.0</td>\n",
       "    </tr>\n",
       "    <tr>\n",
       "      <th>4</th>\n",
       "      <td>6909-9184</td>\n",
       "      <td>[('Jax', 'top'), ('Hecarim', 'jng'), ('Orianna...</td>\n",
       "      <td>0</td>\n",
       "      <td>0.0</td>\n",
       "      <td>0.0</td>\n",
       "      <td>16752.0</td>\n",
       "      <td>20020.0</td>\n",
       "      <td>361.0</td>\n",
       "      <td>1502.0</td>\n",
       "      <td>1164.0</td>\n",
       "      <td>40.0</td>\n",
       "      <td>2.0</td>\n",
       "      <td>2.0</td>\n",
       "      <td>1.0</td>\n",
       "      <td>[('Camille', 'top'), ('Lillia', 'jng'), ('Vikt...</td>\n",
       "      <td>0.0</td>\n",
       "      <td>15250.0</td>\n",
       "      <td>18856.0</td>\n",
       "      <td>321.0</td>\n",
       "      <td>1.0</td>\n",
       "    </tr>\n",
       "  </tbody>\n",
       "</table>\n",
       "</div>"
      ],
      "text/plain": [
       "                  gameId                                      blueChampions  \\\n",
       "0  ESPORTSTMNT03/1632489  [('Mordekaiser', 'top'), ('Graves', 'jng'), ('...   \n",
       "1  ESPORTSTMNT03/1632500  [('Gragas', 'top'), ('Graves', 'jng'), ('Rumbl...   \n",
       "2  ESPORTSTMNT03/1632502  [('Gragas', 'top'), ('Graves', 'jng'), ('Zoe',...   \n",
       "3              6909-9183  [('Karma', 'top'), ('Pantheon', 'jng'), ('Synd...   \n",
       "4              6909-9184  [('Jax', 'top'), ('Hecarim', 'jng'), ('Orianna...   \n",
       "\n",
       "   blueWins  blueFirstBlood  blueFirstBloodAssist  blueTotalGold  \\\n",
       "0         1             1.0                   0.0        16291.0   \n",
       "1         0             1.0                   0.0        15623.0   \n",
       "2         0             1.0                   0.0        15043.0   \n",
       "3         0             1.0                   0.0        16177.0   \n",
       "4         0             0.0                   0.0        16752.0   \n",
       "\n",
       "   blueTotalExperience  blueTotalCS  blueGoldDiff  blueExperienceDiff  \\\n",
       "0              20459.0        382.0        1793.0              2365.0   \n",
       "1              19210.0        340.0         759.0               171.0   \n",
       "2              16987.0        275.0          73.0                -1.0   \n",
       "3              19640.0        380.0         732.0                75.0   \n",
       "4              20020.0        361.0        1502.0              1164.0   \n",
       "\n",
       "   blueCsdiffat10  blueKills  blueAssists  blueDeaths  \\\n",
       "0            65.0        1.0          0.0         0.0   \n",
       "1            -8.0        1.0          3.0         0.0   \n",
       "2           -24.0        3.0          3.0         2.0   \n",
       "3            20.0        1.0          1.0         0.0   \n",
       "4            40.0        2.0          2.0         1.0   \n",
       "\n",
       "                                        redChampions  redFirstBloodAssist  \\\n",
       "0  [('Ornn', 'top'), ('Kindred', 'jng'), ('Oriann...                  0.0   \n",
       "1  [('Ornn', 'top'), ('Olaf', 'jng'), ('Syndra', ...                  0.0   \n",
       "2  [('Rumble', 'top'), ('Nidalee', 'jng'), ('Yone...                  0.0   \n",
       "3  [('Aatrox', 'top'), ('Nidalee', 'jng'), ('Vikt...                  0.0   \n",
       "4  [('Camille', 'top'), ('Lillia', 'jng'), ('Vikt...                  0.0   \n",
       "\n",
       "   redTotalGold  redTotalExperience  redTotalCS  redAssists  \n",
       "0       14498.0             18094.0       317.0         0.0  \n",
       "1       14864.0             19039.0       348.0         0.0  \n",
       "2       14970.0             16988.0       299.0         4.0  \n",
       "3       15445.0             19565.0       360.0         0.0  \n",
       "4       15250.0             18856.0       321.0         1.0  "
      ]
     },
     "execution_count": 18,
     "metadata": {},
     "output_type": "execute_result"
    }
   ],
   "source": [
    "df = pd.read_csv(\"../../../archive/2021_LoL_esports_match_data_from_YaBoi_20210713.csv\")\n",
    "df.head()"
   ]
  },
  {
   "cell_type": "code",
   "execution_count": 3,
   "metadata": {},
   "outputs": [
    {
     "data": {
      "text/plain": [
       "[('blueFirstBlood', 1.25),\n",
       " ('blueDragons', 4.9),\n",
       " ('blueHeralds', 2.96),\n",
       " ('blueAvgLevel', 4.19),\n",
       " ('blueTotalExperience', 2.6499999),\n",
       " ('blueTotalJungleMinionsKilled', 2.8799999),\n",
       " ('blueGoldDiff', 32.41),\n",
       " ('blueExperienceDiff', 13.500001),\n",
       " ('blueGoldPerMin', 3.05),\n",
       " ('redDragons', 4.5),\n",
       " ('redHeralds', 3.6200001),\n",
       " ('redAvgLevel', 1.73),\n",
       " ('redTotalExperience', 2.76),\n",
       " ('redTotalJungleMinionsKilled', 1.9),\n",
       " ('redGoldPerMin', 3.81),\n",
       " ('bluePredWinrate', 4.4700003),\n",
       " ('redPredWinrate', 3.99),\n",
       " ('blueAvgPickrate', 2.6399999),\n",
       " ('redAvgPickrate', 2.78)]"
      ]
     },
     "execution_count": 3,
     "metadata": {},
     "output_type": "execute_result"
    }
   ],
   "source": [
    "[('blueFirstBlood', 1.25),\n",
    " ('blueDragons', 4.9),\n",
    " ('blueHeralds', 2.96),\n",
    " ('blueAvgLevel', 4.19),\n",
    " ('blueTotalExperience', 2.6499999),\n",
    " ('blueTotalJungleMinionsKilled', 2.8799999),\n",
    " ('blueGoldDiff', 32.41),\n",
    " ('blueExperienceDiff', 13.500001),\n",
    " ('blueGoldPerMin', 3.05),\n",
    " ('redDragons', 4.5),\n",
    " ('redHeralds', 3.6200001),\n",
    " ('redAvgLevel', 1.73),\n",
    " ('redTotalExperience', 2.76),\n",
    " ('redTotalJungleMinionsKilled', 1.9),\n",
    " ('redGoldPerMin', 3.81),\n",
    " ('bluePredWinrate', 4.4700003),\n",
    " ('redPredWinrate', 3.99),\n",
    " ('blueAvgPickrate', 2.6399999),\n",
    " ('redAvgPickrate', 2.78)]"
   ]
  },
  {
   "cell_type": "code",
   "execution_count": 4,
   "metadata": {},
   "outputs": [
    {
     "name": "stdout",
     "output_type": "stream",
     "text": [
      "<class 'pandas.core.frame.DataFrame'>\n",
      "RangeIndex: 8278 entries, 0 to 8277\n",
      "Data columns (total 20 columns):\n",
      " #   Column                Non-Null Count  Dtype  \n",
      "---  ------                --------------  -----  \n",
      " 0   gameId                8274 non-null   object \n",
      " 1   blueChampions         8278 non-null   object \n",
      " 2   blueWins              8278 non-null   int64  \n",
      " 3   blueFirstBlood        8278 non-null   float64\n",
      " 4   blueFirstBloodAssist  8278 non-null   float64\n",
      " 5   blueTotalGold         7728 non-null   float64\n",
      " 6   blueTotalExperience   7728 non-null   float64\n",
      " 7   blueTotalCS           7728 non-null   float64\n",
      " 8   blueGoldDiff          7728 non-null   float64\n",
      " 9   blueExperienceDiff    7728 non-null   float64\n",
      " 10  blueCsdiffat10        7728 non-null   float64\n",
      " 11  blueKills             7728 non-null   float64\n",
      " 12  blueAssists           7728 non-null   float64\n",
      " 13  blueDeaths            7728 non-null   float64\n",
      " 14  redChampions          8278 non-null   object \n",
      " 15  redFirstBloodAssist   8278 non-null   float64\n",
      " 16  redTotalGold          7728 non-null   float64\n",
      " 17  redTotalExperience    7728 non-null   float64\n",
      " 18  redTotalCS            7728 non-null   float64\n",
      " 19  redAssists            7728 non-null   float64\n",
      "dtypes: float64(16), int64(1), object(3)\n",
      "memory usage: 1.3+ MB\n"
     ]
    }
   ],
   "source": [
    "df.info()"
   ]
  },
  {
   "cell_type": "code",
   "execution_count": 5,
   "metadata": {},
   "outputs": [
    {
     "data": {
      "text/plain": [
       "XGBClassifier(base_score=0.5, booster='gbtree', colsample_bylevel=1,\n",
       "              colsample_bynode=1, colsample_bytree=1, gamma=0, gpu_id=-1,\n",
       "              importance_type='gain', interaction_constraints='',\n",
       "              learning_rate=0.05, max_delta_step=0, max_depth=3,\n",
       "              min_child_weight=5, missing=nan, monotone_constraints='()',\n",
       "              n_estimators=100, n_jobs=0, num_parallel_tree=1,\n",
       "              objective='reg:logistic', random_state=57, reg_alpha=0,\n",
       "              reg_lambda=1, scale_pos_weight=1, subsample=0.6,\n",
       "              tree_method='exact', validate_parameters=1, verbosity=None)"
      ]
     },
     "execution_count": 5,
     "metadata": {},
     "output_type": "execute_result"
    }
   ],
   "source": [
    "col = [\"gameId\", \"blueWins\", \"blueChampions\", \"redChampions\"]\n",
    "X = df.drop(columns = col, axis = 1)\n",
    "y = df[\"blueWins\"]\n",
    "\n",
    "X_train, X_test, y_train, y_test = train_test_split(X, y, random_state=57)\n",
    "\n",
    "boost_model = XGBClassifier(random_state=57, objective=\"reg:logistic\",\n",
    "                            learning_rate= 0.05, max_depth = 3, min_child_weight = 5,\n",
    "                            n_estimators = 100, subsample = 0.6)\n",
    "boost_model.fit(X_train, y_train)"
   ]
  },
  {
   "cell_type": "code",
   "execution_count": 6,
   "metadata": {},
   "outputs": [
    {
     "name": "stdout",
     "output_type": "stream",
     "text": [
      "Training Scores\n",
      "Accuracy:  0.7222938144329897\n",
      "Test Scores\n",
      "Accuracy:  0.6956521739130435\n"
     ]
    }
   ],
   "source": [
    "train_pred = boost_model.predict(X_train)\n",
    "test_pred = boost_model.predict(X_test)\n",
    "\n",
    "train_acc = accuracy_score(y_train, train_pred)\n",
    "\n",
    "print(\"Training Scores\")\n",
    "print(\"Accuracy: \", train_acc)\n",
    "\n",
    "test_acc = accuracy_score(y_test, test_pred)\n",
    "\n",
    "print(\"Test Scores\")\n",
    "print(\"Accuracy: \", test_acc)"
   ]
  },
  {
   "cell_type": "code",
   "execution_count": 7,
   "metadata": {},
   "outputs": [
    {
     "data": {
      "text/plain": [
       "[('blueFirstBlood', 6.45),\n",
       " ('blueFirstBloodAssist', 0.0),\n",
       " ('blueTotalGold', 3.6),\n",
       " ('blueTotalExperience', 3.7500002),\n",
       " ('blueTotalCS', 4.2),\n",
       " ('blueGoldDiff', 40.28),\n",
       " ('blueExperienceDiff', 8.91),\n",
       " ('blueCsdiffat10', 6.79),\n",
       " ('blueKills', 3.5300002),\n",
       " ('blueAssists', 3.4),\n",
       " ('blueDeaths', 2.96),\n",
       " ('redFirstBloodAssist', 0.0),\n",
       " ('redTotalGold', 4.7),\n",
       " ('redTotalExperience', 3.72),\n",
       " ('redTotalCS', 3.44),\n",
       " ('redAssists', 4.27)]"
      ]
     },
     "execution_count": 7,
     "metadata": {},
     "output_type": "execute_result"
    }
   ],
   "source": [
    "features = list(zip(X_train.columns, 100*(np.round(boost_model.feature_importances_, 4))))\n",
    "features"
   ]
  },
  {
   "cell_type": "code",
   "execution_count": 8,
   "metadata": {},
   "outputs": [
    {
     "data": {
      "text/plain": [
       "{'learning_rate': 0.05,\n",
       " 'max_depth': 4,\n",
       " 'min_child_weight': 5,\n",
       " 'n_estimators': 50,\n",
       " 'subsample': 0.4}"
      ]
     },
     "execution_count": 8,
     "metadata": {},
     "output_type": "execute_result"
    }
   ],
   "source": [
    "boost_model2 = XGBClassifier(random_state=57, objective=\"reg:logistic\")\n",
    "\n",
    "param_grid = {\n",
    "    'learning_rate': [0.01, 0.05, 0.1, 0.2],\n",
    "    'max_depth': [2, 3, 4, 5],\n",
    "    'min_child_weight': [1, 2, 3, 4, 5, 6],\n",
    "    'subsample': [0.4, 0.5, 0.6, 0.7],\n",
    "    'n_estimators': [30, 50, 100]\n",
    "}\n",
    "\n",
    "gridsearch = GridSearchCV(boost_model, param_grid, cv=3, scoring=\"accuracy\", n_jobs=1)\n",
    "gridsearch.fit(X_train, y_train)\n",
    "gridsearch.best_params_"
   ]
  },
  {
   "cell_type": "code",
   "execution_count": 9,
   "metadata": {},
   "outputs": [
    {
     "name": "stdout",
     "output_type": "stream",
     "text": [
      "Training Scores\n",
      "Accuracy:  0.7200386597938144\n",
      "Test Scores\n",
      "Accuracy:  0.6980676328502415\n"
     ]
    }
   ],
   "source": [
    "train_pred = gridsearch.predict(X_train)\n",
    "test_pred = gridsearch.predict(X_test)\n",
    "\n",
    "train_acc = accuracy_score(y_train, train_pred)\n",
    "\n",
    "print(\"Training Scores\")\n",
    "print(\"Accuracy: \", train_acc)\n",
    "\n",
    "test_acc = accuracy_score(y_test, test_pred)\n",
    "\n",
    "print(\"Test Scores\")\n",
    "print(\"Accuracy: \", test_acc)"
   ]
  },
  {
   "cell_type": "code",
   "execution_count": 10,
   "metadata": {},
   "outputs": [
    {
     "data": {
      "text/plain": [
       "[('blueFirstBlood', 5.44),\n",
       " ('blueFirstBloodAssist', 0.0),\n",
       " ('blueTotalGold', 4.66),\n",
       " ('blueTotalExperience', 5.07),\n",
       " ('blueTotalCS', 4.36),\n",
       " ('blueGoldDiff', 36.92),\n",
       " ('blueExperienceDiff', 8.7),\n",
       " ('blueCsdiffat10', 7.4600005),\n",
       " ('blueKills', 4.5899997),\n",
       " ('blueAssists', 3.82),\n",
       " ('blueDeaths', 3.17),\n",
       " ('redFirstBloodAssist', 0.0),\n",
       " ('redTotalGold', 5.15),\n",
       " ('redTotalExperience', 3.7500002),\n",
       " ('redTotalCS', 3.9),\n",
       " ('redAssists', 3.02)]"
      ]
     },
     "execution_count": 10,
     "metadata": {},
     "output_type": "execute_result"
    }
   ],
   "source": [
    "boost_model2 = XGBClassifier(random_state=57, objective=\"reg:logistic\",\n",
    "                            learning_rate= 0.05, max_depth = 4, min_child_weight = 5,\n",
    "                            n_estimators = 50, subsample = 0.4)\n",
    "boost_model2.fit(X_train, y_train)\n",
    "\n",
    "features = list(zip(X_train.columns, 100*(np.round(boost_model2.feature_importances_, 4))))\n",
    "features"
   ]
  },
  {
   "cell_type": "code",
   "execution_count": 50,
   "metadata": {},
   "outputs": [
    {
     "name": "stdout",
     "output_type": "stream",
     "text": [
      "Accuracy:   0.7200386597938144\n",
      "F1 Score:   0.7460549386323787\n",
      "Recall:     0.7696713898100693\n",
      "Precision:  0.7238446271618939\n",
      "ROC_AUC:    0.7163818726981858\n"
     ]
    }
   ],
   "source": [
    "ScoreModel(boost_model2, X_train, y_train)"
   ]
  },
  {
   "cell_type": "code",
   "execution_count": 51,
   "metadata": {},
   "outputs": [
    {
     "name": "stdout",
     "output_type": "stream",
     "text": [
      "Accuracy:   0.6980676328502415\n",
      "F1 Score:   0.7173224785165084\n",
      "Recall:     0.7439024390243902\n",
      "Precision:  0.6925764192139738\n",
      "ROC_AUC:    0.6966524147313187\n"
     ]
    }
   ],
   "source": [
    "ScoreModel(boost_model2, X_test, y_test)"
   ]
  },
  {
   "cell_type": "code",
   "execution_count": 52,
   "metadata": {},
   "outputs": [
    {
     "data": {
      "text/plain": [
       "{'learning_rate': 0.05,\n",
       " 'max_depth': 4,\n",
       " 'min_child_weight': 4,\n",
       " 'n_estimators': 50,\n",
       " 'subsample': 0.7}"
      ]
     },
     "execution_count": 52,
     "metadata": {},
     "output_type": "execute_result"
    }
   ],
   "source": [
    "X_train_gold = X_train.drop(\"blueGoldDiff\", axis=1)\n",
    "X_test_gold = X_test.drop(\"blueGoldDiff\", axis=1)\n",
    "\n",
    "gold_model = XGBClassifier(random_state=57, objective=\"reg:logistic\")\n",
    "\n",
    "gold = GridSearchCV(boost_model, param_grid, cv=3, scoring=\"accuracy\", n_jobs=1)\n",
    "gold.fit(X_train_gold, y_train)\n",
    "gold.best_params_"
   ]
  },
  {
   "cell_type": "code",
   "execution_count": 53,
   "metadata": {},
   "outputs": [
    {
     "name": "stdout",
     "output_type": "stream",
     "text": [
      "Accuracy:   0.7292203608247423\n",
      "F1 Score:   0.7521745540321392\n",
      "Recall:     0.7690684353331323\n",
      "Precision:  0.7360069244085401\n",
      "ROC_AUC:    0.7262844770923703\n"
     ]
    }
   ],
   "source": [
    "ScoreModel(gold, X_train_gold, y_train)"
   ]
  },
  {
   "cell_type": "code",
   "execution_count": 55,
   "metadata": {},
   "outputs": [
    {
     "name": "stdout",
     "output_type": "stream",
     "text": [
      "Accuracy:   0.6942028985507246\n",
      "F1 Score:   0.71240345297592\n",
      "Recall:     0.7354596622889306\n",
      "Precision:  0.690748898678414\n",
      "ROC_AUC:    0.6929290343317163\n"
     ]
    }
   ],
   "source": [
    "ScoreModel(gold, X_test_gold, y_test)"
   ]
  },
  {
   "cell_type": "code",
   "execution_count": 58,
   "metadata": {},
   "outputs": [
    {
     "data": {
      "text/plain": [
       "[('blueFirstBlood', 11.07),\n",
       " ('blueFirstBloodAssist', 0.0),\n",
       " ('blueTotalGold', 7.08),\n",
       " ('blueTotalExperience', 3.3700001),\n",
       " ('blueTotalCS', 3.42),\n",
       " ('blueExperienceDiff', 41.600002),\n",
       " ('blueCsdiffat10', 5.4),\n",
       " ('blueKills', 3.85),\n",
       " ('blueAssists', 2.8899999),\n",
       " ('blueDeaths', 3.3),\n",
       " ('redFirstBloodAssist', 0.0),\n",
       " ('redTotalGold', 8.28),\n",
       " ('redTotalExperience', 3.1800003),\n",
       " ('redTotalCS', 3.11),\n",
       " ('redAssists', 3.46)]"
      ]
     },
     "execution_count": 58,
     "metadata": {},
     "output_type": "execute_result"
    }
   ],
   "source": [
    "gold_boost = boost_model2 = XGBClassifier(random_state=57, objective=\"reg:logistic\",\n",
    "                            learning_rate= 0.05, max_depth = 4, min_child_weight = 4,\n",
    "                            n_estimators = 50, subsample = 0.7)\n",
    "gold_boost.fit(X_train_gold, y_train)\n",
    "\n",
    "features = list(zip(X_train_gold.columns, 100*(np.round(gold_boost.feature_importances_, 4))))\n",
    "features"
   ]
  },
  {
   "cell_type": "code",
   "execution_count": null,
   "metadata": {},
   "outputs": [],
   "source": []
  }
 ],
 "metadata": {
  "kernelspec": {
   "display_name": "learn-env",
   "language": "python",
   "name": "learn-env"
  },
  "language_info": {
   "codemirror_mode": {
    "name": "ipython",
    "version": 3
   },
   "file_extension": ".py",
   "mimetype": "text/x-python",
   "name": "python",
   "nbconvert_exporter": "python",
   "pygments_lexer": "ipython3",
   "version": "3.8.5"
  }
 },
 "nbformat": 4,
 "nbformat_minor": 4
}
