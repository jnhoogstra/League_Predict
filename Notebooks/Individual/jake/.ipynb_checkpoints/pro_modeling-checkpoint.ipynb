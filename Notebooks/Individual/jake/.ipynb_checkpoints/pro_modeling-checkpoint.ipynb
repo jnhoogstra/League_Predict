{
 "cells": [
  {
   "cell_type": "code",
   "execution_count": 1,
   "metadata": {},
   "outputs": [],
   "source": [
    "import pandas as pd\n",
    "import numpy as np\n",
    "\n",
    "from xgboost import XGBClassifier\n",
    "from sklearn.model_selection import train_test_split, GridSearchCV\n",
    "from sklearn.preprocessing import OneHotEncoder, StandardScaler\n",
    "from sklearn.pipeline import Pipeline, make_pipeline\n",
    "from sklearn.compose import ColumnTransformer\n",
    "from sklearn.metrics import accuracy_score, recall_score, precision_score, f1_score, roc_auc_score, plot_confusion_matrix\n",
    "from sklearn.linear_model import LogisticRegression\n",
    "from sklearn.ensemble import RandomForestClassifier\n",
    "from sklearn.tree import DecisionTreeClassifier\n",
    "\n",
    "import sys\n",
    "if not 'Notebooks/Individual/Jake' in sys.path:\n",
    "    sys.path.append('Notebooks/Individual/jake')\n",
    "from functions import ScoreModel\n",
    "\n",
    "pd.set_option('display.max_columns', None)"
   ]
  },
  {
   "cell_type": "code",
   "execution_count": 2,
   "metadata": {},
   "outputs": [
    {
     "data": {
      "text/html": [
       "<div>\n",
       "<style scoped>\n",
       "    .dataframe tbody tr th:only-of-type {\n",
       "        vertical-align: middle;\n",
       "    }\n",
       "\n",
       "    .dataframe tbody tr th {\n",
       "        vertical-align: top;\n",
       "    }\n",
       "\n",
       "    .dataframe thead th {\n",
       "        text-align: right;\n",
       "    }\n",
       "</style>\n",
       "<table border=\"1\" class=\"dataframe\">\n",
       "  <thead>\n",
       "    <tr style=\"text-align: right;\">\n",
       "      <th></th>\n",
       "      <th>gameId</th>\n",
       "      <th>blueChampions</th>\n",
       "      <th>blueWins</th>\n",
       "      <th>blueFirstBlood</th>\n",
       "      <th>blueFirstBloodAssist</th>\n",
       "      <th>blueTotalGold</th>\n",
       "      <th>blueTotalExperience</th>\n",
       "      <th>blueTotalCS</th>\n",
       "      <th>blueGoldDiff</th>\n",
       "      <th>blueExperienceDiff</th>\n",
       "      <th>blueCsdiffat10</th>\n",
       "      <th>blueKills</th>\n",
       "      <th>blueAssists</th>\n",
       "      <th>blueDeaths</th>\n",
       "      <th>redChampions</th>\n",
       "      <th>redFirstBloodAssist</th>\n",
       "      <th>redTotalGold</th>\n",
       "      <th>redTotalExperience</th>\n",
       "      <th>redTotalCS</th>\n",
       "      <th>redAssists</th>\n",
       "    </tr>\n",
       "  </thead>\n",
       "  <tbody>\n",
       "    <tr>\n",
       "      <th>0</th>\n",
       "      <td>ESPORTSTMNT03/1632489</td>\n",
       "      <td>[('Mordekaiser', 'top'), ('Graves', 'jng'), ('...</td>\n",
       "      <td>1</td>\n",
       "      <td>1.0</td>\n",
       "      <td>0.0</td>\n",
       "      <td>16291.0</td>\n",
       "      <td>20459.0</td>\n",
       "      <td>382.0</td>\n",
       "      <td>1793.0</td>\n",
       "      <td>2365.0</td>\n",
       "      <td>65.0</td>\n",
       "      <td>1.0</td>\n",
       "      <td>0.0</td>\n",
       "      <td>0.0</td>\n",
       "      <td>[('Ornn', 'top'), ('Kindred', 'jng'), ('Oriann...</td>\n",
       "      <td>0.0</td>\n",
       "      <td>14498.0</td>\n",
       "      <td>18094.0</td>\n",
       "      <td>317.0</td>\n",
       "      <td>0.0</td>\n",
       "    </tr>\n",
       "    <tr>\n",
       "      <th>1</th>\n",
       "      <td>ESPORTSTMNT03/1632500</td>\n",
       "      <td>[('Gragas', 'top'), ('Graves', 'jng'), ('Rumbl...</td>\n",
       "      <td>0</td>\n",
       "      <td>1.0</td>\n",
       "      <td>0.0</td>\n",
       "      <td>15623.0</td>\n",
       "      <td>19210.0</td>\n",
       "      <td>340.0</td>\n",
       "      <td>759.0</td>\n",
       "      <td>171.0</td>\n",
       "      <td>-8.0</td>\n",
       "      <td>1.0</td>\n",
       "      <td>3.0</td>\n",
       "      <td>0.0</td>\n",
       "      <td>[('Ornn', 'top'), ('Olaf', 'jng'), ('Syndra', ...</td>\n",
       "      <td>0.0</td>\n",
       "      <td>14864.0</td>\n",
       "      <td>19039.0</td>\n",
       "      <td>348.0</td>\n",
       "      <td>0.0</td>\n",
       "    </tr>\n",
       "    <tr>\n",
       "      <th>2</th>\n",
       "      <td>ESPORTSTMNT03/1632502</td>\n",
       "      <td>[('Gragas', 'top'), ('Graves', 'jng'), ('Zoe',...</td>\n",
       "      <td>0</td>\n",
       "      <td>1.0</td>\n",
       "      <td>0.0</td>\n",
       "      <td>15043.0</td>\n",
       "      <td>16987.0</td>\n",
       "      <td>275.0</td>\n",
       "      <td>73.0</td>\n",
       "      <td>-1.0</td>\n",
       "      <td>-24.0</td>\n",
       "      <td>3.0</td>\n",
       "      <td>3.0</td>\n",
       "      <td>2.0</td>\n",
       "      <td>[('Rumble', 'top'), ('Nidalee', 'jng'), ('Yone...</td>\n",
       "      <td>0.0</td>\n",
       "      <td>14970.0</td>\n",
       "      <td>16988.0</td>\n",
       "      <td>299.0</td>\n",
       "      <td>4.0</td>\n",
       "    </tr>\n",
       "    <tr>\n",
       "      <th>3</th>\n",
       "      <td>6909-9183</td>\n",
       "      <td>[('Karma', 'top'), ('Pantheon', 'jng'), ('Synd...</td>\n",
       "      <td>0</td>\n",
       "      <td>1.0</td>\n",
       "      <td>0.0</td>\n",
       "      <td>16177.0</td>\n",
       "      <td>19640.0</td>\n",
       "      <td>380.0</td>\n",
       "      <td>732.0</td>\n",
       "      <td>75.0</td>\n",
       "      <td>20.0</td>\n",
       "      <td>1.0</td>\n",
       "      <td>1.0</td>\n",
       "      <td>0.0</td>\n",
       "      <td>[('Aatrox', 'top'), ('Nidalee', 'jng'), ('Vikt...</td>\n",
       "      <td>0.0</td>\n",
       "      <td>15445.0</td>\n",
       "      <td>19565.0</td>\n",
       "      <td>360.0</td>\n",
       "      <td>0.0</td>\n",
       "    </tr>\n",
       "    <tr>\n",
       "      <th>4</th>\n",
       "      <td>6909-9184</td>\n",
       "      <td>[('Jax', 'top'), ('Hecarim', 'jng'), ('Orianna...</td>\n",
       "      <td>0</td>\n",
       "      <td>0.0</td>\n",
       "      <td>0.0</td>\n",
       "      <td>16752.0</td>\n",
       "      <td>20020.0</td>\n",
       "      <td>361.0</td>\n",
       "      <td>1502.0</td>\n",
       "      <td>1164.0</td>\n",
       "      <td>40.0</td>\n",
       "      <td>2.0</td>\n",
       "      <td>2.0</td>\n",
       "      <td>1.0</td>\n",
       "      <td>[('Camille', 'top'), ('Lillia', 'jng'), ('Vikt...</td>\n",
       "      <td>0.0</td>\n",
       "      <td>15250.0</td>\n",
       "      <td>18856.0</td>\n",
       "      <td>321.0</td>\n",
       "      <td>1.0</td>\n",
       "    </tr>\n",
       "  </tbody>\n",
       "</table>\n",
       "</div>"
      ],
      "text/plain": [
       "                  gameId                                      blueChampions  \\\n",
       "0  ESPORTSTMNT03/1632489  [('Mordekaiser', 'top'), ('Graves', 'jng'), ('...   \n",
       "1  ESPORTSTMNT03/1632500  [('Gragas', 'top'), ('Graves', 'jng'), ('Rumbl...   \n",
       "2  ESPORTSTMNT03/1632502  [('Gragas', 'top'), ('Graves', 'jng'), ('Zoe',...   \n",
       "3              6909-9183  [('Karma', 'top'), ('Pantheon', 'jng'), ('Synd...   \n",
       "4              6909-9184  [('Jax', 'top'), ('Hecarim', 'jng'), ('Orianna...   \n",
       "\n",
       "   blueWins  blueFirstBlood  blueFirstBloodAssist  blueTotalGold  \\\n",
       "0         1             1.0                   0.0        16291.0   \n",
       "1         0             1.0                   0.0        15623.0   \n",
       "2         0             1.0                   0.0        15043.0   \n",
       "3         0             1.0                   0.0        16177.0   \n",
       "4         0             0.0                   0.0        16752.0   \n",
       "\n",
       "   blueTotalExperience  blueTotalCS  blueGoldDiff  blueExperienceDiff  \\\n",
       "0              20459.0        382.0        1793.0              2365.0   \n",
       "1              19210.0        340.0         759.0               171.0   \n",
       "2              16987.0        275.0          73.0                -1.0   \n",
       "3              19640.0        380.0         732.0                75.0   \n",
       "4              20020.0        361.0        1502.0              1164.0   \n",
       "\n",
       "   blueCsdiffat10  blueKills  blueAssists  blueDeaths  \\\n",
       "0            65.0        1.0          0.0         0.0   \n",
       "1            -8.0        1.0          3.0         0.0   \n",
       "2           -24.0        3.0          3.0         2.0   \n",
       "3            20.0        1.0          1.0         0.0   \n",
       "4            40.0        2.0          2.0         1.0   \n",
       "\n",
       "                                        redChampions  redFirstBloodAssist  \\\n",
       "0  [('Ornn', 'top'), ('Kindred', 'jng'), ('Oriann...                  0.0   \n",
       "1  [('Ornn', 'top'), ('Olaf', 'jng'), ('Syndra', ...                  0.0   \n",
       "2  [('Rumble', 'top'), ('Nidalee', 'jng'), ('Yone...                  0.0   \n",
       "3  [('Aatrox', 'top'), ('Nidalee', 'jng'), ('Vikt...                  0.0   \n",
       "4  [('Camille', 'top'), ('Lillia', 'jng'), ('Vikt...                  0.0   \n",
       "\n",
       "   redTotalGold  redTotalExperience  redTotalCS  redAssists  \n",
       "0       14498.0             18094.0       317.0         0.0  \n",
       "1       14864.0             19039.0       348.0         0.0  \n",
       "2       14970.0             16988.0       299.0         4.0  \n",
       "3       15445.0             19565.0       360.0         0.0  \n",
       "4       15250.0             18856.0       321.0         1.0  "
      ]
     },
     "execution_count": 2,
     "metadata": {},
     "output_type": "execute_result"
    }
   ],
   "source": [
    "df = pd.read_csv(\"../../../archive/2021_LoL_esports_match_data_from_YaBoi_20210713.csv\")\n",
    "df.head()"
   ]
  },
  {
   "cell_type": "code",
   "execution_count": 3,
   "metadata": {},
   "outputs": [
    {
     "name": "stdout",
     "output_type": "stream",
     "text": [
      "<class 'pandas.core.frame.DataFrame'>\n",
      "RangeIndex: 8278 entries, 0 to 8277\n",
      "Data columns (total 20 columns):\n",
      " #   Column                Non-Null Count  Dtype  \n",
      "---  ------                --------------  -----  \n",
      " 0   gameId                8274 non-null   object \n",
      " 1   blueChampions         8278 non-null   object \n",
      " 2   blueWins              8278 non-null   int64  \n",
      " 3   blueFirstBlood        8278 non-null   float64\n",
      " 4   blueFirstBloodAssist  8278 non-null   float64\n",
      " 5   blueTotalGold         7728 non-null   float64\n",
      " 6   blueTotalExperience   7728 non-null   float64\n",
      " 7   blueTotalCS           7728 non-null   float64\n",
      " 8   blueGoldDiff          7728 non-null   float64\n",
      " 9   blueExperienceDiff    7728 non-null   float64\n",
      " 10  blueCsdiffat10        7728 non-null   float64\n",
      " 11  blueKills             7728 non-null   float64\n",
      " 12  blueAssists           7728 non-null   float64\n",
      " 13  blueDeaths            7728 non-null   float64\n",
      " 14  redChampions          8278 non-null   object \n",
      " 15  redFirstBloodAssist   8278 non-null   float64\n",
      " 16  redTotalGold          7728 non-null   float64\n",
      " 17  redTotalExperience    7728 non-null   float64\n",
      " 18  redTotalCS            7728 non-null   float64\n",
      " 19  redAssists            7728 non-null   float64\n",
      "dtypes: float64(16), int64(1), object(3)\n",
      "memory usage: 1.3+ MB\n"
     ]
    }
   ],
   "source": [
    "df.info()"
   ]
  },
  {
   "cell_type": "code",
   "execution_count": 4,
   "metadata": {},
   "outputs": [],
   "source": [
    "col = [\"gameId\", \"blueWins\", \"blueChampions\", \"redChampions\"]\n",
    "X = df.drop(columns = col, axis = 1)\n",
    "y = df[\"blueWins\"]\n",
    "\n",
    "X_train, X_test, y_train, y_test = train_test_split(X, y, random_state=57)\n",
    "\n",
    "boost_model = XGBClassifier(random_state=57, objective=\"reg:logistic\",\n",
    "                            learning_rate= 0.05, max_depth = 3, min_child_weight = 5,\n",
    "                            n_estimators = 100, subsample = 0.6)\n",
    "boost_model.fit(X_train, y_train);"
   ]
  },
  {
   "cell_type": "code",
   "execution_count": 5,
   "metadata": {},
   "outputs": [
    {
     "name": "stdout",
     "output_type": "stream",
     "text": [
      "Training Scores\n",
      "Accuracy:   0.7222938144329897\n",
      "F1 Score:   0.7470657276995305\n",
      "Recall:     0.7675610491407898\n",
      "Precision:  0.7276364675621606\n",
      "ROC_AUC:    0.718958663622626\n",
      "None\n",
      "Test Scores\n",
      "Accuracy:   0.6956521739130435\n",
      "F1 Score:   0.7157039711191336\n",
      "Recall:     0.7439024390243902\n",
      "Precision:  0.6895652173913044\n",
      "ROC_AUC:    0.6941623748906812\n",
      "None\n"
     ]
    }
   ],
   "source": [
    "print(\"Training Scores\")\n",
    "print(ScoreModel(boost_model, X_train, y_train))\n",
    "\n",
    "print(\"Test Scores\")\n",
    "print(ScoreModel(boost_model, X_test, y_test))"
   ]
  },
  {
   "cell_type": "code",
   "execution_count": 6,
   "metadata": {},
   "outputs": [
    {
     "data": {
      "text/plain": [
       "[('blueFirstBlood', 6.45),\n",
       " ('blueFirstBloodAssist', 0.0),\n",
       " ('blueTotalGold', 3.6),\n",
       " ('blueTotalExperience', 3.7500002),\n",
       " ('blueTotalCS', 4.2),\n",
       " ('blueGoldDiff', 40.28),\n",
       " ('blueExperienceDiff', 8.91),\n",
       " ('blueCsdiffat10', 6.79),\n",
       " ('blueKills', 3.5300002),\n",
       " ('blueAssists', 3.4),\n",
       " ('blueDeaths', 2.96),\n",
       " ('redFirstBloodAssist', 0.0),\n",
       " ('redTotalGold', 4.7),\n",
       " ('redTotalExperience', 3.72),\n",
       " ('redTotalCS', 3.44),\n",
       " ('redAssists', 4.27)]"
      ]
     },
     "execution_count": 6,
     "metadata": {},
     "output_type": "execute_result"
    }
   ],
   "source": [
    "features = list(zip(X_train.columns, 100*(np.round(boost_model.feature_importances_, 4))))\n",
    "features"
   ]
  },
  {
   "cell_type": "code",
   "execution_count": 7,
   "metadata": {},
   "outputs": [
    {
     "data": {
      "text/plain": [
       "{'learning_rate': 0.05,\n",
       " 'max_depth': 4,\n",
       " 'min_child_weight': 5,\n",
       " 'n_estimators': 50,\n",
       " 'subsample': 0.4}"
      ]
     },
     "execution_count": 7,
     "metadata": {},
     "output_type": "execute_result"
    }
   ],
   "source": [
    "boost_model2 = XGBClassifier(random_state=57, objective=\"reg:logistic\")\n",
    "\n",
    "param_grid = {\n",
    "    'learning_rate': [0.01, 0.05, 0.1, 0.2],\n",
    "    'max_depth': [2, 3, 4, 5],\n",
    "    'min_child_weight': [1, 2, 3, 4, 5, 6],\n",
    "    'subsample': [0.4, 0.5, 0.6, 0.7],\n",
    "    'n_estimators': [30, 50, 100]\n",
    "}\n",
    "\n",
    "gridsearch = GridSearchCV(boost_model, param_grid, cv=3, scoring=\"accuracy\", n_jobs=1)\n",
    "gridsearch.fit(X_train, y_train)\n",
    "gridsearch.best_params_"
   ]
  },
  {
   "cell_type": "code",
   "execution_count": 8,
   "metadata": {},
   "outputs": [
    {
     "name": "stdout",
     "output_type": "stream",
     "text": [
      "Training Scores\n",
      "Accuracy:   0.7200386597938144\n",
      "F1 Score:   0.7460549386323787\n",
      "Recall:     0.7696713898100693\n",
      "Precision:  0.7238446271618939\n",
      "ROC_AUC:    0.7163818726981858\n",
      "None\n",
      "Test Scores\n",
      "Accuracy:   0.6980676328502415\n",
      "F1 Score:   0.7173224785165084\n",
      "Recall:     0.7439024390243902\n",
      "Precision:  0.6925764192139738\n",
      "ROC_AUC:    0.6966524147313187\n",
      "None\n"
     ]
    }
   ],
   "source": [
    "print(\"Training Scores\")\n",
    "print(ScoreModel(gridsearch, X_train, y_train))\n",
    "\n",
    "print(\"Test Scores\")\n",
    "print(ScoreModel(gridsearch, X_test, y_test))"
   ]
  },
  {
   "cell_type": "code",
   "execution_count": 9,
   "metadata": {},
   "outputs": [
    {
     "data": {
      "text/plain": [
       "[('blueFirstBlood', 5.44),\n",
       " ('blueFirstBloodAssist', 0.0),\n",
       " ('blueTotalGold', 4.66),\n",
       " ('blueTotalExperience', 5.07),\n",
       " ('blueTotalCS', 4.36),\n",
       " ('blueGoldDiff', 36.92),\n",
       " ('blueExperienceDiff', 8.7),\n",
       " ('blueCsdiffat10', 7.4600005),\n",
       " ('blueKills', 4.5899997),\n",
       " ('blueAssists', 3.82),\n",
       " ('blueDeaths', 3.17),\n",
       " ('redFirstBloodAssist', 0.0),\n",
       " ('redTotalGold', 5.15),\n",
       " ('redTotalExperience', 3.7500002),\n",
       " ('redTotalCS', 3.9),\n",
       " ('redAssists', 3.02)]"
      ]
     },
     "execution_count": 9,
     "metadata": {},
     "output_type": "execute_result"
    }
   ],
   "source": [
    "boost_model2 = XGBClassifier(random_state=57, objective=\"reg:logistic\",\n",
    "                            learning_rate= 0.05, max_depth = 4, min_child_weight = 5,\n",
    "                            n_estimators = 50, subsample = 0.4)\n",
    "boost_model2.fit(X_train, y_train)\n",
    "\n",
    "features = list(zip(X_train.columns, 100*(np.round(boost_model2.feature_importances_, 4))))\n",
    "features"
   ]
  },
  {
   "cell_type": "code",
   "execution_count": 10,
   "metadata": {},
   "outputs": [
    {
     "name": "stdout",
     "output_type": "stream",
     "text": [
      "Accuracy:   0.7200386597938144\n",
      "F1 Score:   0.7460549386323787\n",
      "Recall:     0.7696713898100693\n",
      "Precision:  0.7238446271618939\n",
      "ROC_AUC:    0.7163818726981858\n"
     ]
    }
   ],
   "source": [
    "ScoreModel(boost_model2, X_train, y_train)"
   ]
  },
  {
   "cell_type": "code",
   "execution_count": 11,
   "metadata": {},
   "outputs": [
    {
     "name": "stdout",
     "output_type": "stream",
     "text": [
      "Accuracy:   0.6980676328502415\n",
      "F1 Score:   0.7173224785165084\n",
      "Recall:     0.7439024390243902\n",
      "Precision:  0.6925764192139738\n",
      "ROC_AUC:    0.6966524147313187\n"
     ]
    }
   ],
   "source": [
    "ScoreModel(boost_model2, X_test, y_test)"
   ]
  },
  {
   "cell_type": "code",
   "execution_count": 12,
   "metadata": {},
   "outputs": [
    {
     "data": {
      "text/plain": [
       "{'learning_rate': 0.1,\n",
       " 'max_depth': 4,\n",
       " 'min_child_weight': 2,\n",
       " 'n_estimators': 30,\n",
       " 'subsample': 0.5}"
      ]
     },
     "execution_count": 12,
     "metadata": {},
     "output_type": "execute_result"
    }
   ],
   "source": [
    "drop_c = [\"blueGoldDiff\", \"blueExperienceDiff\"]\n",
    "X_train_gold = X_train.drop(columns=drop_c, axis=1)\n",
    "X_test_gold = X_test.drop(columns=drop_c, axis=1)\n",
    "\n",
    "gold_model = XGBClassifier(random_state=57, objective=\"reg:logistic\")\n",
    "\n",
    "gold = GridSearchCV(boost_model, param_grid, cv=3, scoring=\"accuracy\", n_jobs=1)\n",
    "gold.fit(X_train_gold, y_train)\n",
    "gold.best_params_"
   ]
  },
  {
   "cell_type": "code",
   "execution_count": 13,
   "metadata": {},
   "outputs": [
    {
     "name": "stdout",
     "output_type": "stream",
     "text": [
      "Accuracy:   0.7234213917525774\n",
      "F1 Score:   0.7467925084795752\n",
      "Recall:     0.7633403678022309\n",
      "Precision:  0.73094688221709\n",
      "ROC_AUC:    0.7204802842124265\n"
     ]
    }
   ],
   "source": [
    "ScoreModel(gold, X_train_gold, y_train)"
   ]
  },
  {
   "cell_type": "code",
   "execution_count": 14,
   "metadata": {},
   "outputs": [
    {
     "name": "stdout",
     "output_type": "stream",
     "text": [
      "Accuracy:   0.6927536231884058\n",
      "F1 Score:   0.7098540145985403\n",
      "Recall:     0.7298311444652908\n",
      "Precision:  0.6909413854351687\n",
      "ROC_AUC:    0.6916087993242788\n"
     ]
    }
   ],
   "source": [
    "ScoreModel(gold, X_test_gold, y_test)"
   ]
  },
  {
   "cell_type": "code",
   "execution_count": 15,
   "metadata": {},
   "outputs": [
    {
     "data": {
      "text/plain": [
       "[('blueFirstBlood', 7.39),\n",
       " ('blueFirstBloodAssist', 0.0),\n",
       " ('blueTotalGold', 20.85),\n",
       " ('blueTotalExperience', 6.33),\n",
       " ('blueTotalCS', 3.81),\n",
       " ('blueCsdiffat10', 10.49),\n",
       " ('blueKills', 5.35),\n",
       " ('blueAssists', 4.3900003),\n",
       " ('blueDeaths', 5.3199997),\n",
       " ('redFirstBloodAssist', 0.0),\n",
       " ('redTotalGold', 21.03),\n",
       " ('redTotalExperience', 5.59),\n",
       " ('redTotalCS', 4.5499997),\n",
       " ('redAssists', 4.91)]"
      ]
     },
     "execution_count": 15,
     "metadata": {},
     "output_type": "execute_result"
    }
   ],
   "source": [
    "gold_boost = boost_model2 = XGBClassifier(random_state=57, objective=\"reg:logistic\",\n",
    "                            learning_rate= 0.1, max_depth = 4, min_child_weight = 2,\n",
    "                            n_estimators = 30, subsample = 0.5)\n",
    "gold_boost.fit(X_train_gold, y_train)\n",
    "\n",
    "features = list(zip(X_train_gold.columns, 100*(np.round(gold_boost.feature_importances_, 4))))\n",
    "features"
   ]
  },
  {
   "cell_type": "code",
   "execution_count": 16,
   "metadata": {},
   "outputs": [
    {
     "data": {
      "text/plain": [
       "<sklearn.metrics._plot.confusion_matrix.ConfusionMatrixDisplay at 0x2aff44a0970>"
      ]
     },
     "execution_count": 16,
     "metadata": {},
     "output_type": "execute_result"
    },
    {
     "data": {
      "image/png": "[encoded data removed]",
      "text/plain": [
       "<Figure size 432x288 with 2 Axes>"
      ]
     },
     "metadata": {
      "needs_background": "light"
     },
     "output_type": "display_data"
    }
   ],
   "source": [
    "plot_confusion_matrix(gold_boost, X_train_gold, y_train)"
   ]
  },
  {
   "cell_type": "code",
   "execution_count": null,
   "metadata": {},
   "outputs": [],
   "source": []
  }
 ],
 "metadata": {
  "kernelspec": {
   "display_name": "learn-env",
   "language": "python",
   "name": "learn-env"
  },
  "language_info": {
   "codemirror_mode": {
    "name": "ipython",
    "version": 3
   },
   "file_extension": ".py",
   "mimetype": "text/x-python",
   "name": "python",
   "nbconvert_exporter": "python",
   "pygments_lexer": "ipython3",
   "version": "3.8.5"
  }
 },
 "nbformat": 4,
 "nbformat_minor": 4
}
