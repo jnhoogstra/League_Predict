{
 "cells": [
  {
   "cell_type": "code",
   "execution_count": 6,
   "metadata": {},
   "outputs": [],
   "source": [
    "import pandas as pd\n",
    "\n",
    "df_1 = pd.read_csv(\"../../../archive/blazed_diamond_ranked_10min.csv\")\n",
    "df_2 = pd.read_csv(\"../../../archive/10_7_pro_games.csv\")"
   ]
  },
  {
   "cell_type": "code",
   "execution_count": 5,
   "metadata": {},
   "outputs": [
    {
     "data": {
      "text/plain": [
       "Index(['blueWins', 'blueWardsDestroyed', 'blueFirstBlood', 'blueKills',\n",
       "       'blueAssists', 'blueDragons', 'blueHeralds', 'blueTowersDestroyed',\n",
       "       'blueAvgLevel', 'blueTotalJungleMinionsKilled', 'blueGoldDiff',\n",
       "       'blueExperienceDiff', 'blueCSPerMin', 'blueGoldPerMin',\n",
       "       'redWardsDestroyed', 'redKills', 'redAssists', 'redDragons',\n",
       "       'redHeralds', 'redTowersDestroyed', 'redAvgLevel',\n",
       "       'redTotalJungleMinionsKilled', 'redCSPerMin', 'redGoldPerMin',\n",
       "       'blueVisionScore', 'redVisionScore'],\n",
       "      dtype='object')"
      ]
     },
     "execution_count": 5,
     "metadata": {},
     "output_type": "execute_result"
    }
   ],
   "source": []
  },
  {
   "cell_type": "code",
   "execution_count": null,
   "metadata": {},
   "outputs": [],
   "source": []
  }
 ],
 "metadata": {
  "kernelspec": {
   "display_name": "learn-env",
   "language": "python",
   "name": "learn-env"
  },
  "language_info": {
   "codemirror_mode": {
    "name": "ipython",
    "version": 3
   },
   "file_extension": ".py",
   "mimetype": "text/x-python",
   "name": "python",
   "nbconvert_exporter": "python",
   "pygments_lexer": "ipython3",
   "version": "3.8.5"
  }
 },
 "nbformat": 4,
 "nbformat_minor": 4
}
