{
 "cells": [
  {
   "cell_type": "code",
   "execution_count": 38,
   "metadata": {},
   "outputs": [],
   "source": [
    "import pandas as pd\n",
    "pd.set_option(\"display.max_columns\", None)\n",
    "\n",
    "df_1 = pd.read_csv(\"../../../archive/with_rates_and_spec_gods.csv\")\n",
    "df_2 = pd.read_csv(\"../../../archive/2021_LoL_esports_match_data_from_SpinelessCoward_20210713.csv\")\n",
    "\n",
    "# That's right no rest for your boy the data organizer"
   ]
  },
  {
   "cell_type": "code",
   "execution_count": 39,
   "metadata": {},
   "outputs": [],
   "source": [
    "df_1.rename(columns = {\"blueChamps\": \"blueChampions\", \"redChamps\": \"redChampions\", \"redKills\": \"blueDeaths\",\n",
    "                      \"blueHas62\": \"blueHasWukong\", \"redHas62\": \"redHasWukong\", \"blueHas111\": \"blueHasNautilus\",\n",
    "                      \"redHas111\": \"redHasNautilus\", \"blueHas145\": \"blueHasKaiSa\", \"redHas145\": \"redHasKaisa\",\n",
    "                      \"blueHas39\": \"blueHasIrelia\", \"redHas39\": \"redHasIrelia\", \"blueHas517\": \"blueHasSylas\",\n",
    "                      \"redHas517\": \"redHasSylas\"}, inplace = True)\n",
    "# Lets make these column names be a little more readable"
   ]
  },
  {
   "cell_type": "code",
   "execution_count": 40,
   "metadata": {},
   "outputs": [],
   "source": [
    "df_2.dropna(inplace = True)\n",
    "# found some missing data, luckily there wasn't too much so I could justify dropping these rows"
   ]
  },
  {
   "cell_type": "code",
   "execution_count": 41,
   "metadata": {},
   "outputs": [],
   "source": [
    "df_2[\"blueCSPerMin\"], df_2[\"redCSPerMin\"] = df_2[\"blueTotalCS\"]/10, df_2[\"redTotalCS\"]/10\n",
    "df_2[\"blueGoldPerMin\"], df_2[\"redGoldPerMin\"] = df_2[\"blueTotalGold\"]/10, df_2[\"redTotalGold\"]/10\n",
    "df_2 = df_2.drop([\"blueTotalCS\", \"redTotalCS\", \"blueTotalGold\", \"redTotalGold\"], axis = 1)\n",
    "\n",
    "# making a couple new columns for the diamond players data set"
   ]
  },
  {
   "cell_type": "code",
   "execution_count": 42,
   "metadata": {},
   "outputs": [],
   "source": [
    "import pickle\n",
    "\n",
    "waifu = pickle.load(open(\"../../../Pickles/WaifuDictionary.pkl\", \"rb\"))\n",
    "\n",
    "# everyone loves pickles, lets use pickles to summon our potential waifu dictionary that can tell me all the leauge of\n",
    "# legends player names based on id number"
   ]
  },
  {
   "cell_type": "code",
   "execution_count": 43,
   "metadata": {},
   "outputs": [],
   "source": [
    "df_blueChampions, df_redChampions = df_1[\"blueChampions\"], df_1[\"redChampions\"]\n",
    "\n",
    "# lets make some individual data frames so I don't accidentally mess things up"
   ]
  },
  {
   "cell_type": "code",
   "execution_count": 44,
   "metadata": {},
   "outputs": [],
   "source": [
    "df_blueChampions = df_blueChampions.apply(lambda x: x.strip(\"[]\"))\n",
    "df_redChampions = df_redChampions.apply(lambda x: x.strip(\"[]\"))\n",
    "\n",
    "# formatting the champion lists"
   ]
  },
  {
   "cell_type": "code",
   "execution_count": 45,
   "metadata": {},
   "outputs": [],
   "source": [
    "df_blueChampions = df_blueChampions.apply(lambda x: x.replace(\" \", \"\").split(\",\"))\n",
    "df_redChampions = df_redChampions.apply(lambda x: x.replace(\" \", \"\").split(\",\"))\n",
    "\n",
    "# Still formatting don't mind me"
   ]
  },
  {
   "cell_type": "code",
   "execution_count": 46,
   "metadata": {},
   "outputs": [],
   "source": [
    "dict_i = {}\n",
    "for i in range(1,156):\n",
    "    number = waifu[i][\"key\"]\n",
    "    name = waifu[i][\"id\"]\n",
    "    dict_i[number] = name\n",
    "\n",
    "# This for loop makes a dictionary that is just a champions name and id number"
   ]
  },
  {
   "cell_type": "code",
   "execution_count": 47,
   "metadata": {},
   "outputs": [],
   "source": [
    "for i in range(len(df_blueChampions)):\n",
    "    champs = []\n",
    "    for x in range(5):\n",
    "        champ = dict_i[df_blueChampions.iloc[i][x]]\n",
    "        champs.append(champ)\n",
    "                \n",
    "    df_blueChampions.iloc[i] = champs\n",
    "    \n",
    "# using the above dictionary I replaced all the id numbers with champion names"
   ]
  },
  {
   "cell_type": "code",
   "execution_count": 48,
   "metadata": {},
   "outputs": [],
   "source": [
    "for i in range(len(df_redChampions)):\n",
    "    champs = []\n",
    "    for x in range(5):\n",
    "        champ = dict_i[df_redChampions.iloc[i][x]]\n",
    "        champs.append(champ)\n",
    "                \n",
    "    df_redChampions.iloc[i] = champs\n",
    "    \n",
    "# gotta do it twice cause I made two different dataframes"
   ]
  },
  {
   "cell_type": "code",
   "execution_count": 49,
   "metadata": {},
   "outputs": [],
   "source": [
    "df_1[\"blueChampions\"], df_1[\"redChampions\"] = df_blueChampions, df_redChampions\n",
    "\n",
    "# putting the two dataframes back into the original dataframe they came from"
   ]
  },
  {
   "cell_type": "code",
   "execution_count": 72,
   "metadata": {},
   "outputs": [],
   "source": [
    "# df_1.to_csv(\"../../../archive/with_rates_and_spec_gods_just_better.csv\")\n",
    "# saved to a csv file"
   ]
  },
  {
   "cell_type": "code",
   "execution_count": 52,
   "metadata": {},
   "outputs": [],
   "source": [
    "df_2[\"blueChampions\"] = df_2[\"blueChampions\"].apply(lambda x: x.replace(\"'\", \"\"))\n",
    "df_2[\"redChampions\"] = df_2[\"redChampions\"].apply(lambda x: x.replace(\"'\", \"\"))\n",
    "\n",
    "# same format changes I did a couple cells up"
   ]
  },
  {
   "cell_type": "code",
   "execution_count": 53,
   "metadata": {},
   "outputs": [],
   "source": [
    "blue_wins = df_2[\"blueChampions\"].loc[df_2[\"blueWins\"] == 1].apply(lambda x: x.strip(\"[]\"))\n",
    "red_wins = df_2[\"redChampions\"].loc[df_2[\"blueWins\"] == 0].apply(lambda x: x.strip(\"[]\"))\n",
    "\n",
    "# same format changes I did a couple cells up"
   ]
  },
  {
   "cell_type": "code",
   "execution_count": 54,
   "metadata": {},
   "outputs": [],
   "source": [
    "blue_wins = blue_wins.apply(lambda x: x.strip(\" \").replace('\"', ''))\n",
    "red_wins = red_wins.apply(lambda x: x.strip(\" \").replace('\"', ''))\n",
    "\n",
    "# same format changes I did a couple cells up"
   ]
  },
  {
   "cell_type": "code",
   "execution_count": 55,
   "metadata": {},
   "outputs": [],
   "source": [
    "blue_wins = blue_wins.apply(lambda x: x.replace(\", \", \",\").split(\",\"))\n",
    "red_wins = red_wins.apply(lambda x: x.replace(\", \", \",\").split(\",\"))\n",
    "\n",
    "# same format changes I did a couple cells up"
   ]
  },
  {
   "cell_type": "code",
   "execution_count": 56,
   "metadata": {},
   "outputs": [],
   "source": [
    "wins = list(red_wins) + list(blue_wins)\n",
    "\n",
    "# Now that I have a list of all the champions involved in wins I can make a champion wins dictionary"
   ]
  },
  {
   "cell_type": "code",
   "execution_count": 57,
   "metadata": {},
   "outputs": [],
   "source": [
    "wins_per_champion = {}\n",
    "\n",
    "for win in wins:\n",
    "    for champ in win:\n",
    "        wins_per_champion[champ] = wins_per_champion.get(champ, 0) + 1\n",
    "\n",
    "# for loop that writes my dictionary to find total number of wins each champion has seen"
   ]
  },
  {
   "cell_type": "code",
   "execution_count": 58,
   "metadata": {},
   "outputs": [],
   "source": [
    "blue_losses = df_2[\"blueChampions\"].loc[df_2[\"blueWins\"] == 0].apply(lambda x: x.strip(\"[]\"))\n",
    "red_losses = df_2[\"redChampions\"].loc[df_2[\"blueWins\"] == 1].apply(lambda x: x.strip(\"[]\"))\n",
    "\n",
    "blue_losses = blue_losses.apply(lambda x: x.replace(\", \", \",\").replace('\"','').split(\",\"))\n",
    "red_losses = red_losses.apply(lambda x: x.replace(\", \", \",\").replace('\"', '').split(\",\"))\n",
    "\n",
    "# same format changes but for the losses"
   ]
  },
  {
   "cell_type": "code",
   "execution_count": 59,
   "metadata": {},
   "outputs": [],
   "source": [
    "losses = list(blue_losses) + list(red_losses)\n",
    "\n",
    "# Now that I have a list of all the champions involved in losses I can make a champion losses dictionary"
   ]
  },
  {
   "cell_type": "code",
   "execution_count": 60,
   "metadata": {},
   "outputs": [],
   "source": [
    "losses_per_champion = {}\n",
    "\n",
    "for loss in losses:\n",
    "    for champ in loss:\n",
    "        losses_per_champion[champ] = losses_per_champion.get(champ, 0) + 1\n",
    "\n",
    "# for loop that writes my dictionary to find total number of losses each champion has seen"
   ]
  },
  {
   "cell_type": "code",
   "execution_count": 61,
   "metadata": {},
   "outputs": [],
   "source": [
    "champion_winrates = {}\n",
    "\n",
    "for champ in set(list(wins_per_champion.keys()) + list(losses_per_champion.keys())):\n",
    "    try:\n",
    "        win = wins_per_champion[champ]\n",
    "    except:\n",
    "        win = 0\n",
    "    try:\n",
    "        loss = losses_per_champion[champ]\n",
    "    except:\n",
    "        loss = 0\n",
    "    champion_winrates[champ] = win/(win + loss)\n",
    "    \n",
    "# building a champion winrate dictionary"
   ]
  },
  {
   "cell_type": "code",
   "execution_count": 62,
   "metadata": {},
   "outputs": [],
   "source": [
    "champion1 = blue_losses + red_wins\n",
    "champion2 = blue_wins + red_losses\n",
    "\n",
    "# time to find champion pickrates so we need all the champions in a given game"
   ]
  },
  {
   "cell_type": "code",
   "execution_count": 63,
   "metadata": {},
   "outputs": [],
   "source": [
    "champion_list = list(champion1) + list(champion2)\n",
    "\n",
    "# we now have a list of all ten champions in a game so lets make a pickrate dictionary"
   ]
  },
  {
   "cell_type": "code",
   "execution_count": 64,
   "metadata": {},
   "outputs": [],
   "source": [
    "champion_pickrates = {}\n",
    "\n",
    "for game in champion_list:\n",
    "    for champ in game:\n",
    "        champion_pickrates[champ] = (champion_pickrates.get(champ, 0)+1)\n",
    "\n",
    "# this gets us a dictionary of the number of times a champion was picked"
   ]
  },
  {
   "cell_type": "code",
   "execution_count": 65,
   "metadata": {},
   "outputs": [],
   "source": [
    "for champ in champion_pickrates.keys():\n",
    "    champion_pickrates[champ] = champion_pickrates[champ]/8278\n",
    "# minor fix to give an actual pickrate"
   ]
  },
  {
   "cell_type": "code",
   "execution_count": 66,
   "metadata": {},
   "outputs": [],
   "source": [
    "def average_pickrate(champions):\n",
    "    total = 0\n",
    "    for champ in champions:\n",
    "        total += champion_pickrates[champ]\n",
    "    return total/5\n",
    "\n",
    "def average_winrate(champions):\n",
    "    total = 0\n",
    "    for champ in champions:\n",
    "        total += champion_winrates[champ]\n",
    "    return total/5\n",
    "\n",
    "# making some functions to return an average winrate and pickrate"
   ]
  },
  {
   "cell_type": "code",
   "execution_count": 67,
   "metadata": {},
   "outputs": [],
   "source": [
    "df_2[\"blueChampions\"] = df_2[\"blueChampions\"].map(lambda x: x.strip(\"[]\").replace(\", \", \",\").replace('\"','').split(\",\"))\n",
    "df_2[\"redChampions\"] = df_2[\"redChampions\"].map(lambda x: x.strip(\"[]\").replace(\", \", \",\").replace('\"','').split(\",\"))\n",
    "\n",
    "# same formatting issues as I had been having to do yet again. "
   ]
  },
  {
   "cell_type": "code",
   "execution_count": 68,
   "metadata": {},
   "outputs": [],
   "source": [
    "df_2[\"blueAvgPickrate\"] = df_2[\"blueChampions\"].map(average_pickrate)\n",
    "df_2[\"redAvgPickrate\"] = df_2[\"redChampions\"].map(average_pickrate)\n",
    "\n",
    "# making an average pickrate column for the pro dataframe"
   ]
  },
  {
   "cell_type": "code",
   "execution_count": 69,
   "metadata": {},
   "outputs": [],
   "source": [
    "df_2[\"blueAvgWinrate\"] = df_2[\"blueChampions\"].map(average_winrate)\n",
    "df_2[\"redAvgWinrate\"] = df_2[\"redChampions\"].map(average_winrate)\n",
    "\n",
    "# making an average winrate column for the pro dataframe"
   ]
  },
  {
   "cell_type": "code",
   "execution_count": 71,
   "metadata": {},
   "outputs": [],
   "source": [
    "# df_2.to_csv(\"../../../archive/this_took_way_too_much_effort_LoL_esports.csv\")\n",
    "# imported the updated pro dataframe to a csv"
   ]
  }
 ],
 "metadata": {
  "kernelspec": {
   "display_name": "learn-env",
   "language": "python",
   "name": "learn-env"
  },
  "language_info": {
   "codemirror_mode": {
    "name": "ipython",
    "version": 3
   },
   "file_extension": ".py",
   "mimetype": "text/x-python",
   "name": "python",
   "nbconvert_exporter": "python",
   "pygments_lexer": "ipython3",
   "version": "3.8.5"
  }
 },
 "nbformat": 4,
 "nbformat_minor": 4
}
