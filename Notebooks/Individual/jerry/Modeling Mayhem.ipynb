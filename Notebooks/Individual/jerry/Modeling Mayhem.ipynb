{
 "cells": [
  {
   "cell_type": "code",
   "execution_count": 21,
   "metadata": {},
   "outputs": [],
   "source": [
    "import pandas as pd\n",
    "import numpy as np\n",
    "from sklearn.model_selection import train_test_split as tts\n",
    "from sklearn.model_selection import GridSearchCV\n",
    "from sklearn.tree import DecisionTreeClassifier"
   ]
  },
  {
   "cell_type": "code",
   "execution_count": 27,
   "metadata": {},
   "outputs": [],
   "source": [
    "df_pro = pd.read_csv(\"../../../archive/this_took_way_too_much_effort_LoL_esports.csv\")\n",
    "df_diamond = pd.read_csv(\"../../../archive/with_rates_and_spec_gods_just_better.csv\")"
   ]
  },
  {
   "cell_type": "code",
   "execution_count": 28,
   "metadata": {},
   "outputs": [],
   "source": [
    "df_pro.drop([\"Unnamed: 0\", \"blueFirstBloodAssist\", \"redFirstBloodAssist\"], axis = 1, inplace = True)"
   ]
  },
  {
   "cell_type": "code",
   "execution_count": 29,
   "metadata": {},
   "outputs": [],
   "source": [
    "df_diamond.drop([\"Unnamed: 0\", 'blueHasWukong', 'redHasWukong', 'blueHasNautilus', 'redHasNautilus', 'blueHasKaiSa',\n",
    "                 'redHasKaisa', 'blueHasIrelia', 'redHasIrelia', 'blueHasSylas', 'redHasSylas', 'blueWardsPlaced',\n",
    "                 'blueWardsDestroyed', 'blueDragons', 'blueHeralds', 'blueTowersDestroyed', 'blueAvgLevel', \n",
    "                'blueTotalJungleMinionsKilled', 'redDragons', 'redHeralds', 'redTowersDestroyed', 'redAvgLevel',\n",
    "                'redTotalJungleMinionsKilled', 'redWardsPlaced','redWardsDestroyed'], axis = 1, inplace = True)"
   ]
  },
  {
   "cell_type": "code",
   "execution_count": 34,
   "metadata": {},
   "outputs": [
    {
     "data": {
      "text/plain": [
       "['gameId',\n",
       " 'blueChampions',\n",
       " 'blueWins',\n",
       " 'blueFirstBlood',\n",
       " 'blueTotalExperience',\n",
       " 'blueGoldDiff',\n",
       " 'blueExperienceDiff',\n",
       " 'blueCSDiff',\n",
       " 'blueKills',\n",
       " 'blueAssists',\n",
       " 'blueDeaths',\n",
       " 'redChampions',\n",
       " 'redTotalExperience',\n",
       " 'redAssists',\n",
       " 'blueCSPerMin',\n",
       " 'redCSPerMin',\n",
       " 'blueGoldPerMin',\n",
       " 'redGoldPerMin',\n",
       " 'blueAvgPickrate',\n",
       " 'redAvgPickrate',\n",
       " 'blueAvgWinrate',\n",
       " 'redAvgWinrate']"
      ]
     },
     "execution_count": 34,
     "metadata": {},
     "output_type": "execute_result"
    }
   ],
   "source": [
    "list(df_pro.columns)"
   ]
  },
  {
   "cell_type": "code",
   "execution_count": 35,
   "metadata": {},
   "outputs": [
    {
     "data": {
      "text/plain": [
       "['gameId',\n",
       " 'blueWins',\n",
       " 'blueFirstBlood',\n",
       " 'blueKills',\n",
       " 'blueAssists',\n",
       " 'blueTotalExperience',\n",
       " 'blueGoldDiff',\n",
       " 'blueExperienceDiff',\n",
       " 'blueCSPerMin',\n",
       " 'blueGoldPerMin',\n",
       " 'redWardsPlaced',\n",
       " 'redWardsDestroyed',\n",
       " 'blueDeaths',\n",
       " 'redAssists',\n",
       " 'redTotalExperience',\n",
       " 'redCSPerMin',\n",
       " 'redGoldPerMin',\n",
       " 'blueChampions',\n",
       " 'redChampions',\n",
       " 'bluePredWinrate',\n",
       " 'redPredWinrate',\n",
       " 'blueAvgPickrate',\n",
       " 'redAvgPickrate']"
      ]
     },
     "execution_count": 35,
     "metadata": {},
     "output_type": "execute_result"
    }
   ],
   "source": [
    "list(df_diamond.columns)"
   ]
  },
  {
   "cell_type": "code",
   "execution_count": null,
   "metadata": {},
   "outputs": [],
   "source": []
  }
 ],
 "metadata": {
  "kernelspec": {
   "display_name": "learn-env",
   "language": "python",
   "name": "learn-env"
  },
  "language_info": {
   "codemirror_mode": {
    "name": "ipython",
    "version": 3
   },
   "file_extension": ".py",
   "mimetype": "text/x-python",
   "name": "python",
   "nbconvert_exporter": "python",
   "pygments_lexer": "ipython3",
   "version": "3.8.5"
  }
 },
 "nbformat": 4,
 "nbformat_minor": 4
}
