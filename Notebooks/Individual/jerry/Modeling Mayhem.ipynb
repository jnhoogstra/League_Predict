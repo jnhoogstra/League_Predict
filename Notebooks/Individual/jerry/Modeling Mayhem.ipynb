{
 "cells": [
  {
   "cell_type": "code",
   "execution_count": 58,
   "metadata": {},
   "outputs": [],
   "source": [
    "import pandas as pd\n",
    "import numpy as np\n",
    "from sklearn.model_selection import train_test_split as tts\n",
    "from sklearn.model_selection import GridSearchCV\n",
    "from sklearn.tree import DecisionTreeClassifier\n",
    "\n",
    "# time to see if putting the data together can give me any better results than what I found in the first hour of work"
   ]
  },
  {
   "cell_type": "code",
   "execution_count": 59,
   "metadata": {},
   "outputs": [],
   "source": [
    "df_pro = pd.read_csv(\"../../../archive/this_took_way_too_much_effort_LoL_esports.csv\")\n",
    "df_diamond = pd.read_csv(\"../../../archive/with_rates_and_spec_gods_just_better.csv\")\n",
    "\n",
    "# lets make these two dataframes"
   ]
  },
  {
   "cell_type": "code",
   "execution_count": 60,
   "metadata": {},
   "outputs": [],
   "source": [
    "df_pro.drop([\"blueFirstBloodAssist\", \"redFirstBloodAssist\"], axis = 1, inplace = True)\n",
    "\n",
    "# couple last minute fixes to only include columns each dataframe has"
   ]
  },
  {
   "cell_type": "code",
   "execution_count": 61,
   "metadata": {},
   "outputs": [],
   "source": [
    "df_diamond.drop(['blueHasWukong', 'redHasWukong', 'blueHasNautilus', 'redHasNautilus', 'blueHasKaiSa',\n",
    "                 'redHasKaisa', 'blueHasIrelia', 'redHasIrelia', 'blueHasSylas', 'redHasSylas', 'blueWardsPlaced',\n",
    "                 'blueWardsDestroyed', 'blueDragons', 'blueHeralds', 'blueTowersDestroyed', 'blueAvgLevel', \n",
    "                'blueTotalJungleMinionsKilled', 'redDragons', 'redHeralds', 'redTowersDestroyed', 'redAvgLevel',\n",
    "                'redTotalJungleMinionsKilled', 'redWardsPlaced','redWardsDestroyed'], axis = 1, inplace = True)\n",
    "\n",
    "# couple last minute fixes to only include columns each dataframe has"
   ]
  },
  {
   "cell_type": "code",
   "execution_count": 62,
   "metadata": {},
   "outputs": [],
   "source": [
    "df_pro.rename(columns = {\"blueAvgWinrate\": \"bluePredWinrate\", \"redAvgWinrate\": \"redPredWinrate\"}, inplace = True)\n",
    "\n",
    "# couple last minute fixes to only include columns each dataframe has"
   ]
  },
  {
   "cell_type": "code",
   "execution_count": 63,
   "metadata": {},
   "outputs": [],
   "source": [
    "df_diamond[\"blueCSDiff\"] = df_diamond[\"blueCSPerMin\"]*10 - df_diamond[\"redCSPerMin\"]*10\n",
    "\n",
    "# couple last minute fixes to only include columns each dataframe has"
   ]
  },
  {
   "cell_type": "code",
   "execution_count": 64,
   "metadata": {},
   "outputs": [],
   "source": [
    "df_big_lad = pd.concat([df_pro, df_diamond]).drop([\"gameId\", \"blueChampions\", \"redChampions\"], axis = 1)\n",
    "\n",
    "# lets smash these guys together and see what happens"
   ]
  },
  {
   "cell_type": "code",
   "execution_count": 65,
   "metadata": {},
   "outputs": [
    {
     "data": {
      "text/html": [
       "<div>\n",
       "<style scoped>\n",
       "    .dataframe tbody tr th:only-of-type {\n",
       "        vertical-align: middle;\n",
       "    }\n",
       "\n",
       "    .dataframe tbody tr th {\n",
       "        vertical-align: top;\n",
       "    }\n",
       "\n",
       "    .dataframe thead th {\n",
       "        text-align: right;\n",
       "    }\n",
       "</style>\n",
       "<table border=\"1\" class=\"dataframe\">\n",
       "  <thead>\n",
       "    <tr style=\"text-align: right;\">\n",
       "      <th></th>\n",
       "      <th>Unnamed: 0</th>\n",
       "      <th>blueWins</th>\n",
       "      <th>blueFirstBlood</th>\n",
       "      <th>blueTotalExperience</th>\n",
       "      <th>blueGoldDiff</th>\n",
       "      <th>blueExperienceDiff</th>\n",
       "      <th>blueCSDiff</th>\n",
       "      <th>blueKills</th>\n",
       "      <th>blueAssists</th>\n",
       "      <th>blueDeaths</th>\n",
       "      <th>redTotalExperience</th>\n",
       "      <th>redAssists</th>\n",
       "      <th>blueCSPerMin</th>\n",
       "      <th>redCSPerMin</th>\n",
       "      <th>blueGoldPerMin</th>\n",
       "      <th>redGoldPerMin</th>\n",
       "      <th>blueAvgPickrate</th>\n",
       "      <th>redAvgPickrate</th>\n",
       "      <th>bluePredWinrate</th>\n",
       "      <th>redPredWinrate</th>\n",
       "    </tr>\n",
       "  </thead>\n",
       "  <tbody>\n",
       "    <tr>\n",
       "      <th>0</th>\n",
       "      <td>0</td>\n",
       "      <td>1</td>\n",
       "      <td>1.0</td>\n",
       "      <td>20459.0</td>\n",
       "      <td>1793.0</td>\n",
       "      <td>2365.0</td>\n",
       "      <td>65.0</td>\n",
       "      <td>1.0</td>\n",
       "      <td>0.0</td>\n",
       "      <td>0.0</td>\n",
       "      <td>18094.0</td>\n",
       "      <td>0.0</td>\n",
       "      <td>38.2</td>\n",
       "      <td>31.7</td>\n",
       "      <td>1629.1</td>\n",
       "      <td>1449.8</td>\n",
       "      <td>0.089224</td>\n",
       "      <td>0.147306</td>\n",
       "      <td>0.485575</td>\n",
       "      <td>0.488385</td>\n",
       "    </tr>\n",
       "    <tr>\n",
       "      <th>1</th>\n",
       "      <td>1</td>\n",
       "      <td>0</td>\n",
       "      <td>1.0</td>\n",
       "      <td>19210.0</td>\n",
       "      <td>759.0</td>\n",
       "      <td>171.0</td>\n",
       "      <td>-8.0</td>\n",
       "      <td>1.0</td>\n",
       "      <td>3.0</td>\n",
       "      <td>0.0</td>\n",
       "      <td>19039.0</td>\n",
       "      <td>0.0</td>\n",
       "      <td>34.0</td>\n",
       "      <td>34.8</td>\n",
       "      <td>1562.3</td>\n",
       "      <td>1486.4</td>\n",
       "      <td>0.230080</td>\n",
       "      <td>0.125320</td>\n",
       "      <td>0.503757</td>\n",
       "      <td>0.481830</td>\n",
       "    </tr>\n",
       "    <tr>\n",
       "      <th>2</th>\n",
       "      <td>2</td>\n",
       "      <td>0</td>\n",
       "      <td>1.0</td>\n",
       "      <td>16987.0</td>\n",
       "      <td>73.0</td>\n",
       "      <td>-1.0</td>\n",
       "      <td>-24.0</td>\n",
       "      <td>3.0</td>\n",
       "      <td>3.0</td>\n",
       "      <td>2.0</td>\n",
       "      <td>16988.0</td>\n",
       "      <td>4.0</td>\n",
       "      <td>27.5</td>\n",
       "      <td>29.9</td>\n",
       "      <td>1504.3</td>\n",
       "      <td>1497.0</td>\n",
       "      <td>0.139865</td>\n",
       "      <td>0.098864</td>\n",
       "      <td>0.492928</td>\n",
       "      <td>0.500795</td>\n",
       "    </tr>\n",
       "    <tr>\n",
       "      <th>3</th>\n",
       "      <td>3</td>\n",
       "      <td>0</td>\n",
       "      <td>1.0</td>\n",
       "      <td>19640.0</td>\n",
       "      <td>732.0</td>\n",
       "      <td>75.0</td>\n",
       "      <td>20.0</td>\n",
       "      <td>1.0</td>\n",
       "      <td>1.0</td>\n",
       "      <td>0.0</td>\n",
       "      <td>19565.0</td>\n",
       "      <td>0.0</td>\n",
       "      <td>38.0</td>\n",
       "      <td>36.0</td>\n",
       "      <td>1617.7</td>\n",
       "      <td>1544.5</td>\n",
       "      <td>0.121817</td>\n",
       "      <td>0.202464</td>\n",
       "      <td>0.479112</td>\n",
       "      <td>0.510519</td>\n",
       "    </tr>\n",
       "    <tr>\n",
       "      <th>4</th>\n",
       "      <td>4</td>\n",
       "      <td>0</td>\n",
       "      <td>0.0</td>\n",
       "      <td>20020.0</td>\n",
       "      <td>1502.0</td>\n",
       "      <td>1164.0</td>\n",
       "      <td>40.0</td>\n",
       "      <td>2.0</td>\n",
       "      <td>2.0</td>\n",
       "      <td>1.0</td>\n",
       "      <td>18856.0</td>\n",
       "      <td>1.0</td>\n",
       "      <td>36.1</td>\n",
       "      <td>32.1</td>\n",
       "      <td>1675.2</td>\n",
       "      <td>1525.0</td>\n",
       "      <td>0.166755</td>\n",
       "      <td>0.188089</td>\n",
       "      <td>0.494337</td>\n",
       "      <td>0.522972</td>\n",
       "    </tr>\n",
       "  </tbody>\n",
       "</table>\n",
       "</div>"
      ],
      "text/plain": [
       "   Unnamed: 0  blueWins  blueFirstBlood  blueTotalExperience  blueGoldDiff  \\\n",
       "0           0         1             1.0              20459.0        1793.0   \n",
       "1           1         0             1.0              19210.0         759.0   \n",
       "2           2         0             1.0              16987.0          73.0   \n",
       "3           3         0             1.0              19640.0         732.0   \n",
       "4           4         0             0.0              20020.0        1502.0   \n",
       "\n",
       "   blueExperienceDiff  blueCSDiff  blueKills  blueAssists  blueDeaths  \\\n",
       "0              2365.0        65.0        1.0          0.0         0.0   \n",
       "1               171.0        -8.0        1.0          3.0         0.0   \n",
       "2                -1.0       -24.0        3.0          3.0         2.0   \n",
       "3                75.0        20.0        1.0          1.0         0.0   \n",
       "4              1164.0        40.0        2.0          2.0         1.0   \n",
       "\n",
       "   redTotalExperience  redAssists  blueCSPerMin  redCSPerMin  blueGoldPerMin  \\\n",
       "0             18094.0         0.0          38.2         31.7          1629.1   \n",
       "1             19039.0         0.0          34.0         34.8          1562.3   \n",
       "2             16988.0         4.0          27.5         29.9          1504.3   \n",
       "3             19565.0         0.0          38.0         36.0          1617.7   \n",
       "4             18856.0         1.0          36.1         32.1          1675.2   \n",
       "\n",
       "   redGoldPerMin  blueAvgPickrate  redAvgPickrate  bluePredWinrate  \\\n",
       "0         1449.8         0.089224        0.147306         0.485575   \n",
       "1         1486.4         0.230080        0.125320         0.503757   \n",
       "2         1497.0         0.139865        0.098864         0.492928   \n",
       "3         1544.5         0.121817        0.202464         0.479112   \n",
       "4         1525.0         0.166755        0.188089         0.494337   \n",
       "\n",
       "   redPredWinrate  \n",
       "0        0.488385  \n",
       "1        0.481830  \n",
       "2        0.500795  \n",
       "3        0.510519  \n",
       "4        0.522972  "
      ]
     },
     "execution_count": 65,
     "metadata": {},
     "output_type": "execute_result"
    }
   ],
   "source": [
    "df_big_lad.head()"
   ]
  },
  {
   "cell_type": "code",
   "execution_count": 66,
   "metadata": {},
   "outputs": [],
   "source": [
    "X = df_big_lad.drop(\"blueWins\", axis = 1)\n",
    "y = df_big_lad[\"blueWins\"]\n",
    "\n",
    "# making a target and variables"
   ]
  },
  {
   "cell_type": "code",
   "execution_count": 67,
   "metadata": {},
   "outputs": [],
   "source": [
    "X_train, X_test, y_train, y_test = tts(X, y, random_state = 42)\n",
    "\n",
    "# making a training and test set"
   ]
  },
  {
   "cell_type": "code",
   "execution_count": 71,
   "metadata": {},
   "outputs": [],
   "source": [
    "tree = DecisionTreeClassifier()\n",
    "\n",
    "# lets try a decision tree model"
   ]
  },
  {
   "cell_type": "code",
   "execution_count": 72,
   "metadata": {},
   "outputs": [],
   "source": [
    "params = {\n",
    "    \"criterion\": [\"gini\", \"entropy\"],\n",
    "    \"max_depth\": [None, 2, 4, 6, 8, 10, 15, 20, 25, 30, 40, 50],\n",
    "    \"min_samples_split\": [2, 4, 6, 8, 10, 15, 20, 25],\n",
    "    \"min_samples_leaf\": [1, 3, 5, 7, 9, 13, 15],\n",
    "    \"max_features\": [None, \"auto\", \"sqrt\", \"log2\"]\n",
    "}\n",
    "\n",
    "# give me all the parameters I can wait"
   ]
  },
  {
   "cell_type": "code",
   "execution_count": 76,
   "metadata": {},
   "outputs": [
    {
     "data": {
      "text/plain": [
       "GridSearchCV(cv=10, estimator=DecisionTreeClassifier(),\n",
       "             param_grid={'criterion': ['gini', 'entropy'],\n",
       "                         'max_depth': [None, 2, 4, 6, 8, 10, 15, 20, 25, 30, 40,\n",
       "                                       50],\n",
       "                         'max_features': [None, 'auto', 'sqrt', 'log2'],\n",
       "                         'min_samples_leaf': [1, 3, 5, 7, 9, 13, 15],\n",
       "                         'min_samples_split': [2, 4, 6, 8, 10, 15, 20, 25]},\n",
       "             scoring='accuracy')"
      ]
     },
     "execution_count": 76,
     "metadata": {},
     "output_type": "execute_result"
    }
   ],
   "source": [
    "grid_search_tree = GridSearchCV(tree, params, cv = 10, scoring = \"accuracy\")\n",
    "grid_search_tree.fit(X_train, y_train)\n",
    "\n",
    "# lets find the best paramaters there are for accuracy"
   ]
  },
  {
   "cell_type": "code",
   "execution_count": 77,
   "metadata": {},
   "outputs": [
    {
     "data": {
      "text/plain": [
       "{'criterion': 'gini',\n",
       " 'max_depth': 6,\n",
       " 'max_features': 'sqrt',\n",
       " 'min_samples_leaf': 3,\n",
       " 'min_samples_split': 6}"
      ]
     },
     "execution_count": 77,
     "metadata": {},
     "output_type": "execute_result"
    }
   ],
   "source": [
    "grid_search_tree.best_params_\n",
    "\n",
    "# here are the best parameters to use to have the best accuracy value possible"
   ]
  },
  {
   "cell_type": "code",
   "execution_count": 78,
   "metadata": {},
   "outputs": [
    {
     "data": {
      "text/plain": [
       "DecisionTreeClassifier(max_depth=6, max_features='sqrt', min_samples_leaf=3,\n",
       "                       min_samples_split=6)"
      ]
     },
     "execution_count": 78,
     "metadata": {},
     "output_type": "execute_result"
    }
   ],
   "source": [
    "tree_best = DecisionTreeClassifier(criterion = \"gini\", max_depth = 6, max_features = \"sqrt\", min_samples_leaf = 3,\n",
    "                                  min_samples_split = 6)\n",
    "tree_best.fit(X_train, y_train)\n",
    "\n",
    "# now let us use the decision tree using the best parameters we were given"
   ]
  },
  {
   "cell_type": "code",
   "execution_count": 79,
   "metadata": {},
   "outputs": [
    {
     "data": {
      "text/plain": [
       "0.7080209043399227"
      ]
     },
     "execution_count": 79,
     "metadata": {},
     "output_type": "execute_result"
    }
   ],
   "source": [
    "tree_best.score(X_test, y_test)\n",
    "\n",
    "# andddddddd the accuracy was worse than what I found on Monday I'm thrilled to see this!"
   ]
  },
  {
   "cell_type": "code",
   "execution_count": 80,
   "metadata": {},
   "outputs": [],
   "source": [
    "from sklearn.ensemble import RandomForestClassifier"
   ]
  },
  {
   "cell_type": "code",
   "execution_count": 81,
   "metadata": {},
   "outputs": [],
   "source": [
    "forest = RandomForestClassifier()\n",
    "\n",
    "# what about a random forest? this has got to be better right?"
   ]
  },
  {
   "cell_type": "code",
   "execution_count": 82,
   "metadata": {},
   "outputs": [],
   "source": [
    "params[\"n_estimators\"] = [100, 150, 200, 300, 400, 500]\n",
    "\n",
    "# even more parameters because that was probably the issue last time"
   ]
  },
  {
   "cell_type": "code",
   "execution_count": null,
   "metadata": {},
   "outputs": [],
   "source": [
    "grid_search_forest = GridSearchCV(forest, params, cv = 10, scoring = \"accuracy\")\n",
    "grid_search_forest.fit(X_train, y_train)\n",
    "\n",
    "# this code has been going for over 24 hours now, I did the math and just maybe used too many parameters as it is \n",
    "# looking through over 320 thousand possibilities"
   ]
  },
  {
   "cell_type": "code",
   "execution_count": null,
   "metadata": {},
   "outputs": [],
   "source": [
    "grid_search_forest.best_params_\n",
    "\n",
    "# wishful thinking code that maybe just maybe will run someday"
   ]
  }
 ],
 "metadata": {
  "kernelspec": {
   "display_name": "learn-env",
   "language": "python",
   "name": "learn-env"
  },
  "language_info": {
   "codemirror_mode": {
    "name": "ipython",
    "version": 3
   },
   "file_extension": ".py",
   "mimetype": "text/x-python",
   "name": "python",
   "nbconvert_exporter": "python",
   "pygments_lexer": "ipython3",
   "version": "3.8.5"
  }
 },
 "nbformat": 4,
 "nbformat_minor": 4
}
