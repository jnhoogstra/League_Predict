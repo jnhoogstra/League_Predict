{
 "cells": [
  {
   "cell_type": "code",
   "execution_count": 102,
   "metadata": {},
   "outputs": [],
   "source": [
    "import pandas as pd\n",
    "pd.set_option(\"display.max_columns\", None)\n",
    "\n",
    "df_1 = pd.read_csv(\"../../../archive/with_rates_and_spec_gods.csv\")\n",
    "df_2 = pd.read_csv(\"../../../archive/2021_LoL_esports_match_data_from_SpinelessCoward_20210713.csv\")"
   ]
  },
  {
   "cell_type": "code",
   "execution_count": 103,
   "metadata": {},
   "outputs": [],
   "source": [
    "df_1.rename(columns = {\"blueChamps\": \"blueChampions\", \"redChamps\": \"redChampions\", \"redKills\": \"blueDeaths\",\n",
    "                      \"blueHas62\": \"blueHasWukong\", \"redHas62\": \"redHasWukong\", \"blueHas111\": \"blueHasNautilus\",\n",
    "                      \"redHas111\": \"redHasNautilus\", \"blueHas145\": \"blueHasKaiSa\", \"redHas145\": \"redHasKaisa\",\n",
    "                      \"blueHas39\": \"blueHasIrelia\", \"redHas39\": \"redHasIrelia\", \"blueHas517\": \"blueHasSylas\",\n",
    "                      \"redHas517\": \"redHasSylas\"}, inplace = True)"
   ]
  },
  {
   "cell_type": "code",
   "execution_count": 104,
   "metadata": {},
   "outputs": [],
   "source": [
    "df_2[\"blueCSPerMin\"], df_2[\"redCSPerMin\"] = df_2[\"blueTotalCS\"]/10, df_2[\"redTotalCS\"]/10\n",
    "df_2[\"blueGoldPerMin\"], df_2[\"redGoldPerMin\"] = df_2[\"blueTotalGold\"]/10, df_2[\"redTotalGold\"]/10\n",
    "df_2 = df_2.drop([\"blueTotalCS\", \"redTotalCS\", \"blueTotalGold\", \"redTotalGold\"], axis = 1)"
   ]
  },
  {
   "cell_type": "code",
   "execution_count": 105,
   "metadata": {},
   "outputs": [],
   "source": [
    "import pickle\n",
    "\n",
    "waifu = pickle.load(open(\"../../../Pickles/WaifuDictionary.pkl\", \"rb\"))"
   ]
  },
  {
   "cell_type": "code",
   "execution_count": 106,
   "metadata": {},
   "outputs": [],
   "source": [
    "df_blueChampions, df_redChampions = df_1[\"blueChampions\"], df_1[\"redChampions\"]"
   ]
  },
  {
   "cell_type": "code",
   "execution_count": 107,
   "metadata": {},
   "outputs": [],
   "source": [
    "df_blueChampions = df_blueChampions.apply(lambda x: x.strip(\"[]\"))\n",
    "df_redChampions = df_redChampions.apply(lambda x: x.strip(\"[]\"))"
   ]
  },
  {
   "cell_type": "code",
   "execution_count": 108,
   "metadata": {},
   "outputs": [],
   "source": [
    "df_blueChampions = df_blueChampions.apply(lambda x: x.replace(\" \", \"\").split(\",\"))\n",
    "df_redChampions = df_redChampions.apply(lambda x: x.replace(\" \", \"\").split(\",\"))"
   ]
  },
  {
   "cell_type": "code",
   "execution_count": 109,
   "metadata": {},
   "outputs": [],
   "source": [
    "dict_i = {}\n",
    "for i in range(1,156):\n",
    "    number = waifu[i][\"key\"]\n",
    "    name = waifu[i][\"id\"]\n",
    "    dict_i[number] = name"
   ]
  },
  {
   "cell_type": "code",
   "execution_count": 110,
   "metadata": {},
   "outputs": [],
   "source": [
    "for i in range(len(df_blueChampions)):\n",
    "    champs = []\n",
    "    for x in range(5):\n",
    "        champ = dict_i[df_blueChampions.iloc[i][x]]\n",
    "        champs.append(champ)\n",
    "                \n",
    "    df_blueChampions.iloc[i] = champs"
   ]
  },
  {
   "cell_type": "code",
   "execution_count": 111,
   "metadata": {},
   "outputs": [],
   "source": [
    "for i in range(len(df_redChampions)):\n",
    "    champs = []\n",
    "    for x in range(5):\n",
    "        champ = dict_i[df_redChampions.iloc[i][x]]\n",
    "        champs.append(champ)\n",
    "                \n",
    "    df_redChampions.iloc[i] = champs"
   ]
  },
  {
   "cell_type": "code",
   "execution_count": 112,
   "metadata": {},
   "outputs": [],
   "source": [
    "df_1[\"blueChampions\"], df_1[\"redChampions\"] = df_blueChampions, df_redChampions"
   ]
  },
  {
   "cell_type": "code",
   "execution_count": 113,
   "metadata": {},
   "outputs": [],
   "source": [
    "# df_1.to_csv(\"../../../archive/with_rates_and_spec_gods_just_better.csv\")"
   ]
  },
  {
   "cell_type": "code",
   "execution_count": 115,
   "metadata": {},
   "outputs": [],
   "source": [
    "df_2[\"blueChampions\"] = df_2[\"blueChampions\"].apply(lambda x: x.replace(\"'\", \"\"))\n",
    "df_2[\"redChampions\"] = df_2[\"redChampions\"].apply(lambda x: x.replace(\"'\", \"\"))"
   ]
  },
  {
   "cell_type": "code",
   "execution_count": 116,
   "metadata": {},
   "outputs": [],
   "source": [
    "blue_wins = df_2[\"blueChampions\"].loc[df_2[\"blueWins\"] == 1].apply(lambda x: x.strip(\"[]\"))\n",
    "red_wins = df_2[\"redChampions\"].loc[df_2[\"blueWins\"] == 0].apply(lambda x: x.strip(\"[]\"))"
   ]
  },
  {
   "cell_type": "code",
   "execution_count": 117,
   "metadata": {},
   "outputs": [],
   "source": [
    "blue_wins = blue_wins.apply(lambda x: x.strip(\" \").replace('\"', ''))\n",
    "red_wins = red_wins.apply(lambda x: x.strip(\" \").replace('\"', ''))"
   ]
  },
  {
   "cell_type": "code",
   "execution_count": 118,
   "metadata": {},
   "outputs": [],
   "source": [
    "blue_wins = blue_wins.apply(lambda x: x.replace(\", \", \",\").split(\",\"))\n",
    "red_wins = red_wins.apply(lambda x: x.replace(\", \", \",\").split(\",\"))"
   ]
  },
  {
   "cell_type": "code",
   "execution_count": 119,
   "metadata": {},
   "outputs": [],
   "source": [
    "wins = list(red_wins) + list(blue_wins)"
   ]
  },
  {
   "cell_type": "code",
   "execution_count": 120,
   "metadata": {},
   "outputs": [],
   "source": [
    "wins_per_champion = {}\n",
    "\n",
    "for win in wins:\n",
    "    for champ in win:\n",
    "        wins_per_champion[champ] = wins_per_champion.get(champ, 0) + 1"
   ]
  },
  {
   "cell_type": "code",
   "execution_count": 121,
   "metadata": {},
   "outputs": [],
   "source": [
    "blue_losses = df_2[\"blueChampions\"].loc[df_2[\"blueWins\"] == 0].apply(lambda x: x.strip(\"[]\"))\n",
    "red_losses = df_2[\"redChampions\"].loc[df_2[\"blueWins\"] == 1].apply(lambda x: x.strip(\"[]\"))\n",
    "\n",
    "blue_losses = blue_losses.apply(lambda x: x.replace(\", \", \",\").replace('\"','').split(\",\"))\n",
    "red_losses = red_losses.apply(lambda x: x.replace(\", \", \",\").replace('\"', '').split(\",\"))"
   ]
  },
  {
   "cell_type": "code",
   "execution_count": 122,
   "metadata": {},
   "outputs": [],
   "source": [
    "losses = list(blue_losses) + list(red_losses)"
   ]
  },
  {
   "cell_type": "code",
   "execution_count": 123,
   "metadata": {},
   "outputs": [],
   "source": [
    "losses_per_champion = {}\n",
    "\n",
    "for loss in losses:\n",
    "    for champ in loss:\n",
    "        losses_per_champion[champ] = losses_per_champion.get(champ, 0) + 1"
   ]
  },
  {
   "cell_type": "code",
   "execution_count": 124,
   "metadata": {},
   "outputs": [],
   "source": [
    "champion_winrates = {}\n",
    "\n",
    "for champ in set(list(wins_per_champion.keys()) + list(losses_per_champion.keys())):\n",
    "    try:\n",
    "        win = wins_per_champion[champ]\n",
    "    except:\n",
    "        win = 0\n",
    "    try:\n",
    "        loss = losses_per_champion[champ]\n",
    "    except:\n",
    "        loss = 0\n",
    "    champion_winrates[champ] = win/(win + loss)"
   ]
  },
  {
   "cell_type": "code",
   "execution_count": 125,
   "metadata": {},
   "outputs": [],
   "source": [
    "champion1 = blue_losses + red_wins\n",
    "champion2 = blue_wins + red_losses"
   ]
  },
  {
   "cell_type": "code",
   "execution_count": 126,
   "metadata": {},
   "outputs": [],
   "source": [
    "champion_list = list(champion1) + list(champion2)"
   ]
  },
  {
   "cell_type": "code",
   "execution_count": 127,
   "metadata": {},
   "outputs": [],
   "source": [
    "champion_pickrates = {}\n",
    "\n",
    "for game in champion_list:\n",
    "    for champ in game:\n",
    "        champion_pickrates[champ] = (champion_pickrates.get(champ, 0)+1)"
   ]
  },
  {
   "cell_type": "code",
   "execution_count": 128,
   "metadata": {},
   "outputs": [],
   "source": [
    "for champ in champion_pickrates.keys():\n",
    "    champion_pickrates[champ] = champion_pickrates[champ]/8278"
   ]
  },
  {
   "cell_type": "code",
   "execution_count": 129,
   "metadata": {},
   "outputs": [],
   "source": [
    "def average_pickrate(champions):\n",
    "    total = 0\n",
    "    for champ in champions:\n",
    "        total += champion_pickrates[champ]\n",
    "    return total/5\n",
    "\n",
    "def average_winrate(champions):\n",
    "    total = 0\n",
    "    for champ in champions:\n",
    "        total += champion_winrates[champ]\n",
    "    return total/5"
   ]
  },
  {
   "cell_type": "code",
   "execution_count": 130,
   "metadata": {},
   "outputs": [],
   "source": [
    "df_2[\"blueChampions\"] = df_2[\"blueChampions\"].map(lambda x: x.strip(\"[]\").replace(\", \", \",\").replace('\"','').split(\",\"))\n",
    "df_2[\"redChampions\"] = df_2[\"redChampions\"].map(lambda x: x.strip(\"[]\").replace(\", \", \",\").replace('\"','').split(\",\"))"
   ]
  },
  {
   "cell_type": "code",
   "execution_count": 131,
   "metadata": {},
   "outputs": [],
   "source": [
    "df_2[\"blueAvgPickrate\"] = df_2[\"blueChampions\"].map(average_pickrate)\n",
    "df_2[\"redAvgPickrate\"] = df_2[\"redChampions\"].map(average_pickrate)"
   ]
  },
  {
   "cell_type": "code",
   "execution_count": 132,
   "metadata": {},
   "outputs": [],
   "source": [
    "df_2[\"blueAvgWinrate\"] = df_2[\"blueChampions\"].map(average_winrate)\n",
    "df_2[\"redAvgWinrate\"] = df_2[\"redChampions\"].map(average_winrate)"
   ]
  },
  {
   "cell_type": "code",
   "execution_count": 133,
   "metadata": {},
   "outputs": [],
   "source": [
    "# df_2.to_csv(\"../../../archive/this_took_way_too_much_effort_LoL_esports.csv\")"
   ]
  }
 ],
 "metadata": {
  "kernelspec": {
   "display_name": "learn-env",
   "language": "python",
   "name": "learn-env"
  },
  "language_info": {
   "codemirror_mode": {
    "name": "ipython",
    "version": 3
   },
   "file_extension": ".py",
   "mimetype": "text/x-python",
   "name": "python",
   "nbconvert_exporter": "python",
   "pygments_lexer": "ipython3",
   "version": "3.8.5"
  }
 },
 "nbformat": 4,
 "nbformat_minor": 4
}
