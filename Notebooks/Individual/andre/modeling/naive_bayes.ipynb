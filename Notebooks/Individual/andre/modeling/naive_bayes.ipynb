{
 "cells": [
  {
   "cell_type": "code",
   "execution_count": 1,
   "id": "99daef99-b211-45cb-a41d-dee38bba63d1",
   "metadata": {},
   "outputs": [],
   "source": [
    "import pandas as pd"
   ]
  },
  {
   "cell_type": "code",
   "execution_count": 2,
   "id": "6a772b7a-b2c0-4782-b0a2-2bd403ab5f68",
   "metadata": {},
   "outputs": [],
   "source": [
    "df = pd.read_csv('../../../../archive/With_champ_names.csv')"
   ]
  },
  {
   "cell_type": "code",
   "execution_count": 3,
   "id": "27d5b300-c467-4e5d-87cc-ee0466c17fad",
   "metadata": {},
   "outputs": [
    {
     "data": {
      "text/plain": [
       "Index(['gameId', 'blueWins', 'blueWardsPlaced', 'blueWardsDestroyed',\n",
       "       'blueFirstBlood', 'blueKills', 'blueAssists', 'blueDragons',\n",
       "       'blueHeralds', 'blueTowersDestroyed', 'blueAvgLevel',\n",
       "       'blueTotalExperience', 'blueTotalJungleMinionsKilled', 'blueGoldDiff',\n",
       "       'blueExperienceDiff', 'blueCSPerMin', 'blueGoldPerMin',\n",
       "       'redWardsPlaced', 'redWardsDestroyed', 'redKills', 'redAssists',\n",
       "       'redDragons', 'redHeralds', 'redTowersDestroyed', 'redAvgLevel',\n",
       "       'redTotalExperience', 'redTotalJungleMinionsKilled', 'redCSPerMin',\n",
       "       'redGoldPerMin', 'blueChamps', 'redChamps', 'bluePredWinrate',\n",
       "       'redPredWinrate', 'blueAvgPickrate', 'redAvgPickrate', 'blueHas62',\n",
       "       'redHas62', 'blueHas111', 'redHas111', 'blueHas145', 'redHas145',\n",
       "       'blueHas39', 'redHas39', 'blueHas517', 'redHas517', 'roles',\n",
       "       'blueRoles', 'redRoles', 'blueConventional', 'redConventional',\n",
       "       'blueBottoms', 'blueMiddles', 'blueTops', 'blueJungles', 'redBottoms',\n",
       "       'redMiddles', 'redTops', 'redJungles'],\n",
       "      dtype='object')"
      ]
     },
     "execution_count": 3,
     "metadata": {},
     "output_type": "execute_result"
    }
   ],
   "source": [
    "df.columns"
   ]
  },
  {
   "cell_type": "code",
   "execution_count": 4,
   "id": "42acc97f-e730-4ad3-9f39-a2fd85874404",
   "metadata": {},
   "outputs": [],
   "source": [
    "df.drop(['gameId', 'blueChamps','redChamps','roles','blueRoles','redRoles'], axis = 1, inplace = True)"
   ]
  },
  {
   "cell_type": "code",
   "execution_count": 5,
   "id": "4b503779-6fc1-4c2b-adc0-55a1b6e8358e",
   "metadata": {},
   "outputs": [],
   "source": [
    "from sklearn.model_selection import cross_val_score as cvs\n",
    "from sklearn.naive_bayes import GaussianNB as GNB"
   ]
  },
  {
   "cell_type": "code",
   "execution_count": 6,
   "id": "21571681-44ef-404c-8cdd-02c617ee65c8",
   "metadata": {},
   "outputs": [],
   "source": [
    "X = df.drop('blueWins', axis = 1)\n",
    "y = df['blueWins']"
   ]
  },
  {
   "cell_type": "code",
   "execution_count": 7,
   "id": "9b5f7c48-95e9-45fa-83e2-6fea3bf0d265",
   "metadata": {},
   "outputs": [
    {
     "data": {
      "text/plain": [
       "array([0.73279352, 0.7145749 , 0.72216599, 0.7332996 , 0.72455696])"
      ]
     },
     "execution_count": 7,
     "metadata": {},
     "output_type": "execute_result"
    }
   ],
   "source": [
    "clf = GNB()\n",
    "cvs(clf, X, y, scoring = 'accuracy', cv = 5)"
   ]
  }
 ],
 "metadata": {
  "kernelspec": {
   "display_name": "learn-env",
   "language": "python",
   "name": "learn-env"
  },
  "language_info": {
   "codemirror_mode": {
    "name": "ipython",
    "version": 3
   },
   "file_extension": ".py",
   "mimetype": "text/x-python",
   "name": "python",
   "nbconvert_exporter": "python",
   "pygments_lexer": "ipython3",
   "version": "3.8.5"
  }
 },
 "nbformat": 4,
 "nbformat_minor": 5
}
