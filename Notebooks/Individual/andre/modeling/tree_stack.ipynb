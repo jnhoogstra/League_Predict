{
 "cells": [
  {
   "cell_type": "code",
   "execution_count": 1,
   "id": "430227d9-de41-4969-a8d5-42d55ffbbe4f",
   "metadata": {},
   "outputs": [],
   "source": [
    "import pandas as pd"
   ]
  },
  {
   "cell_type": "code",
   "execution_count": 2,
   "id": "5cba699c-397b-4d0b-a5d8-5698c31fd259",
   "metadata": {},
   "outputs": [],
   "source": [
    "df = pd.read_csv('../../../../archive/with_rates_and_spec_gods.csv')"
   ]
  },
  {
   "cell_type": "code",
   "execution_count": 3,
   "id": "81f24086-473c-426c-aa32-d2fac6cc5136",
   "metadata": {},
   "outputs": [],
   "source": [
    "df.drop(['gameId','blueChamps','redChamps'], axis = 1, inplace = True)"
   ]
  },
  {
   "cell_type": "code",
   "execution_count": 4,
   "id": "0a5e6f9d-f3db-4d56-890c-8ab6883dcd8b",
   "metadata": {},
   "outputs": [],
   "source": [
    "X = df.drop('blueWins', axis = 1)\n",
    "y = df['blueWins']"
   ]
  },
  {
   "cell_type": "code",
   "execution_count": 5,
   "id": "ea369d62-171d-46d8-9109-8d1f70ddbaa0",
   "metadata": {},
   "outputs": [],
   "source": [
    "from sklearn.model_selection import train_test_split as t_t_s\n",
    "\n",
    "X_train, X_test, y_train, y_test = t_t_s(X, y)"
   ]
  },
  {
   "cell_type": "code",
   "execution_count": 6,
   "id": "a364f1b1-e0ef-41a1-a6b2-1e4e41b4e50e",
   "metadata": {},
   "outputs": [],
   "source": [
    "from sklearn.ensemble import RandomForestClassifier\n",
    "from sklearn.model_selection import GridSearchCV\n",
    "\n",
    "forest = RandomForestClassifier()\n",
    "\n",
    "params = {\n",
    "    'n_estimators':[50,100,150],\n",
    "    'criterion':['gini','entropy'],\n",
    "    'max_depth':[20,25,30,35,40],\n",
    "    'min_samples_leaf':[1,5,10]\n",
    "}"
   ]
  },
  {
   "cell_type": "code",
   "execution_count": null,
   "id": "91db1372-6aae-4789-b855-fdb3a25d42f3",
   "metadata": {},
   "outputs": [],
   "source": [
    "grid = GridSearchCV(forest, params, scoring = 'accuracy')\n",
    "grid.fit(X_train, y_train)"
   ]
  },
  {
   "cell_type": "code",
   "execution_count": null,
   "id": "4db481fa-9cc7-4ffc-b756-ae120ab2b783",
   "metadata": {},
   "outputs": [],
   "source": [
    "grid.best_params_"
   ]
  },
  {
   "cell_type": "code",
   "execution_count": null,
   "id": "434e3b0e-6a1e-4e7b-8f08-6c23b9f189f8",
   "metadata": {},
   "outputs": [],
   "source": [
    "best_forest = RandomForestClassifier(**grid.best_params_)\n",
    "\n",
    "best_forest.fit(X_train, y_train)"
   ]
  },
  {
   "cell_type": "code",
   "execution_count": null,
   "id": "9039b889-4b6d-457e-9b5a-88376f9468ea",
   "metadata": {},
   "outputs": [],
   "source": [
    "best_forest.score(X_train, y_train)"
   ]
  },
  {
   "cell_type": "code",
   "execution_count": null,
   "id": "0dec4fe8-f755-4ea1-93c0-e471dea448c9",
   "metadata": {},
   "outputs": [],
   "source": [
    "best_forest.score(X_test, y_test)"
   ]
  },
  {
   "cell_type": "code",
   "execution_count": null,
   "id": "2e31cbf9-d0f3-4e95-aeaa-bac1d0f9d229",
   "metadata": {},
   "outputs": [],
   "source": [
    "names = ['tree'+str(i) for i in range(100)]\n",
    "estimators = zip(names, best_forest.estimators_)"
   ]
  },
  {
   "cell_type": "code",
   "execution_count": null,
   "id": "c9edd522-9337-4b96-8e9a-9d5ae14e3ea3",
   "metadata": {},
   "outputs": [],
   "source": [
    "estimator_list = [(i,j) for i,j in estimators]"
   ]
  },
  {
   "cell_type": "code",
   "execution_count": null,
   "id": "f3fb81b7-553e-42b6-b218-517a1240b643",
   "metadata": {},
   "outputs": [],
   "source": [
    "from sklearn.ensemble import StackingClassifier\n",
    "from sklearn.svm import SVC\n",
    "\n",
    "stack = StackingClassifier(estimators = estimator_list,\n",
    "                           final_estimator = RandomForestClassifier(max_depth = 75,\n",
    "                                                                    min_samples_leaf = 30))"
   ]
  },
  {
   "cell_type": "code",
   "execution_count": null,
   "id": "bf374206-c33d-4ebb-affa-557c95d57b34",
   "metadata": {},
   "outputs": [],
   "source": [
    "stack.fit(X_train, y_train)"
   ]
  },
  {
   "cell_type": "code",
   "execution_count": null,
   "id": "5ebf23d6-2ec4-4561-a38a-2300395defcd",
   "metadata": {},
   "outputs": [],
   "source": [
    "stack.score(X_train, y_train)"
   ]
  },
  {
   "cell_type": "code",
   "execution_count": null,
   "id": "1efa40ba-74ea-48a0-bd74-8067299340d0",
   "metadata": {},
   "outputs": [],
   "source": [
    "stack.score(X_test, y_test)"
   ]
  }
 ],
 "metadata": {
  "kernelspec": {
   "display_name": "learn-env",
   "language": "python",
   "name": "learn-env"
  },
  "language_info": {
   "codemirror_mode": {
    "name": "ipython",
    "version": 3
   },
   "file_extension": ".py",
   "mimetype": "text/x-python",
   "name": "python",
   "nbconvert_exporter": "python",
   "pygments_lexer": "ipython3",
   "version": "3.8.5"
  }
 },
 "nbformat": 4,
 "nbformat_minor": 5
}
