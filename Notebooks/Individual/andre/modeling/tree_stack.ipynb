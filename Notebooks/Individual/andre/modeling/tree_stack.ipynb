{
 "cells": [
  {
   "cell_type": "code",
   "execution_count": 26,
   "id": "430227d9-de41-4969-a8d5-42d55ffbbe4f",
   "metadata": {},
   "outputs": [],
   "source": [
    "import pandas as pd"
   ]
  },
  {
   "cell_type": "code",
   "execution_count": 27,
   "id": "5cba699c-397b-4d0b-a5d8-5698c31fd259",
   "metadata": {},
   "outputs": [],
   "source": [
    "df = pd.read_csv('../../../../archive/high_diamond_ranked_10min_no_identical.csv')"
   ]
  },
  {
   "cell_type": "code",
   "execution_count": 28,
   "id": "81f24086-473c-426c-aa32-d2fac6cc5136",
   "metadata": {},
   "outputs": [],
   "source": [
    "df.drop('gameId', axis = 1, inplace = True)"
   ]
  },
  {
   "cell_type": "code",
   "execution_count": 29,
   "id": "0a5e6f9d-f3db-4d56-890c-8ab6883dcd8b",
   "metadata": {},
   "outputs": [],
   "source": [
    "X = df.drop('blueWins', axis = 1)\n",
    "y = df['blueWins']"
   ]
  },
  {
   "cell_type": "code",
   "execution_count": 30,
   "id": "ea369d62-171d-46d8-9109-8d1f70ddbaa0",
   "metadata": {},
   "outputs": [],
   "source": [
    "from sklearn.model_selection import train_test_split as t_t_s\n",
    "\n",
    "X_train, X_test, y_train, y_test = t_t_s(X, y)"
   ]
  },
  {
   "cell_type": "code",
   "execution_count": 31,
   "id": "a364f1b1-e0ef-41a1-a6b2-1e4e41b4e50e",
   "metadata": {},
   "outputs": [],
   "source": [
    "from sklearn.ensemble import RandomForestClassifier\n",
    "from sklearn.model_selection import GridSearchCV\n",
    "\n",
    "forest = RandomForestClassifier()\n",
    "\n",
    "params = {\n",
    "    'n_estimators':[50,100,150],\n",
    "    'criterion':['gini','entropy'],\n",
    "    'max_depth':[20,25,30,35,40],\n",
    "    'min_samples_leaf':[1,5,10]\n",
    "}"
   ]
  },
  {
   "cell_type": "code",
   "execution_count": 32,
   "id": "91db1372-6aae-4789-b855-fdb3a25d42f3",
   "metadata": {},
   "outputs": [
    {
     "data": {
      "text/plain": [
       "GridSearchCV(estimator=RandomForestClassifier(),\n",
       "             param_grid={'criterion': ['gini', 'entropy'],\n",
       "                         'max_depth': [20, 25, 30, 35, 40],\n",
       "                         'min_samples_leaf': [1, 5, 10],\n",
       "                         'n_estimators': [50, 100, 150]},\n",
       "             scoring='accuracy')"
      ]
     },
     "execution_count": 32,
     "metadata": {},
     "output_type": "execute_result"
    }
   ],
   "source": [
    "grid = GridSearchCV(forest, params, scoring = 'accuracy')\n",
    "# grid.fit(X_train, y_train)"
   ]
  },
  {
   "cell_type": "code",
   "execution_count": 34,
   "id": "4db481fa-9cc7-4ffc-b756-ae120ab2b783",
   "metadata": {},
   "outputs": [
    {
     "data": {
      "text/plain": [
       "{'criterion': 'gini',\n",
       " 'max_depth': 40,\n",
       " 'min_samples_leaf': 10,\n",
       " 'n_estimators': 100}"
      ]
     },
     "execution_count": 34,
     "metadata": {},
     "output_type": "execute_result"
    }
   ],
   "source": [
    "grid.best_params_"
   ]
  },
  {
   "cell_type": "code",
   "execution_count": 58,
   "id": "434e3b0e-6a1e-4e7b-8f08-6c23b9f189f8",
   "metadata": {},
   "outputs": [
    {
     "data": {
      "text/plain": [
       "RandomForestClassifier(max_depth=100, min_samples_leaf=10)"
      ]
     },
     "execution_count": 58,
     "metadata": {},
     "output_type": "execute_result"
    }
   ],
   "source": [
    "best_forest = RandomForestClassifier(criterion = 'gini', max_depth = 100,\n",
    "                                    min_samples_leaf = 10, n_estimators = 100)\n",
    "best_forest.fit(X_train, y_train)"
   ]
  },
  {
   "cell_type": "code",
   "execution_count": 59,
   "id": "0dec4fe8-f755-4ea1-93c0-e471dea448c9",
   "metadata": {},
   "outputs": [
    {
     "data": {
      "text/plain": [
       "0.7259109311740891"
      ]
     },
     "execution_count": 59,
     "metadata": {},
     "output_type": "execute_result"
    }
   ],
   "source": [
    "best_forest.score(X_test, y_test)"
   ]
  },
  {
   "cell_type": "code",
   "execution_count": 60,
   "id": "2e31cbf9-d0f3-4e95-aeaa-bac1d0f9d229",
   "metadata": {},
   "outputs": [],
   "source": [
    "names = ['tree'+str(i) for i in range(100)]\n",
    "estimators = zip(names, best_forest.estimators_)"
   ]
  },
  {
   "cell_type": "code",
   "execution_count": 61,
   "id": "c9edd522-9337-4b96-8e9a-9d5ae14e3ea3",
   "metadata": {},
   "outputs": [],
   "source": [
    "estimator_list = [(i,j) for i,j in estimators]"
   ]
  },
  {
   "cell_type": "code",
   "execution_count": 116,
   "id": "f3fb81b7-553e-42b6-b218-517a1240b643",
   "metadata": {},
   "outputs": [],
   "source": [
    "from sklearn.ensemble import StackingClassifier\n",
    "from sklearn.svm import SVC\n",
    "\n",
    "stack = StackingClassifier(estimators = estimator_list)"
   ]
  },
  {
   "cell_type": "code",
   "execution_count": 117,
   "id": "bf374206-c33d-4ebb-affa-557c95d57b34",
   "metadata": {},
   "outputs": [
    {
     "data": {
      "text/plain": [
       "StackingClassifier(estimators=[('tree0',\n",
       "                                DecisionTreeClassifier(max_depth=100,\n",
       "                                                       max_features='auto',\n",
       "                                                       min_samples_leaf=10,\n",
       "                                                       random_state=419658451)),\n",
       "                               ('tree1',\n",
       "                                DecisionTreeClassifier(max_depth=100,\n",
       "                                                       max_features='auto',\n",
       "                                                       min_samples_leaf=10,\n",
       "                                                       random_state=713600081)),\n",
       "                               ('tree2',\n",
       "                                DecisionTreeClassifier(max_depth=100,\n",
       "                                                       max_features='auto',\n",
       "                                                       min_samples_leaf=10,\n",
       "                                                       random_stat...\n",
       "                                                       random_state=1442891072)),\n",
       "                               ('tree27',\n",
       "                                DecisionTreeClassifier(max_depth=100,\n",
       "                                                       max_features='auto',\n",
       "                                                       min_samples_leaf=10,\n",
       "                                                       random_state=66458736)),\n",
       "                               ('tree28',\n",
       "                                DecisionTreeClassifier(max_depth=100,\n",
       "                                                       max_features='auto',\n",
       "                                                       min_samples_leaf=10,\n",
       "                                                       random_state=1269620156)),\n",
       "                               ('tree29',\n",
       "                                DecisionTreeClassifier(max_depth=100,\n",
       "                                                       max_features='auto',\n",
       "                                                       min_samples_leaf=10,\n",
       "                                                       random_state=326705114)), ...])"
      ]
     },
     "execution_count": 117,
     "metadata": {},
     "output_type": "execute_result"
    }
   ],
   "source": [
    "stack.fit(X_train, y_train)"
   ]
  },
  {
   "cell_type": "code",
   "execution_count": 118,
   "id": "1efa40ba-74ea-48a0-bd74-8067299340d0",
   "metadata": {},
   "outputs": [
    {
     "data": {
      "text/plain": [
       "0.7263157894736842"
      ]
     },
     "execution_count": 118,
     "metadata": {},
     "output_type": "execute_result"
    }
   ],
   "source": [
    "stack.score(X_test, y_test)"
   ]
  }
 ],
 "metadata": {
  "kernelspec": {
   "display_name": "learn-env",
   "language": "python",
   "name": "learn-env"
  },
  "language_info": {
   "codemirror_mode": {
    "name": "ipython",
    "version": 3
   },
   "file_extension": ".py",
   "mimetype": "text/x-python",
   "name": "python",
   "nbconvert_exporter": "python",
   "pygments_lexer": "ipython3",
   "version": "3.8.5"
  }
 },
 "nbformat": 4,
 "nbformat_minor": 5
}
