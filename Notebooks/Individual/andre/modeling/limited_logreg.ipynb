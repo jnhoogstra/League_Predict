{
 "cells": [
  {
   "cell_type": "code",
   "execution_count": 1,
   "id": "5983737c-bcf2-4e08-934d-955168edc2db",
   "metadata": {},
   "outputs": [],
   "source": [
    "import pandas as pd\n",
    "import numpy as np\n",
    "import matplotlib.pyplot as plt"
   ]
  },
  {
   "cell_type": "code",
   "execution_count": 2,
   "id": "3cbc8777-dbcc-4bcd-b4c7-58dc37145bcc",
   "metadata": {},
   "outputs": [],
   "source": [
    "from sklearn.linear_model import LogisticRegression\n",
    "from sklearn.model_selection import KFold, train_test_split\n",
    "from sklearn.metrics import accuracy_score, f1_score, recall_score\n",
    "from sklearn.metrics import precision_score, roc_curve, auc, plot_confusion_matrix\n",
    "from sklearn.preprocessing import MinMaxScaler"
   ]
  },
  {
   "cell_type": "code",
   "execution_count": 3,
   "id": "18065da2-b758-42b8-a840-06f902836ad9",
   "metadata": {},
   "outputs": [],
   "source": [
    "df = pd.read_csv('../../../../archive/Limited_high_diamond.csv')"
   ]
  },
  {
   "cell_type": "code",
   "execution_count": 4,
   "id": "4c149da1-761c-43f2-82d8-54855ff79c04",
   "metadata": {},
   "outputs": [
    {
     "data": {
      "text/html": [
       "<div>\n",
       "<style scoped>\n",
       "    .dataframe tbody tr th:only-of-type {\n",
       "        vertical-align: middle;\n",
       "    }\n",
       "\n",
       "    .dataframe tbody tr th {\n",
       "        vertical-align: top;\n",
       "    }\n",
       "\n",
       "    .dataframe thead th {\n",
       "        text-align: right;\n",
       "    }\n",
       "</style>\n",
       "<table border=\"1\" class=\"dataframe\">\n",
       "  <thead>\n",
       "    <tr style=\"text-align: right;\">\n",
       "      <th></th>\n",
       "      <th>blueWins</th>\n",
       "      <th>blueWardsPlaced</th>\n",
       "      <th>blueFirstBlood</th>\n",
       "      <th>blueKills</th>\n",
       "      <th>blueAssists</th>\n",
       "      <th>blueDragons</th>\n",
       "      <th>blueHeralds</th>\n",
       "      <th>blueTowersDestroyed</th>\n",
       "      <th>blueAvgLevel</th>\n",
       "      <th>blueCSPerMin</th>\n",
       "      <th>...</th>\n",
       "      <th>blueHas39</th>\n",
       "      <th>redHas39</th>\n",
       "      <th>blueHas517</th>\n",
       "      <th>redHas517</th>\n",
       "      <th>blueMaxLevel</th>\n",
       "      <th>blueMinLevel</th>\n",
       "      <th>blueSTDLevels</th>\n",
       "      <th>redMaxLevel</th>\n",
       "      <th>redMinLevel</th>\n",
       "      <th>redSTDLevels</th>\n",
       "    </tr>\n",
       "  </thead>\n",
       "  <tbody>\n",
       "    <tr>\n",
       "      <th>0</th>\n",
       "      <td>0</td>\n",
       "      <td>28</td>\n",
       "      <td>1</td>\n",
       "      <td>9</td>\n",
       "      <td>11</td>\n",
       "      <td>0</td>\n",
       "      <td>0</td>\n",
       "      <td>0</td>\n",
       "      <td>6.6</td>\n",
       "      <td>19.5</td>\n",
       "      <td>...</td>\n",
       "      <td>False</td>\n",
       "      <td>False</td>\n",
       "      <td>False</td>\n",
       "      <td>False</td>\n",
       "      <td>7</td>\n",
       "      <td>5</td>\n",
       "      <td>0.800000</td>\n",
       "      <td>8</td>\n",
       "      <td>6</td>\n",
       "      <td>0.748331</td>\n",
       "    </tr>\n",
       "    <tr>\n",
       "      <th>1</th>\n",
       "      <td>0</td>\n",
       "      <td>12</td>\n",
       "      <td>0</td>\n",
       "      <td>5</td>\n",
       "      <td>5</td>\n",
       "      <td>0</td>\n",
       "      <td>0</td>\n",
       "      <td>0</td>\n",
       "      <td>6.6</td>\n",
       "      <td>17.4</td>\n",
       "      <td>...</td>\n",
       "      <td>False</td>\n",
       "      <td>True</td>\n",
       "      <td>False</td>\n",
       "      <td>False</td>\n",
       "      <td>8</td>\n",
       "      <td>5</td>\n",
       "      <td>1.019804</td>\n",
       "      <td>8</td>\n",
       "      <td>5</td>\n",
       "      <td>1.166190</td>\n",
       "    </tr>\n",
       "    <tr>\n",
       "      <th>2</th>\n",
       "      <td>0</td>\n",
       "      <td>15</td>\n",
       "      <td>0</td>\n",
       "      <td>7</td>\n",
       "      <td>4</td>\n",
       "      <td>1</td>\n",
       "      <td>0</td>\n",
       "      <td>0</td>\n",
       "      <td>6.4</td>\n",
       "      <td>18.6</td>\n",
       "      <td>...</td>\n",
       "      <td>False</td>\n",
       "      <td>False</td>\n",
       "      <td>False</td>\n",
       "      <td>False</td>\n",
       "      <td>8</td>\n",
       "      <td>5</td>\n",
       "      <td>1.019804</td>\n",
       "      <td>8</td>\n",
       "      <td>6</td>\n",
       "      <td>0.979796</td>\n",
       "    </tr>\n",
       "    <tr>\n",
       "      <th>3</th>\n",
       "      <td>0</td>\n",
       "      <td>43</td>\n",
       "      <td>0</td>\n",
       "      <td>4</td>\n",
       "      <td>5</td>\n",
       "      <td>0</td>\n",
       "      <td>1</td>\n",
       "      <td>0</td>\n",
       "      <td>7.0</td>\n",
       "      <td>20.1</td>\n",
       "      <td>...</td>\n",
       "      <td>False</td>\n",
       "      <td>False</td>\n",
       "      <td>False</td>\n",
       "      <td>False</td>\n",
       "      <td>8</td>\n",
       "      <td>6</td>\n",
       "      <td>0.632456</td>\n",
       "      <td>8</td>\n",
       "      <td>6</td>\n",
       "      <td>0.894427</td>\n",
       "    </tr>\n",
       "    <tr>\n",
       "      <th>4</th>\n",
       "      <td>0</td>\n",
       "      <td>75</td>\n",
       "      <td>0</td>\n",
       "      <td>6</td>\n",
       "      <td>6</td>\n",
       "      <td>0</td>\n",
       "      <td>0</td>\n",
       "      <td>0</td>\n",
       "      <td>7.0</td>\n",
       "      <td>21.0</td>\n",
       "      <td>...</td>\n",
       "      <td>False</td>\n",
       "      <td>False</td>\n",
       "      <td>False</td>\n",
       "      <td>False</td>\n",
       "      <td>8</td>\n",
       "      <td>5</td>\n",
       "      <td>1.095445</td>\n",
       "      <td>8</td>\n",
       "      <td>6</td>\n",
       "      <td>0.894427</td>\n",
       "    </tr>\n",
       "    <tr>\n",
       "      <th>...</th>\n",
       "      <td>...</td>\n",
       "      <td>...</td>\n",
       "      <td>...</td>\n",
       "      <td>...</td>\n",
       "      <td>...</td>\n",
       "      <td>...</td>\n",
       "      <td>...</td>\n",
       "      <td>...</td>\n",
       "      <td>...</td>\n",
       "      <td>...</td>\n",
       "      <td>...</td>\n",
       "      <td>...</td>\n",
       "      <td>...</td>\n",
       "      <td>...</td>\n",
       "      <td>...</td>\n",
       "      <td>...</td>\n",
       "      <td>...</td>\n",
       "      <td>...</td>\n",
       "      <td>...</td>\n",
       "      <td>...</td>\n",
       "      <td>...</td>\n",
       "    </tr>\n",
       "    <tr>\n",
       "      <th>9874</th>\n",
       "      <td>1</td>\n",
       "      <td>17</td>\n",
       "      <td>1</td>\n",
       "      <td>7</td>\n",
       "      <td>5</td>\n",
       "      <td>1</td>\n",
       "      <td>0</td>\n",
       "      <td>0</td>\n",
       "      <td>7.2</td>\n",
       "      <td>21.1</td>\n",
       "      <td>...</td>\n",
       "      <td>False</td>\n",
       "      <td>False</td>\n",
       "      <td>False</td>\n",
       "      <td>True</td>\n",
       "      <td>8</td>\n",
       "      <td>6</td>\n",
       "      <td>0.748331</td>\n",
       "      <td>8</td>\n",
       "      <td>6</td>\n",
       "      <td>0.979796</td>\n",
       "    </tr>\n",
       "    <tr>\n",
       "      <th>9875</th>\n",
       "      <td>1</td>\n",
       "      <td>54</td>\n",
       "      <td>0</td>\n",
       "      <td>6</td>\n",
       "      <td>8</td>\n",
       "      <td>1</td>\n",
       "      <td>0</td>\n",
       "      <td>0</td>\n",
       "      <td>7.2</td>\n",
       "      <td>23.3</td>\n",
       "      <td>...</td>\n",
       "      <td>False</td>\n",
       "      <td>False</td>\n",
       "      <td>False</td>\n",
       "      <td>False</td>\n",
       "      <td>8</td>\n",
       "      <td>6</td>\n",
       "      <td>0.748331</td>\n",
       "      <td>8</td>\n",
       "      <td>6</td>\n",
       "      <td>0.894427</td>\n",
       "    </tr>\n",
       "    <tr>\n",
       "      <th>9876</th>\n",
       "      <td>0</td>\n",
       "      <td>23</td>\n",
       "      <td>0</td>\n",
       "      <td>6</td>\n",
       "      <td>5</td>\n",
       "      <td>0</td>\n",
       "      <td>0</td>\n",
       "      <td>0</td>\n",
       "      <td>7.0</td>\n",
       "      <td>21.0</td>\n",
       "      <td>...</td>\n",
       "      <td>False</td>\n",
       "      <td>False</td>\n",
       "      <td>False</td>\n",
       "      <td>False</td>\n",
       "      <td>8</td>\n",
       "      <td>6</td>\n",
       "      <td>0.632456</td>\n",
       "      <td>9</td>\n",
       "      <td>6</td>\n",
       "      <td>1.019804</td>\n",
       "    </tr>\n",
       "    <tr>\n",
       "      <th>9877</th>\n",
       "      <td>0</td>\n",
       "      <td>14</td>\n",
       "      <td>1</td>\n",
       "      <td>2</td>\n",
       "      <td>3</td>\n",
       "      <td>1</td>\n",
       "      <td>0</td>\n",
       "      <td>0</td>\n",
       "      <td>6.6</td>\n",
       "      <td>22.4</td>\n",
       "      <td>...</td>\n",
       "      <td>False</td>\n",
       "      <td>True</td>\n",
       "      <td>False</td>\n",
       "      <td>False</td>\n",
       "      <td>8</td>\n",
       "      <td>6</td>\n",
       "      <td>0.800000</td>\n",
       "      <td>8</td>\n",
       "      <td>6</td>\n",
       "      <td>0.748331</td>\n",
       "    </tr>\n",
       "    <tr>\n",
       "      <th>9878</th>\n",
       "      <td>1</td>\n",
       "      <td>18</td>\n",
       "      <td>1</td>\n",
       "      <td>6</td>\n",
       "      <td>5</td>\n",
       "      <td>0</td>\n",
       "      <td>0</td>\n",
       "      <td>0</td>\n",
       "      <td>7.0</td>\n",
       "      <td>20.7</td>\n",
       "      <td>...</td>\n",
       "      <td>False</td>\n",
       "      <td>False</td>\n",
       "      <td>True</td>\n",
       "      <td>False</td>\n",
       "      <td>8</td>\n",
       "      <td>6</td>\n",
       "      <td>0.894427</td>\n",
       "      <td>8</td>\n",
       "      <td>6</td>\n",
       "      <td>0.748331</td>\n",
       "    </tr>\n",
       "  </tbody>\n",
       "</table>\n",
       "<p>9879 rows × 37 columns</p>\n",
       "</div>"
      ],
      "text/plain": [
       "      blueWins  blueWardsPlaced  blueFirstBlood  blueKills  blueAssists  \\\n",
       "0            0               28               1          9           11   \n",
       "1            0               12               0          5            5   \n",
       "2            0               15               0          7            4   \n",
       "3            0               43               0          4            5   \n",
       "4            0               75               0          6            6   \n",
       "...        ...              ...             ...        ...          ...   \n",
       "9874         1               17               1          7            5   \n",
       "9875         1               54               0          6            8   \n",
       "9876         0               23               0          6            5   \n",
       "9877         0               14               1          2            3   \n",
       "9878         1               18               1          6            5   \n",
       "\n",
       "      blueDragons  blueHeralds  blueTowersDestroyed  blueAvgLevel  \\\n",
       "0               0            0                    0           6.6   \n",
       "1               0            0                    0           6.6   \n",
       "2               1            0                    0           6.4   \n",
       "3               0            1                    0           7.0   \n",
       "4               0            0                    0           7.0   \n",
       "...           ...          ...                  ...           ...   \n",
       "9874            1            0                    0           7.2   \n",
       "9875            1            0                    0           7.2   \n",
       "9876            0            0                    0           7.0   \n",
       "9877            1            0                    0           6.6   \n",
       "9878            0            0                    0           7.0   \n",
       "\n",
       "      blueCSPerMin  ...  blueHas39  redHas39  blueHas517  redHas517  \\\n",
       "0             19.5  ...      False     False       False      False   \n",
       "1             17.4  ...      False      True       False      False   \n",
       "2             18.6  ...      False     False       False      False   \n",
       "3             20.1  ...      False     False       False      False   \n",
       "4             21.0  ...      False     False       False      False   \n",
       "...            ...  ...        ...       ...         ...        ...   \n",
       "9874          21.1  ...      False     False       False       True   \n",
       "9875          23.3  ...      False     False       False      False   \n",
       "9876          21.0  ...      False     False       False      False   \n",
       "9877          22.4  ...      False      True       False      False   \n",
       "9878          20.7  ...      False     False        True      False   \n",
       "\n",
       "      blueMaxLevel  blueMinLevel  blueSTDLevels  redMaxLevel  redMinLevel  \\\n",
       "0                7             5       0.800000            8            6   \n",
       "1                8             5       1.019804            8            5   \n",
       "2                8             5       1.019804            8            6   \n",
       "3                8             6       0.632456            8            6   \n",
       "4                8             5       1.095445            8            6   \n",
       "...            ...           ...            ...          ...          ...   \n",
       "9874             8             6       0.748331            8            6   \n",
       "9875             8             6       0.748331            8            6   \n",
       "9876             8             6       0.632456            9            6   \n",
       "9877             8             6       0.800000            8            6   \n",
       "9878             8             6       0.894427            8            6   \n",
       "\n",
       "      redSTDLevels  \n",
       "0         0.748331  \n",
       "1         1.166190  \n",
       "2         0.979796  \n",
       "3         0.894427  \n",
       "4         0.894427  \n",
       "...            ...  \n",
       "9874      0.979796  \n",
       "9875      0.894427  \n",
       "9876      1.019804  \n",
       "9877      0.748331  \n",
       "9878      0.748331  \n",
       "\n",
       "[9879 rows x 37 columns]"
      ]
     },
     "execution_count": 4,
     "metadata": {},
     "output_type": "execute_result"
    }
   ],
   "source": [
    "df"
   ]
  },
  {
   "cell_type": "code",
   "execution_count": 5,
   "id": "ce2c5aa9-286a-44b9-bc7e-5b00d2d92fe5",
   "metadata": {},
   "outputs": [],
   "source": [
    "X = df.drop('blueWins', axis = 1)\n",
    "y = df['blueWins']"
   ]
  },
  {
   "cell_type": "code",
   "execution_count": 6,
   "id": "fca80735-3ae3-45d5-9929-507a79b70e0c",
   "metadata": {},
   "outputs": [],
   "source": [
    "folds = KFold(n_splits = 5, shuffle = True)"
   ]
  },
  {
   "cell_type": "code",
   "execution_count": 7,
   "id": "3b86607d-aa3f-42be-af34-0a9f0860d8b3",
   "metadata": {},
   "outputs": [],
   "source": [
    "logreg = LogisticRegression(fit_intercept = False, solver = 'saga')\n",
    "scaler = MinMaxScaler()\n",
    "\n",
    "trainings = []\n",
    "testings = []\n",
    "for train_ind, test_ind in folds.split(X):\n",
    "    X_tr, X_te = X.iloc[train_ind], X.iloc[test_ind]\n",
    "    y_tr, y_te = y.iloc[train_ind], y.iloc[test_ind]\n",
    "    \n",
    "    X_tr = scaler.fit_transform(X_tr)\n",
    "    X_te = scaler.transform(X_te)\n",
    "    \n",
    "    logreg.fit(X_tr, y_tr)\n",
    "    \n",
    "    yhat_tr = logreg.predict(X_tr)\n",
    "    yhat_te = logreg.predict(X_te)\n",
    "    \n",
    "    trainings.append(accuracy_score(y_tr, yhat_tr))\n",
    "    testings.append(accuracy_score(y_te, yhat_te))"
   ]
  },
  {
   "cell_type": "code",
   "execution_count": 8,
   "id": "d83fc606-6f1b-4852-a23b-765840fdcc24",
   "metadata": {},
   "outputs": [
    {
     "data": {
      "text/plain": [
       "[0.7326331772744528,\n",
       " 0.735037327597115,\n",
       " 0.7341515880045553,\n",
       " 0.7322535745919271,\n",
       " 0.7349443319838057]"
      ]
     },
     "execution_count": 8,
     "metadata": {},
     "output_type": "execute_result"
    }
   ],
   "source": [
    "trainings"
   ]
  },
  {
   "cell_type": "code",
   "execution_count": 9,
   "id": "2b3851e6-ad8e-4ff1-ad8c-922eba87fb12",
   "metadata": {},
   "outputs": [
    {
     "data": {
      "text/plain": [
       "[0.7348178137651822,\n",
       " 0.7206477732793523,\n",
       " 0.7317813765182186,\n",
       " 0.7419028340080972,\n",
       " 0.7296202531645569]"
      ]
     },
     "execution_count": 9,
     "metadata": {},
     "output_type": "execute_result"
    }
   ],
   "source": [
    "testings"
   ]
  },
  {
   "cell_type": "code",
   "execution_count": 10,
   "id": "5bb91959-56cb-4c2e-82c2-a7e2707b971d",
   "metadata": {},
   "outputs": [
    {
     "data": {
      "image/png": "[encoded data removed]",
      "text/plain": [
       "<Figure size 1080x828 with 4 Axes>"
      ]
     },
     "metadata": {
      "needs_background": "light"
     },
     "output_type": "display_data"
    }
   ],
   "source": [
    "folds = KFold(n_splits = 4, shuffle = True)\n",
    "fig, axes = plt.subplots(figsize = (15,11.5), nrows = 2, ncols = 2)\n",
    "\n",
    "for ax, (train_ind, test_ind) in zip(axes.flatten(), folds.split(X)):\n",
    "    X_tr, X_te = X.iloc[train_ind], X.iloc[test_ind]\n",
    "    y_tr, y_te = y.iloc[train_ind], y.iloc[test_ind]\n",
    "    \n",
    "    X_tr = scaler.fit_transform(X_tr)\n",
    "    X_te = scaler.transform(X_te)\n",
    "    \n",
    "    y_score = logreg.fit(X_tr, y_tr).decision_function(X_te)\n",
    "    \n",
    "    fpr, tpr, thresholds = roc_curve(y_te, y_score)\n",
    "    auc_score = auc(fpr, tpr)\n",
    "    \n",
    "    ax.plot(fpr*100, tpr*100, color = 'r', label = 'ROC curve')\n",
    "    ax.plot([0,100],[0,100], color = 'b', linestyle = '-.', label = 'Untrained')\n",
    "    ax.set_xlabel('False Positive Rate (%)', fontsize = 15, color = 'darkgrey')\n",
    "    ax.set_ylabel('True Positive Rate (%)', fontsize = 15, color = 'darkgrey')\n",
    "    \n",
    "    ax.set_title(f'AUC = {round(auc_score, 3)}',\n",
    "                 fontsize = 20)\n",
    "    \n",
    "    ax.legend()\n",
    "\n",
    "fig.tight_layout()"
   ]
  },
  {
   "cell_type": "code",
   "execution_count": 11,
   "id": "88afccdd-4025-4733-8f98-33aa81043ded",
   "metadata": {},
   "outputs": [
    {
     "data": {
      "text/plain": [
       "Index(['blueWardsPlaced', 'blueFirstBlood', 'blueKills', 'blueAssists',\n",
       "       'blueDragons', 'blueHeralds', 'blueTowersDestroyed', 'blueAvgLevel',\n",
       "       'blueCSPerMin', 'redKills', 'redAssists', 'redDragons', 'redHeralds',\n",
       "       'redTowersDestroyed', 'redAvgLevel', 'redCSPerMin', 'bluePredWinrate',\n",
       "       'redPredWinrate', 'blueAvgPickrate', 'redAvgPickrate', 'blueHas62',\n",
       "       'redHas62', 'blueHas111', 'redHas111', 'blueHas145', 'redHas145',\n",
       "       'blueHas39', 'redHas39', 'blueHas517', 'redHas517', 'blueMaxLevel',\n",
       "       'blueMinLevel', 'blueSTDLevels', 'redMaxLevel', 'redMinLevel',\n",
       "       'redSTDLevels'],\n",
       "      dtype='object')"
      ]
     },
     "execution_count": 11,
     "metadata": {},
     "output_type": "execute_result"
    }
   ],
   "source": [
    "X.columns"
   ]
  },
  {
   "cell_type": "code",
   "execution_count": 12,
   "id": "f996b71d-ea04-435a-b421-c4553014902a",
   "metadata": {},
   "outputs": [
    {
     "data": {
      "image/png": "[encoded data removed]",
      "text/plain": [
       "<Figure size 1080x720 with 1 Axes>"
      ]
     },
     "metadata": {
      "needs_background": "light"
     },
     "output_type": "display_data"
    }
   ],
   "source": [
    "import matplotlib.pyplot as plt\n",
    "\n",
    "to_plot = sorted(list(zip(X.columns, abs(logreg.coef_[0]))), key = lambda x: x[1])\n",
    "\n",
    "fig, ax = plt.subplots(figsize = (15,10))\n",
    "ax.barh(y = [x[0] for x in to_plot[-10:]], width = [x[1] for x in to_plot[-10:]])\n",
    "plt.yticks(fontsize = 20)\n",
    "fig.tight_layout()\n",
    "plt.savefig('../../../../Images/limited_importances.jpeg');"
   ]
  },
  {
   "cell_type": "code",
   "execution_count": 13,
   "id": "f13f48d7-4515-4878-a28c-80fc8af5a358",
   "metadata": {},
   "outputs": [],
   "source": [
    "X_train, X_test, y_train, y_test = train_test_split(X, y)"
   ]
  },
  {
   "cell_type": "code",
   "execution_count": 14,
   "id": "fc3362e6-067c-4b07-ac16-9b8514bedc30",
   "metadata": {},
   "outputs": [],
   "source": [
    "logreg = LogisticRegression(fit_intercept = False, solver = 'saga')"
   ]
  },
  {
   "cell_type": "code",
   "execution_count": 15,
   "id": "16de5b97-12ff-420d-9c07-98bf73542447",
   "metadata": {},
   "outputs": [],
   "source": [
    "X_train = scaler.fit_transform(X_train)\n",
    "X_test = scaler.transform(X_test)"
   ]
  },
  {
   "cell_type": "code",
   "execution_count": 16,
   "id": "f5ac7679-755f-4b9e-ac06-b583caadb5d5",
   "metadata": {},
   "outputs": [
    {
     "data": {
      "text/plain": [
       "LogisticRegression(fit_intercept=False, solver='saga')"
      ]
     },
     "execution_count": 16,
     "metadata": {},
     "output_type": "execute_result"
    }
   ],
   "source": [
    "logreg.fit(X_train, y_train)"
   ]
  },
  {
   "cell_type": "code",
   "execution_count": 17,
   "id": "4ac48a5d-acd9-4e64-a797-6f179bf86419",
   "metadata": {},
   "outputs": [],
   "source": [
    "yhat_test = logreg.predict(X_test)"
   ]
  },
  {
   "cell_type": "code",
   "execution_count": 18,
   "id": "d65761e2-6ea1-4b37-800e-9573d7906f59",
   "metadata": {},
   "outputs": [],
   "source": [
    "y_score = logreg.fit(X_train, y_train).decision_function(X_test)\n",
    "fpr, tpr, thresholds = roc_curve(y_test, y_score)\n",
    "auc_score = auc(fpr, tpr)"
   ]
  },
  {
   "cell_type": "code",
   "execution_count": 19,
   "id": "158afe1e-64d2-4021-baa2-e6189007a0b9",
   "metadata": {},
   "outputs": [
    {
     "name": "stdout",
     "output_type": "stream",
     "text": [
      "Accuracy: 72.5%\n",
      "F1 Score: 72.4%\n",
      "Recall: 72.3%\n",
      "Precision: 72.6%\n",
      "ROC AUC: 80.0%\n"
     ]
    }
   ],
   "source": [
    "print(f'''Accuracy: {round(accuracy_score(y_test, yhat_test)*100, 1)}%\n",
    "F1 Score: {round(f1_score(y_test, yhat_test)*100, 1)}%\n",
    "Recall: {round(recall_score(y_test, yhat_test)*100, 1)}%\n",
    "Precision: {round(precision_score(y_test, yhat_test)*100, 1)}%\n",
    "ROC AUC: {round(auc_score, 1)*100}%''')"
   ]
  },
  {
   "cell_type": "code",
   "execution_count": 20,
   "id": "eaba1cec-d6f9-4fc3-a4a9-c6b49d5bea05",
   "metadata": {},
   "outputs": [
    {
     "data": {
      "image/png": "[encoded data removed]",
      "text/plain": [
       "<Figure size 432x288 with 2 Axes>"
      ]
     },
     "metadata": {
      "needs_background": "light"
     },
     "output_type": "display_data"
    }
   ],
   "source": [
    "plot_confusion_matrix(logreg, X_test, y_test)\n",
    "plt.savefig('../../../../Images/limited_confusion.jpeg');"
   ]
  },
  {
   "cell_type": "code",
   "execution_count": 21,
   "id": "b56b5875-7e0b-4505-97c1-2bd5f4fc83ae",
   "metadata": {},
   "outputs": [
    {
     "data": {
      "text/plain": [
       "LogisticRegression(fit_intercept=False, solver='saga')"
      ]
     },
     "execution_count": 21,
     "metadata": {},
     "output_type": "execute_result"
    }
   ],
   "source": [
    "X = scaler.transform(X)\n",
    "logreg.fit(X, y)"
   ]
  },
  {
   "cell_type": "code",
   "execution_count": 22,
   "id": "0a7d7c23-a401-4947-b86e-9431a16aca0f",
   "metadata": {},
   "outputs": [],
   "source": [
    "from sklearn.impute import SimpleImputer\n",
    "imputer = SimpleImputer().fit(X_train)"
   ]
  },
  {
   "cell_type": "code",
   "execution_count": 23,
   "id": "b5297685-01ea-4e6e-83a8-4df9dba135b8",
   "metadata": {},
   "outputs": [],
   "source": [
    "tom = pd.read_csv('../../../../archive/tom.csv')"
   ]
  },
  {
   "cell_type": "code",
   "execution_count": 24,
   "id": "d77293c5-51b9-409c-9349-097bc5e874d0",
   "metadata": {},
   "outputs": [],
   "source": [
    "tom.drop(['Unnamed: 0','redVisionScore'], axis = 1, inplace = True)\n",
    "tomx = tom.drop('blueWins', axis = 1)\n",
    "tomy = tom['blueWins']"
   ]
  },
  {
   "cell_type": "code",
   "execution_count": 25,
   "id": "db810859-59a2-4d33-94d0-fb2fb2448f1f",
   "metadata": {},
   "outputs": [],
   "source": [
    "tomx = scaler.transform(imputer.transform(tomx))"
   ]
  },
  {
   "cell_type": "code",
   "execution_count": 26,
   "id": "c4c6bb18-26ac-4754-a5c4-73688eaf173b",
   "metadata": {},
   "outputs": [
    {
     "data": {
      "image/png": "[encoded data removed]",
      "text/plain": [
       "<Figure size 432x288 with 2 Axes>"
      ]
     },
     "metadata": {
      "needs_background": "light"
     },
     "output_type": "display_data"
    }
   ],
   "source": [
    "plot_confusion_matrix(logreg, tomx, tomy)\n",
    "plt.savefig('../../../../Images/tom_confusion.jpeg');"
   ]
  },
  {
   "cell_type": "code",
   "execution_count": 27,
   "id": "127c6536-5461-4f82-9d19-cc3b5ce6ef90",
   "metadata": {},
   "outputs": [
    {
     "data": {
      "text/plain": [
       "array([0, 1, 1, 1, 1], dtype=int64)"
      ]
     },
     "execution_count": 27,
     "metadata": {},
     "output_type": "execute_result"
    }
   ],
   "source": [
    "logreg.predict(tomx)"
   ]
  },
  {
   "cell_type": "code",
   "execution_count": 28,
   "id": "317fba13-06de-459f-8998-d6bc1e99e200",
   "metadata": {},
   "outputs": [
    {
     "data": {
      "text/plain": [
       "array([0, 0, 1, 1, 1], dtype=int64)"
      ]
     },
     "execution_count": 28,
     "metadata": {},
     "output_type": "execute_result"
    }
   ],
   "source": [
    "np.array(tomy)"
   ]
  },
  {
   "cell_type": "code",
   "execution_count": 29,
   "id": "20a13e29-fade-453c-a094-1947eeb41e43",
   "metadata": {},
   "outputs": [
    {
     "data": {
      "text/html": [
       "<div>\n",
       "<style scoped>\n",
       "    .dataframe tbody tr th:only-of-type {\n",
       "        vertical-align: middle;\n",
       "    }\n",
       "\n",
       "    .dataframe tbody tr th {\n",
       "        vertical-align: top;\n",
       "    }\n",
       "\n",
       "    .dataframe thead th {\n",
       "        text-align: right;\n",
       "    }\n",
       "</style>\n",
       "<table border=\"1\" class=\"dataframe\">\n",
       "  <thead>\n",
       "    <tr style=\"text-align: right;\">\n",
       "      <th></th>\n",
       "      <th>blueWardsPlaced</th>\n",
       "      <th>blueFirstBlood</th>\n",
       "      <th>blueKills</th>\n",
       "      <th>blueAssists</th>\n",
       "      <th>blueDragons</th>\n",
       "      <th>blueHeralds</th>\n",
       "      <th>blueTowersDestroyed</th>\n",
       "      <th>blueAvgLevel</th>\n",
       "      <th>blueCSPerMin</th>\n",
       "      <th>redKills</th>\n",
       "      <th>...</th>\n",
       "      <th>blueHas39</th>\n",
       "      <th>redHas39</th>\n",
       "      <th>blueHas517</th>\n",
       "      <th>redHas517</th>\n",
       "      <th>blueMaxLevel</th>\n",
       "      <th>blueMinLevel</th>\n",
       "      <th>blueSTDLevels</th>\n",
       "      <th>redMaxLevel</th>\n",
       "      <th>redMinLevel</th>\n",
       "      <th>redSTDLevels</th>\n",
       "    </tr>\n",
       "  </thead>\n",
       "  <tbody>\n",
       "    <tr>\n",
       "      <th>0</th>\n",
       "      <td>22.288288</td>\n",
       "      <td>0.504808</td>\n",
       "      <td>6.183925</td>\n",
       "      <td>6.645106</td>\n",
       "      <td>0.36198</td>\n",
       "      <td>0.187974</td>\n",
       "      <td>0.051422</td>\n",
       "      <td>6.916004</td>\n",
       "      <td>21.669956</td>\n",
       "      <td>6.137666</td>\n",
       "      <td>...</td>\n",
       "      <td>0.057901</td>\n",
       "      <td>0.060431</td>\n",
       "      <td>0.068428</td>\n",
       "      <td>0.072578</td>\n",
       "      <td>8.097682</td>\n",
       "      <td>5.733677</td>\n",
       "      <td>0.925182</td>\n",
       "      <td>8.111651</td>\n",
       "      <td>5.736208</td>\n",
       "      <td>0.927868</td>\n",
       "    </tr>\n",
       "    <tr>\n",
       "      <th>1</th>\n",
       "      <td>22.288288</td>\n",
       "      <td>0.504808</td>\n",
       "      <td>6.183925</td>\n",
       "      <td>6.645106</td>\n",
       "      <td>0.36198</td>\n",
       "      <td>0.187974</td>\n",
       "      <td>0.051422</td>\n",
       "      <td>6.916004</td>\n",
       "      <td>21.669956</td>\n",
       "      <td>6.137666</td>\n",
       "      <td>...</td>\n",
       "      <td>0.057901</td>\n",
       "      <td>0.060431</td>\n",
       "      <td>0.068428</td>\n",
       "      <td>0.072578</td>\n",
       "      <td>8.097682</td>\n",
       "      <td>5.733677</td>\n",
       "      <td>0.925182</td>\n",
       "      <td>8.111651</td>\n",
       "      <td>5.736208</td>\n",
       "      <td>0.927868</td>\n",
       "    </tr>\n",
       "    <tr>\n",
       "      <th>2</th>\n",
       "      <td>22.288288</td>\n",
       "      <td>0.504808</td>\n",
       "      <td>6.183925</td>\n",
       "      <td>6.645106</td>\n",
       "      <td>0.36198</td>\n",
       "      <td>0.187974</td>\n",
       "      <td>0.051422</td>\n",
       "      <td>6.916004</td>\n",
       "      <td>21.669956</td>\n",
       "      <td>6.137666</td>\n",
       "      <td>...</td>\n",
       "      <td>0.057901</td>\n",
       "      <td>0.060431</td>\n",
       "      <td>0.068428</td>\n",
       "      <td>0.072578</td>\n",
       "      <td>8.097682</td>\n",
       "      <td>5.733677</td>\n",
       "      <td>0.925182</td>\n",
       "      <td>8.111651</td>\n",
       "      <td>5.736208</td>\n",
       "      <td>0.927868</td>\n",
       "    </tr>\n",
       "    <tr>\n",
       "      <th>3</th>\n",
       "      <td>22.288288</td>\n",
       "      <td>0.504808</td>\n",
       "      <td>6.183925</td>\n",
       "      <td>6.645106</td>\n",
       "      <td>0.36198</td>\n",
       "      <td>0.187974</td>\n",
       "      <td>0.051422</td>\n",
       "      <td>6.916004</td>\n",
       "      <td>21.669956</td>\n",
       "      <td>6.137666</td>\n",
       "      <td>...</td>\n",
       "      <td>0.057901</td>\n",
       "      <td>0.060431</td>\n",
       "      <td>0.068428</td>\n",
       "      <td>0.072578</td>\n",
       "      <td>8.097682</td>\n",
       "      <td>5.733677</td>\n",
       "      <td>0.925182</td>\n",
       "      <td>8.111651</td>\n",
       "      <td>5.736208</td>\n",
       "      <td>0.927868</td>\n",
       "    </tr>\n",
       "    <tr>\n",
       "      <th>4</th>\n",
       "      <td>22.288288</td>\n",
       "      <td>0.504808</td>\n",
       "      <td>6.183925</td>\n",
       "      <td>6.645106</td>\n",
       "      <td>0.36198</td>\n",
       "      <td>0.187974</td>\n",
       "      <td>0.051422</td>\n",
       "      <td>6.916004</td>\n",
       "      <td>21.669956</td>\n",
       "      <td>6.137666</td>\n",
       "      <td>...</td>\n",
       "      <td>0.057901</td>\n",
       "      <td>0.060431</td>\n",
       "      <td>0.068428</td>\n",
       "      <td>0.072578</td>\n",
       "      <td>8.097682</td>\n",
       "      <td>5.733677</td>\n",
       "      <td>0.925182</td>\n",
       "      <td>8.111651</td>\n",
       "      <td>5.736208</td>\n",
       "      <td>0.927868</td>\n",
       "    </tr>\n",
       "  </tbody>\n",
       "</table>\n",
       "<p>5 rows × 36 columns</p>\n",
       "</div>"
      ],
      "text/plain": [
       "   blueWardsPlaced  blueFirstBlood  blueKills  blueAssists  blueDragons  \\\n",
       "0        22.288288        0.504808   6.183925     6.645106      0.36198   \n",
       "1        22.288288        0.504808   6.183925     6.645106      0.36198   \n",
       "2        22.288288        0.504808   6.183925     6.645106      0.36198   \n",
       "3        22.288288        0.504808   6.183925     6.645106      0.36198   \n",
       "4        22.288288        0.504808   6.183925     6.645106      0.36198   \n",
       "\n",
       "   blueHeralds  blueTowersDestroyed  blueAvgLevel  blueCSPerMin  redKills  \\\n",
       "0     0.187974             0.051422      6.916004     21.669956  6.137666   \n",
       "1     0.187974             0.051422      6.916004     21.669956  6.137666   \n",
       "2     0.187974             0.051422      6.916004     21.669956  6.137666   \n",
       "3     0.187974             0.051422      6.916004     21.669956  6.137666   \n",
       "4     0.187974             0.051422      6.916004     21.669956  6.137666   \n",
       "\n",
       "   ...  blueHas39  redHas39  blueHas517  redHas517  blueMaxLevel  \\\n",
       "0  ...   0.057901  0.060431    0.068428   0.072578      8.097682   \n",
       "1  ...   0.057901  0.060431    0.068428   0.072578      8.097682   \n",
       "2  ...   0.057901  0.060431    0.068428   0.072578      8.097682   \n",
       "3  ...   0.057901  0.060431    0.068428   0.072578      8.097682   \n",
       "4  ...   0.057901  0.060431    0.068428   0.072578      8.097682   \n",
       "\n",
       "   blueMinLevel  blueSTDLevels  redMaxLevel  redMinLevel  redSTDLevels  \n",
       "0      5.733677       0.925182     8.111651     5.736208      0.927868  \n",
       "1      5.733677       0.925182     8.111651     5.736208      0.927868  \n",
       "2      5.733677       0.925182     8.111651     5.736208      0.927868  \n",
       "3      5.733677       0.925182     8.111651     5.736208      0.927868  \n",
       "4      5.733677       0.925182     8.111651     5.736208      0.927868  \n",
       "\n",
       "[5 rows x 36 columns]"
      ]
     },
     "execution_count": 29,
     "metadata": {},
     "output_type": "execute_result"
    }
   ],
   "source": [
    "just_average = pd.DataFrame([df.drop('blueWins', axis = 1).mean() for x in range(5)])\n",
    "just_average"
   ]
  },
  {
   "cell_type": "code",
   "execution_count": 30,
   "id": "5abe417c-c335-408c-b776-a3d572376ee6",
   "metadata": {},
   "outputs": [
    {
     "data": {
      "text/plain": [
       "count    9879.000000\n",
       "mean        6.183925\n",
       "std         3.011028\n",
       "min         0.000000\n",
       "25%         4.000000\n",
       "50%         6.000000\n",
       "75%         8.000000\n",
       "max        22.000000\n",
       "Name: blueKills, dtype: float64"
      ]
     },
     "execution_count": 30,
     "metadata": {},
     "output_type": "execute_result"
    }
   ],
   "source": [
    "df['blueKills'].describe()"
   ]
  },
  {
   "cell_type": "code",
   "execution_count": 31,
   "id": "79853c41-e4d9-4635-8e00-e5fab197c6da",
   "metadata": {},
   "outputs": [
    {
     "data": {
      "text/plain": [
       "count    9879.000000\n",
       "mean       21.669956\n",
       "std         2.185844\n",
       "min         9.000000\n",
       "25%        20.200000\n",
       "50%        21.800000\n",
       "75%        23.200000\n",
       "max        28.300000\n",
       "Name: blueCSPerMin, dtype: float64"
      ]
     },
     "execution_count": 31,
     "metadata": {},
     "output_type": "execute_result"
    }
   ],
   "source": [
    "df['blueCSPerMin'].describe()"
   ]
  },
  {
   "cell_type": "code",
   "execution_count": 32,
   "id": "10ba20ab-30de-4f9f-b84d-f5a956cd1578",
   "metadata": {},
   "outputs": [],
   "source": [
    "kill_check = just_average.copy()\n",
    "kill_check['blueKills'] = [0,3,6,9,12]"
   ]
  },
  {
   "cell_type": "code",
   "execution_count": 33,
   "id": "7b5f2bd3-90da-462b-9824-d8da7958627b",
   "metadata": {},
   "outputs": [
    {
     "data": {
      "text/html": [
       "<div>\n",
       "<style scoped>\n",
       "    .dataframe tbody tr th:only-of-type {\n",
       "        vertical-align: middle;\n",
       "    }\n",
       "\n",
       "    .dataframe tbody tr th {\n",
       "        vertical-align: top;\n",
       "    }\n",
       "\n",
       "    .dataframe thead th {\n",
       "        text-align: right;\n",
       "    }\n",
       "</style>\n",
       "<table border=\"1\" class=\"dataframe\">\n",
       "  <thead>\n",
       "    <tr style=\"text-align: right;\">\n",
       "      <th></th>\n",
       "      <th>blueWardsPlaced</th>\n",
       "      <th>blueFirstBlood</th>\n",
       "      <th>blueKills</th>\n",
       "      <th>blueAssists</th>\n",
       "      <th>blueDragons</th>\n",
       "      <th>blueHeralds</th>\n",
       "      <th>blueTowersDestroyed</th>\n",
       "      <th>blueAvgLevel</th>\n",
       "      <th>blueCSPerMin</th>\n",
       "      <th>redKills</th>\n",
       "      <th>...</th>\n",
       "      <th>blueHas39</th>\n",
       "      <th>redHas39</th>\n",
       "      <th>blueHas517</th>\n",
       "      <th>redHas517</th>\n",
       "      <th>blueMaxLevel</th>\n",
       "      <th>blueMinLevel</th>\n",
       "      <th>blueSTDLevels</th>\n",
       "      <th>redMaxLevel</th>\n",
       "      <th>redMinLevel</th>\n",
       "      <th>redSTDLevels</th>\n",
       "    </tr>\n",
       "  </thead>\n",
       "  <tbody>\n",
       "    <tr>\n",
       "      <th>0</th>\n",
       "      <td>22.288288</td>\n",
       "      <td>0.504808</td>\n",
       "      <td>0</td>\n",
       "      <td>6.645106</td>\n",
       "      <td>0.36198</td>\n",
       "      <td>0.187974</td>\n",
       "      <td>0.051422</td>\n",
       "      <td>6.916004</td>\n",
       "      <td>21.669956</td>\n",
       "      <td>6.137666</td>\n",
       "      <td>...</td>\n",
       "      <td>0.057901</td>\n",
       "      <td>0.060431</td>\n",
       "      <td>0.068428</td>\n",
       "      <td>0.072578</td>\n",
       "      <td>8.097682</td>\n",
       "      <td>5.733677</td>\n",
       "      <td>0.925182</td>\n",
       "      <td>8.111651</td>\n",
       "      <td>5.736208</td>\n",
       "      <td>0.927868</td>\n",
       "    </tr>\n",
       "    <tr>\n",
       "      <th>1</th>\n",
       "      <td>22.288288</td>\n",
       "      <td>0.504808</td>\n",
       "      <td>3</td>\n",
       "      <td>6.645106</td>\n",
       "      <td>0.36198</td>\n",
       "      <td>0.187974</td>\n",
       "      <td>0.051422</td>\n",
       "      <td>6.916004</td>\n",
       "      <td>21.669956</td>\n",
       "      <td>6.137666</td>\n",
       "      <td>...</td>\n",
       "      <td>0.057901</td>\n",
       "      <td>0.060431</td>\n",
       "      <td>0.068428</td>\n",
       "      <td>0.072578</td>\n",
       "      <td>8.097682</td>\n",
       "      <td>5.733677</td>\n",
       "      <td>0.925182</td>\n",
       "      <td>8.111651</td>\n",
       "      <td>5.736208</td>\n",
       "      <td>0.927868</td>\n",
       "    </tr>\n",
       "    <tr>\n",
       "      <th>2</th>\n",
       "      <td>22.288288</td>\n",
       "      <td>0.504808</td>\n",
       "      <td>6</td>\n",
       "      <td>6.645106</td>\n",
       "      <td>0.36198</td>\n",
       "      <td>0.187974</td>\n",
       "      <td>0.051422</td>\n",
       "      <td>6.916004</td>\n",
       "      <td>21.669956</td>\n",
       "      <td>6.137666</td>\n",
       "      <td>...</td>\n",
       "      <td>0.057901</td>\n",
       "      <td>0.060431</td>\n",
       "      <td>0.068428</td>\n",
       "      <td>0.072578</td>\n",
       "      <td>8.097682</td>\n",
       "      <td>5.733677</td>\n",
       "      <td>0.925182</td>\n",
       "      <td>8.111651</td>\n",
       "      <td>5.736208</td>\n",
       "      <td>0.927868</td>\n",
       "    </tr>\n",
       "    <tr>\n",
       "      <th>3</th>\n",
       "      <td>22.288288</td>\n",
       "      <td>0.504808</td>\n",
       "      <td>9</td>\n",
       "      <td>6.645106</td>\n",
       "      <td>0.36198</td>\n",
       "      <td>0.187974</td>\n",
       "      <td>0.051422</td>\n",
       "      <td>6.916004</td>\n",
       "      <td>21.669956</td>\n",
       "      <td>6.137666</td>\n",
       "      <td>...</td>\n",
       "      <td>0.057901</td>\n",
       "      <td>0.060431</td>\n",
       "      <td>0.068428</td>\n",
       "      <td>0.072578</td>\n",
       "      <td>8.097682</td>\n",
       "      <td>5.733677</td>\n",
       "      <td>0.925182</td>\n",
       "      <td>8.111651</td>\n",
       "      <td>5.736208</td>\n",
       "      <td>0.927868</td>\n",
       "    </tr>\n",
       "    <tr>\n",
       "      <th>4</th>\n",
       "      <td>22.288288</td>\n",
       "      <td>0.504808</td>\n",
       "      <td>12</td>\n",
       "      <td>6.645106</td>\n",
       "      <td>0.36198</td>\n",
       "      <td>0.187974</td>\n",
       "      <td>0.051422</td>\n",
       "      <td>6.916004</td>\n",
       "      <td>21.669956</td>\n",
       "      <td>6.137666</td>\n",
       "      <td>...</td>\n",
       "      <td>0.057901</td>\n",
       "      <td>0.060431</td>\n",
       "      <td>0.068428</td>\n",
       "      <td>0.072578</td>\n",
       "      <td>8.097682</td>\n",
       "      <td>5.733677</td>\n",
       "      <td>0.925182</td>\n",
       "      <td>8.111651</td>\n",
       "      <td>5.736208</td>\n",
       "      <td>0.927868</td>\n",
       "    </tr>\n",
       "  </tbody>\n",
       "</table>\n",
       "<p>5 rows × 36 columns</p>\n",
       "</div>"
      ],
      "text/plain": [
       "   blueWardsPlaced  blueFirstBlood  blueKills  blueAssists  blueDragons  \\\n",
       "0        22.288288        0.504808          0     6.645106      0.36198   \n",
       "1        22.288288        0.504808          3     6.645106      0.36198   \n",
       "2        22.288288        0.504808          6     6.645106      0.36198   \n",
       "3        22.288288        0.504808          9     6.645106      0.36198   \n",
       "4        22.288288        0.504808         12     6.645106      0.36198   \n",
       "\n",
       "   blueHeralds  blueTowersDestroyed  blueAvgLevel  blueCSPerMin  redKills  \\\n",
       "0     0.187974             0.051422      6.916004     21.669956  6.137666   \n",
       "1     0.187974             0.051422      6.916004     21.669956  6.137666   \n",
       "2     0.187974             0.051422      6.916004     21.669956  6.137666   \n",
       "3     0.187974             0.051422      6.916004     21.669956  6.137666   \n",
       "4     0.187974             0.051422      6.916004     21.669956  6.137666   \n",
       "\n",
       "   ...  blueHas39  redHas39  blueHas517  redHas517  blueMaxLevel  \\\n",
       "0  ...   0.057901  0.060431    0.068428   0.072578      8.097682   \n",
       "1  ...   0.057901  0.060431    0.068428   0.072578      8.097682   \n",
       "2  ...   0.057901  0.060431    0.068428   0.072578      8.097682   \n",
       "3  ...   0.057901  0.060431    0.068428   0.072578      8.097682   \n",
       "4  ...   0.057901  0.060431    0.068428   0.072578      8.097682   \n",
       "\n",
       "   blueMinLevel  blueSTDLevels  redMaxLevel  redMinLevel  redSTDLevels  \n",
       "0      5.733677       0.925182     8.111651     5.736208      0.927868  \n",
       "1      5.733677       0.925182     8.111651     5.736208      0.927868  \n",
       "2      5.733677       0.925182     8.111651     5.736208      0.927868  \n",
       "3      5.733677       0.925182     8.111651     5.736208      0.927868  \n",
       "4      5.733677       0.925182     8.111651     5.736208      0.927868  \n",
       "\n",
       "[5 rows x 36 columns]"
      ]
     },
     "execution_count": 33,
     "metadata": {},
     "output_type": "execute_result"
    }
   ],
   "source": [
    "kill_check"
   ]
  },
  {
   "cell_type": "code",
   "execution_count": 34,
   "id": "8195a896-17eb-46d0-87a0-7a87b9ffe98b",
   "metadata": {},
   "outputs": [],
   "source": [
    "kill_probs = [proba[1] for proba in logreg.predict_proba(scaler.transform(kill_check))]"
   ]
  },
  {
   "cell_type": "code",
   "execution_count": 35,
   "id": "37f7c8a0-3051-4330-8cc7-403b74aa636a",
   "metadata": {},
   "outputs": [
    {
     "data": {
      "image/png": "[encoded data removed]",
      "text/plain": [
       "<Figure size 936x504 with 1 Axes>"
      ]
     },
     "metadata": {
      "needs_background": "light"
     },
     "output_type": "display_data"
    }
   ],
   "source": [
    "fig, ax = plt.subplots(figsize = (13, 7))\n",
    "ax.plot([0,3,6,9,12], kill_probs)\n",
    "\n",
    "ax.set_title('Winning Probabilities for Varying Number of Kills', fontsize = 20)\n",
    "ax.set_xlabel('Number of Kills', fontsize = 15)\n",
    "ax.set_ylabel('Chance of Winning')\n",
    "fig.tight_layout()\n",
    "plt.savefig('../../../../Images/probs_kills.jpeg');"
   ]
  },
  {
   "cell_type": "code",
   "execution_count": 36,
   "id": "edbea8ea-74ed-432b-9a6e-30c07dfcb5f5",
   "metadata": {},
   "outputs": [],
   "source": [
    "cs_check = just_average.copy()\n",
    "cs_check['blueCSPerMin'] = [17,19,21,23,25]"
   ]
  },
  {
   "cell_type": "code",
   "execution_count": 37,
   "id": "098a8150-b0ec-4e5c-86e0-219415992c96",
   "metadata": {},
   "outputs": [
    {
     "data": {
      "text/html": [
       "<div>\n",
       "<style scoped>\n",
       "    .dataframe tbody tr th:only-of-type {\n",
       "        vertical-align: middle;\n",
       "    }\n",
       "\n",
       "    .dataframe tbody tr th {\n",
       "        vertical-align: top;\n",
       "    }\n",
       "\n",
       "    .dataframe thead th {\n",
       "        text-align: right;\n",
       "    }\n",
       "</style>\n",
       "<table border=\"1\" class=\"dataframe\">\n",
       "  <thead>\n",
       "    <tr style=\"text-align: right;\">\n",
       "      <th></th>\n",
       "      <th>blueWardsPlaced</th>\n",
       "      <th>blueFirstBlood</th>\n",
       "      <th>blueKills</th>\n",
       "      <th>blueAssists</th>\n",
       "      <th>blueDragons</th>\n",
       "      <th>blueHeralds</th>\n",
       "      <th>blueTowersDestroyed</th>\n",
       "      <th>blueAvgLevel</th>\n",
       "      <th>blueCSPerMin</th>\n",
       "      <th>redKills</th>\n",
       "      <th>...</th>\n",
       "      <th>blueHas39</th>\n",
       "      <th>redHas39</th>\n",
       "      <th>blueHas517</th>\n",
       "      <th>redHas517</th>\n",
       "      <th>blueMaxLevel</th>\n",
       "      <th>blueMinLevel</th>\n",
       "      <th>blueSTDLevels</th>\n",
       "      <th>redMaxLevel</th>\n",
       "      <th>redMinLevel</th>\n",
       "      <th>redSTDLevels</th>\n",
       "    </tr>\n",
       "  </thead>\n",
       "  <tbody>\n",
       "    <tr>\n",
       "      <th>0</th>\n",
       "      <td>22.288288</td>\n",
       "      <td>0.504808</td>\n",
       "      <td>6.183925</td>\n",
       "      <td>6.645106</td>\n",
       "      <td>0.36198</td>\n",
       "      <td>0.187974</td>\n",
       "      <td>0.051422</td>\n",
       "      <td>6.916004</td>\n",
       "      <td>17</td>\n",
       "      <td>6.137666</td>\n",
       "      <td>...</td>\n",
       "      <td>0.057901</td>\n",
       "      <td>0.060431</td>\n",
       "      <td>0.068428</td>\n",
       "      <td>0.072578</td>\n",
       "      <td>8.097682</td>\n",
       "      <td>5.733677</td>\n",
       "      <td>0.925182</td>\n",
       "      <td>8.111651</td>\n",
       "      <td>5.736208</td>\n",
       "      <td>0.927868</td>\n",
       "    </tr>\n",
       "    <tr>\n",
       "      <th>1</th>\n",
       "      <td>22.288288</td>\n",
       "      <td>0.504808</td>\n",
       "      <td>6.183925</td>\n",
       "      <td>6.645106</td>\n",
       "      <td>0.36198</td>\n",
       "      <td>0.187974</td>\n",
       "      <td>0.051422</td>\n",
       "      <td>6.916004</td>\n",
       "      <td>19</td>\n",
       "      <td>6.137666</td>\n",
       "      <td>...</td>\n",
       "      <td>0.057901</td>\n",
       "      <td>0.060431</td>\n",
       "      <td>0.068428</td>\n",
       "      <td>0.072578</td>\n",
       "      <td>8.097682</td>\n",
       "      <td>5.733677</td>\n",
       "      <td>0.925182</td>\n",
       "      <td>8.111651</td>\n",
       "      <td>5.736208</td>\n",
       "      <td>0.927868</td>\n",
       "    </tr>\n",
       "    <tr>\n",
       "      <th>2</th>\n",
       "      <td>22.288288</td>\n",
       "      <td>0.504808</td>\n",
       "      <td>6.183925</td>\n",
       "      <td>6.645106</td>\n",
       "      <td>0.36198</td>\n",
       "      <td>0.187974</td>\n",
       "      <td>0.051422</td>\n",
       "      <td>6.916004</td>\n",
       "      <td>21</td>\n",
       "      <td>6.137666</td>\n",
       "      <td>...</td>\n",
       "      <td>0.057901</td>\n",
       "      <td>0.060431</td>\n",
       "      <td>0.068428</td>\n",
       "      <td>0.072578</td>\n",
       "      <td>8.097682</td>\n",
       "      <td>5.733677</td>\n",
       "      <td>0.925182</td>\n",
       "      <td>8.111651</td>\n",
       "      <td>5.736208</td>\n",
       "      <td>0.927868</td>\n",
       "    </tr>\n",
       "    <tr>\n",
       "      <th>3</th>\n",
       "      <td>22.288288</td>\n",
       "      <td>0.504808</td>\n",
       "      <td>6.183925</td>\n",
       "      <td>6.645106</td>\n",
       "      <td>0.36198</td>\n",
       "      <td>0.187974</td>\n",
       "      <td>0.051422</td>\n",
       "      <td>6.916004</td>\n",
       "      <td>23</td>\n",
       "      <td>6.137666</td>\n",
       "      <td>...</td>\n",
       "      <td>0.057901</td>\n",
       "      <td>0.060431</td>\n",
       "      <td>0.068428</td>\n",
       "      <td>0.072578</td>\n",
       "      <td>8.097682</td>\n",
       "      <td>5.733677</td>\n",
       "      <td>0.925182</td>\n",
       "      <td>8.111651</td>\n",
       "      <td>5.736208</td>\n",
       "      <td>0.927868</td>\n",
       "    </tr>\n",
       "    <tr>\n",
       "      <th>4</th>\n",
       "      <td>22.288288</td>\n",
       "      <td>0.504808</td>\n",
       "      <td>6.183925</td>\n",
       "      <td>6.645106</td>\n",
       "      <td>0.36198</td>\n",
       "      <td>0.187974</td>\n",
       "      <td>0.051422</td>\n",
       "      <td>6.916004</td>\n",
       "      <td>25</td>\n",
       "      <td>6.137666</td>\n",
       "      <td>...</td>\n",
       "      <td>0.057901</td>\n",
       "      <td>0.060431</td>\n",
       "      <td>0.068428</td>\n",
       "      <td>0.072578</td>\n",
       "      <td>8.097682</td>\n",
       "      <td>5.733677</td>\n",
       "      <td>0.925182</td>\n",
       "      <td>8.111651</td>\n",
       "      <td>5.736208</td>\n",
       "      <td>0.927868</td>\n",
       "    </tr>\n",
       "  </tbody>\n",
       "</table>\n",
       "<p>5 rows × 36 columns</p>\n",
       "</div>"
      ],
      "text/plain": [
       "   blueWardsPlaced  blueFirstBlood  blueKills  blueAssists  blueDragons  \\\n",
       "0        22.288288        0.504808   6.183925     6.645106      0.36198   \n",
       "1        22.288288        0.504808   6.183925     6.645106      0.36198   \n",
       "2        22.288288        0.504808   6.183925     6.645106      0.36198   \n",
       "3        22.288288        0.504808   6.183925     6.645106      0.36198   \n",
       "4        22.288288        0.504808   6.183925     6.645106      0.36198   \n",
       "\n",
       "   blueHeralds  blueTowersDestroyed  blueAvgLevel  blueCSPerMin  redKills  \\\n",
       "0     0.187974             0.051422      6.916004            17  6.137666   \n",
       "1     0.187974             0.051422      6.916004            19  6.137666   \n",
       "2     0.187974             0.051422      6.916004            21  6.137666   \n",
       "3     0.187974             0.051422      6.916004            23  6.137666   \n",
       "4     0.187974             0.051422      6.916004            25  6.137666   \n",
       "\n",
       "   ...  blueHas39  redHas39  blueHas517  redHas517  blueMaxLevel  \\\n",
       "0  ...   0.057901  0.060431    0.068428   0.072578      8.097682   \n",
       "1  ...   0.057901  0.060431    0.068428   0.072578      8.097682   \n",
       "2  ...   0.057901  0.060431    0.068428   0.072578      8.097682   \n",
       "3  ...   0.057901  0.060431    0.068428   0.072578      8.097682   \n",
       "4  ...   0.057901  0.060431    0.068428   0.072578      8.097682   \n",
       "\n",
       "   blueMinLevel  blueSTDLevels  redMaxLevel  redMinLevel  redSTDLevels  \n",
       "0      5.733677       0.925182     8.111651     5.736208      0.927868  \n",
       "1      5.733677       0.925182     8.111651     5.736208      0.927868  \n",
       "2      5.733677       0.925182     8.111651     5.736208      0.927868  \n",
       "3      5.733677       0.925182     8.111651     5.736208      0.927868  \n",
       "4      5.733677       0.925182     8.111651     5.736208      0.927868  \n",
       "\n",
       "[5 rows x 36 columns]"
      ]
     },
     "execution_count": 37,
     "metadata": {},
     "output_type": "execute_result"
    }
   ],
   "source": [
    "cs_check"
   ]
  },
  {
   "cell_type": "code",
   "execution_count": 38,
   "id": "6c4f5a73-b1a2-4f32-b8c1-5eab06cd84f2",
   "metadata": {},
   "outputs": [],
   "source": [
    "cs_probs = [proba[1] for proba in logreg.predict_proba(scaler.transform(cs_check))]"
   ]
  },
  {
   "cell_type": "code",
   "execution_count": 39,
   "id": "f4cb7c6a-f0f4-4dc6-802d-bf3da2888bcc",
   "metadata": {},
   "outputs": [
    {
     "data": {
      "image/png": "[encoded data removed]",
      "text/plain": [
       "<Figure size 936x504 with 1 Axes>"
      ]
     },
     "metadata": {
      "needs_background": "light"
     },
     "output_type": "display_data"
    }
   ],
   "source": [
    "fig, ax = plt.subplots(figsize = (13, 7))\n",
    "ax.plot([17,19,21,23,25], cs_probs)\n",
    "\n",
    "ax.set_title('Winning Probabilities for Varying CS/minute', fontsize = 20)\n",
    "ax.set_xlabel('CS Per Minute', fontsize = 15)\n",
    "ax.set_ylabel('Chance of Winning')\n",
    "fig.tight_layout()\n",
    "plt.savefig('../../../../Images/probs_cs.jpeg');"
   ]
  }
 ],
 "metadata": {
  "kernelspec": {
   "display_name": "learn-env",
   "language": "python",
   "name": "learn-env"
  },
  "language_info": {
   "codemirror_mode": {
    "name": "ipython",
    "version": 3
   },
   "file_extension": ".py",
   "mimetype": "text/x-python",
   "name": "python",
   "nbconvert_exporter": "python",
   "pygments_lexer": "ipython3",
   "version": "3.8.5"
  }
 },
 "nbformat": 4,
 "nbformat_minor": 5
}
