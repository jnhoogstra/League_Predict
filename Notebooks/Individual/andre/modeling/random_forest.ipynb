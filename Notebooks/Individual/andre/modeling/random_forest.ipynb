{
 "cells": [
  {
   "cell_type": "code",
   "execution_count": 1,
   "id": "430227d9-de41-4969-a8d5-42d55ffbbe4f",
   "metadata": {},
   "outputs": [],
   "source": [
    "import pandas as pd"
   ]
  },
  {
   "cell_type": "code",
   "execution_count": 2,
   "id": "5cba699c-397b-4d0b-a5d8-5698c31fd259",
   "metadata": {},
   "outputs": [],
   "source": [
    "df = pd.read_csv('../../../../archive/All_high_diamond.csv')"
   ]
  },
  {
   "cell_type": "code",
   "execution_count": 3,
   "id": "81f24086-473c-426c-aa32-d2fac6cc5136",
   "metadata": {},
   "outputs": [],
   "source": [
    "df.drop(['gameId', 'blueChamps','redChamps','roles','blueRoles','redRoles','levels','blueLevels','redLevels'], axis = 1, inplace = True)"
   ]
  },
  {
   "cell_type": "code",
   "execution_count": 4,
   "id": "0a5e6f9d-f3db-4d56-890c-8ab6883dcd8b",
   "metadata": {},
   "outputs": [],
   "source": [
    "X = df.drop('blueWins', axis = 1)\n",
    "y = df['blueWins']"
   ]
  },
  {
   "cell_type": "code",
   "execution_count": 5,
   "id": "ea369d62-171d-46d8-9109-8d1f70ddbaa0",
   "metadata": {},
   "outputs": [],
   "source": [
    "from sklearn.model_selection import train_test_split as t_t_s\n",
    "\n",
    "X_train, X_test, y_train, y_test = t_t_s(X, y)"
   ]
  },
  {
   "cell_type": "code",
   "execution_count": 6,
   "id": "a364f1b1-e0ef-41a1-a6b2-1e4e41b4e50e",
   "metadata": {},
   "outputs": [],
   "source": [
    "from sklearn.ensemble import RandomForestClassifier\n",
    "from sklearn.model_selection import GridSearchCV\n",
    "\n",
    "forest = RandomForestClassifier()\n",
    "\n",
    "params = {\n",
    "    'n_estimators':list(range(150,176,5)),\n",
    "    'criterion':['gini'],\n",
    "    'max_depth':list(range(25,36)),\n",
    "    'min_samples_leaf':list(range(10,21))\n",
    "}"
   ]
  },
  {
   "cell_type": "code",
   "execution_count": 7,
   "id": "91db1372-6aae-4789-b855-fdb3a25d42f3",
   "metadata": {},
   "outputs": [
    {
     "data": {
      "text/plain": [
       "GridSearchCV(cv=5, estimator=RandomForestClassifier(),\n",
       "             param_grid={'criterion': ['gini'],\n",
       "                         'max_depth': [25, 26, 27, 28, 29, 30, 31, 32, 33, 34,\n",
       "                                       35],\n",
       "                         'min_samples_leaf': [10, 11, 12, 13, 14, 15, 16, 17,\n",
       "                                              18, 19, 20],\n",
       "                         'n_estimators': [150, 155, 160, 165, 170, 175]},\n",
       "             scoring='accuracy')"
      ]
     },
     "execution_count": 7,
     "metadata": {},
     "output_type": "execute_result"
    }
   ],
   "source": [
    "grid = GridSearchCV(forest, params, scoring = 'accuracy', cv = 5)\n",
    "grid.fit(X_train, y_train)"
   ]
  },
  {
   "cell_type": "code",
   "execution_count": 8,
   "id": "4db481fa-9cc7-4ffc-b756-ae120ab2b783",
   "metadata": {},
   "outputs": [
    {
     "data": {
      "text/plain": [
       "{'criterion': 'gini',\n",
       " 'max_depth': 26,\n",
       " 'min_samples_leaf': 12,\n",
       " 'n_estimators': 150}"
      ]
     },
     "execution_count": 8,
     "metadata": {},
     "output_type": "execute_result"
    }
   ],
   "source": [
    "grid.best_params_"
   ]
  },
  {
   "cell_type": "code",
   "execution_count": 9,
   "id": "434e3b0e-6a1e-4e7b-8f08-6c23b9f189f8",
   "metadata": {},
   "outputs": [
    {
     "data": {
      "text/plain": [
       "RandomForestClassifier(max_depth=26, min_samples_leaf=12, n_estimators=150)"
      ]
     },
     "execution_count": 9,
     "metadata": {},
     "output_type": "execute_result"
    }
   ],
   "source": [
    "best_forest = RandomForestClassifier(**grid.best_params_)\n",
    "\n",
    "best_forest.fit(X_train, y_train)"
   ]
  },
  {
   "cell_type": "code",
   "execution_count": 10,
   "id": "9039b889-4b6d-457e-9b5a-88376f9468ea",
   "metadata": {},
   "outputs": [
    {
     "data": {
      "text/plain": [
       "0.8256174922391686"
      ]
     },
     "execution_count": 10,
     "metadata": {},
     "output_type": "execute_result"
    }
   ],
   "source": [
    "best_forest.score(X_train, y_train)"
   ]
  },
  {
   "cell_type": "code",
   "execution_count": 11,
   "id": "0dec4fe8-f755-4ea1-93c0-e471dea448c9",
   "metadata": {},
   "outputs": [
    {
     "data": {
      "text/plain": [
       "0.7352226720647773"
      ]
     },
     "execution_count": 11,
     "metadata": {},
     "output_type": "execute_result"
    }
   ],
   "source": [
    "best_forest.score(X_test, y_test)"
   ]
  },
  {
   "cell_type": "code",
   "execution_count": 12,
   "id": "cfa35f8f-8edc-4ea3-b424-792ca0a05cdd",
   "metadata": {},
   "outputs": [
    {
     "data": {
      "text/plain": [
       "[('blueWardsPlaced', 1.144776392236856),\n",
       " ('blueWardsDestroyed', 0.653552053791367),\n",
       " ('blueFirstBlood', 0.6428144050251487),\n",
       " ('blueKills', 2.487190075429564),\n",
       " ('blueAssists', 1.7881563369349738),\n",
       " ('blueDragons', 1.4571859217910563),\n",
       " ('blueHeralds', 0.17984150582692843),\n",
       " ('blueTowersDestroyed', 0.00901722707035259),\n",
       " ('blueAvgLevel', 3.1994537314531986),\n",
       " ('blueTotalExperience', 6.303619328924897),\n",
       " ('blueTotalJungleMinionsKilled', 1.4083164275061941),\n",
       " ('blueGoldDiff', 16.221957220303317),\n",
       " ('blueExperienceDiff', 12.656605762181073),\n",
       " ('blueCSPerMin', 2.015529582205577),\n",
       " ('blueGoldPerMin', 6.280929279354597),\n",
       " ('redWardsPlaced', 0.9739034874844849),\n",
       " ('redWardsDestroyed', 0.6769200903483381),\n",
       " ('redKills', 2.59738321385128),\n",
       " ('redAssists', 1.7756827905567922),\n",
       " ('redDragons', 1.2677244502876357),\n",
       " ('redHeralds', 0.14502704055830978),\n",
       " ('redTowersDestroyed', 0.009027339033926239),\n",
       " ('redAvgLevel', 2.221690143770387),\n",
       " ('redTotalExperience', 5.5127766212878875),\n",
       " ('redTotalJungleMinionsKilled', 1.307057843759023),\n",
       " ('redCSPerMin', 1.8617598023667228),\n",
       " ('redGoldPerMin', 7.321988646879409),\n",
       " ('bluePredWinrate', 2.772364385391539),\n",
       " ('redPredWinrate', 2.8238291677792136),\n",
       " ('blueAvgPickrate', 1.6112240235790003),\n",
       " ('redAvgPickrate', 1.8458265988040992),\n",
       " ('blueHas62', 0.026168474412064307),\n",
       " ('redHas62', 0.04051069090293123),\n",
       " ('blueHas111', 0.09813671019728522),\n",
       " ('redHas111', 0.030938812354556706),\n",
       " ('blueHas145', 0.042387416260659096),\n",
       " ('redHas145', 0.04809129022206438),\n",
       " ('blueHas39', 0.024391718200150427),\n",
       " ('redHas39', 0.03603520111850174),\n",
       " ('blueHas517', 0.04184675554090972),\n",
       " ('redHas517', 0.04471725566450605),\n",
       " ('blueConventional', 0.28813301237466976),\n",
       " ('redConventional', 0.2760550698083503),\n",
       " ('blueBottoms', 0.5193628861493171),\n",
       " ('blueMiddles', 0.5977548896615225),\n",
       " ('blueTops', 0.22815927256022192),\n",
       " ('blueJungles', 1.0911629880772442),\n",
       " ('redBottoms', 1.0184524726332043),\n",
       " ('redMiddles', 0.6319544850581551),\n",
       " ('redTops', 0.4212729904617899),\n",
       " ('redJungles', 0.8686853092366531),\n",
       " ('blueMaxLevel', 0.13991933828754877),\n",
       " ('blueMinLevel', 0.242618834499045),\n",
       " ('blueSTDLevels', 0.843807796665753),\n",
       " ('redMaxLevel', 0.19039711351963715),\n",
       " ('redMinLevel', 0.21854108989800858),\n",
       " ('redSTDLevels', 0.8173672304621097)]"
      ]
     },
     "execution_count": 12,
     "metadata": {},
     "output_type": "execute_result"
    }
   ],
   "source": [
    "list(zip(X.columns, best_forest.feature_importances_*100))"
   ]
  },
  {
   "cell_type": "code",
   "execution_count": null,
   "id": "2b2accce-661c-421f-908c-34df85f645db",
   "metadata": {},
   "outputs": [],
   "source": [
    "import IPython\n",
    "IPython.display.Audio('sound.mp3', autoplay = True)"
   ]
  }
 ],
 "metadata": {
  "kernelspec": {
   "display_name": "learn-env",
   "language": "python",
   "name": "learn-env"
  },
  "language_info": {
   "codemirror_mode": {
    "name": "ipython",
    "version": 3
   },
   "file_extension": ".py",
   "mimetype": "text/x-python",
   "name": "python",
   "nbconvert_exporter": "python",
   "pygments_lexer": "ipython3",
   "version": "3.8.5"
  }
 },
 "nbformat": 4,
 "nbformat_minor": 5
}
