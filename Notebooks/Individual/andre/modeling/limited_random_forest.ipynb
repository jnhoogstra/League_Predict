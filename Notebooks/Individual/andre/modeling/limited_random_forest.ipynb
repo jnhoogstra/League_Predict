{
 "cells": [
  {
   "cell_type": "code",
   "execution_count": 1,
   "id": "c9eabe81-b240-450d-9290-3bb4ebf9f0f7",
   "metadata": {},
   "outputs": [],
   "source": [
    "import pandas as pd"
   ]
  },
  {
   "cell_type": "code",
   "execution_count": 2,
   "id": "c59a691c-b0fc-402e-8c73-919922fe3d32",
   "metadata": {},
   "outputs": [],
   "source": [
    "df = pd.read_csv('../../../../archive/All_high_diamond.csv')"
   ]
  },
  {
   "cell_type": "code",
   "execution_count": 3,
   "id": "cc8a9fdb-9ae8-4c79-9afa-ac54707ce565",
   "metadata": {},
   "outputs": [
    {
     "data": {
      "text/plain": [
       "Index(['gameId', 'blueWins', 'blueWardsPlaced', 'blueWardsDestroyed',\n",
       "       'blueFirstBlood', 'blueKills', 'blueAssists', 'blueDragons',\n",
       "       'blueHeralds', 'blueTowersDestroyed', 'blueAvgLevel',\n",
       "       'blueTotalExperience', 'blueTotalJungleMinionsKilled', 'blueGoldDiff',\n",
       "       'blueExperienceDiff', 'blueCSPerMin', 'blueGoldPerMin',\n",
       "       'redWardsPlaced', 'redWardsDestroyed', 'redKills', 'redAssists',\n",
       "       'redDragons', 'redHeralds', 'redTowersDestroyed', 'redAvgLevel',\n",
       "       'redTotalExperience', 'redTotalJungleMinionsKilled', 'redCSPerMin',\n",
       "       'redGoldPerMin', 'blueChamps', 'redChamps', 'bluePredWinrate',\n",
       "       'redPredWinrate', 'blueAvgPickrate', 'redAvgPickrate', 'blueHas62',\n",
       "       'redHas62', 'blueHas111', 'redHas111', 'blueHas145', 'redHas145',\n",
       "       'blueHas39', 'redHas39', 'blueHas517', 'redHas517', 'roles',\n",
       "       'blueRoles', 'redRoles', 'blueConventional', 'redConventional',\n",
       "       'blueBottoms', 'blueMiddles', 'blueTops', 'blueJungles', 'redBottoms',\n",
       "       'redMiddles', 'redTops', 'redJungles', 'levels', 'blueLevels',\n",
       "       'redLevels', 'blueMaxLevel', 'blueMinLevel', 'blueSTDLevels',\n",
       "       'redMaxLevel', 'redMinLevel', 'redSTDLevels'],\n",
       "      dtype='object')"
      ]
     },
     "execution_count": 3,
     "metadata": {},
     "output_type": "execute_result"
    }
   ],
   "source": [
    "df.columns"
   ]
  },
  {
   "cell_type": "code",
   "execution_count": 4,
   "id": "026d20d0-9aa5-450d-970f-834871bf977d",
   "metadata": {},
   "outputs": [],
   "source": [
    "df.drop(['gameId', 'blueChamps','redChamps','roles','blueRoles','redRoles',\n",
    "         'levels','blueLevels','redLevels','blueWardsDestroyed','blueTotalExperience',\n",
    "         'blueTotalJungleMinionsKilled','blueGoldDiff','blueExperienceDiff','blueGoldPerMin',\n",
    "         'redWardsPlaced','redWardsDestroyed','redTotalExperience','redTotalJungleMinionsKilled',\n",
    "         'redGoldPerMin','blueConventional','redConventional','blueBottoms','blueMiddles',\n",
    "         'blueTops','blueJungles','redBottoms','redMiddles','redTops','redJungles'], axis = 1, inplace = True)"
   ]
  },
  {
   "cell_type": "code",
   "execution_count": 5,
   "id": "01b54698-7c85-4606-a7a1-358302c289b7",
   "metadata": {},
   "outputs": [],
   "source": [
    "X = df.drop('blueWins', axis = 1)\n",
    "y = df['blueWins']"
   ]
  },
  {
   "cell_type": "code",
   "execution_count": 6,
   "id": "4feaaa80-57d5-44bf-8b1c-2be40e2664a5",
   "metadata": {},
   "outputs": [],
   "source": [
    "from sklearn.model_selection import train_test_split as t_t_s\n",
    "\n",
    "X_train, X_test, y_train, y_test = t_t_s(X, y)"
   ]
  },
  {
   "cell_type": "code",
   "execution_count": 7,
   "id": "9362c0ea-0d6e-429d-bfd7-4b5ece76ec38",
   "metadata": {},
   "outputs": [],
   "source": [
    "from sklearn.ensemble import RandomForestClassifier\n",
    "from sklearn.model_selection import GridSearchCV\n",
    "\n",
    "forest = RandomForestClassifier()\n",
    "\n",
    "params = {\n",
    "    'n_estimators':list(range(150,176,5)),\n",
    "    'criterion':['gini'],\n",
    "    'max_depth':list(range(25,36)),\n",
    "    'min_samples_leaf':list(range(10,21))\n",
    "}"
   ]
  },
  {
   "cell_type": "code",
   "execution_count": 8,
   "id": "3e20e821-2167-45f8-ba6d-95514589e067",
   "metadata": {},
   "outputs": [],
   "source": [
    "grid = GridSearchCV(forest, params, scoring = 'accuracy', cv = 5)\n",
    "# grid.fit(X_train, y_train)"
   ]
  },
  {
   "cell_type": "code",
   "execution_count": 9,
   "id": "b01dada6-f25f-4010-aa33-3e2cc9464b2c",
   "metadata": {},
   "outputs": [],
   "source": [
    "# grid.best_params_"
   ]
  },
  {
   "cell_type": "code",
   "execution_count": 10,
   "id": "f2ea5079-ed36-49c8-8f84-d40e32e10cf0",
   "metadata": {},
   "outputs": [
    {
     "data": {
      "text/plain": [
       "RandomForestClassifier(max_depth=26, min_samples_leaf=12, n_estimators=150)"
      ]
     },
     "execution_count": 10,
     "metadata": {},
     "output_type": "execute_result"
    }
   ],
   "source": [
    "best_forest = RandomForestClassifier(criterion = 'gini', max_depth = 26, min_samples_leaf = 12, \n",
    "                                    n_estimators = 150)\n",
    "\n",
    "best_forest.fit(X_train, y_train)"
   ]
  },
  {
   "cell_type": "code",
   "execution_count": 11,
   "id": "3ea1eb41-22e1-4ffa-a78b-3e173b575297",
   "metadata": {},
   "outputs": [
    {
     "data": {
      "text/plain": [
       "0.8102308003779187"
      ]
     },
     "execution_count": 11,
     "metadata": {},
     "output_type": "execute_result"
    }
   ],
   "source": [
    "best_forest.score(X_train, y_train)"
   ]
  },
  {
   "cell_type": "code",
   "execution_count": 12,
   "id": "698147dd-2271-4475-806a-637fc1c8b962",
   "metadata": {},
   "outputs": [
    {
     "data": {
      "text/plain": [
       "0.728744939271255"
      ]
     },
     "execution_count": 12,
     "metadata": {},
     "output_type": "execute_result"
    }
   ],
   "source": [
    "best_forest.score(X_test, y_test)"
   ]
  },
  {
   "cell_type": "code",
   "execution_count": 13,
   "id": "5eb05df5-ade1-424b-b891-45280abdc1cb",
   "metadata": {},
   "outputs": [
    {
     "data": {
      "text/plain": [
       "[('blueWardsPlaced', 1.981504691878343),\n",
       " ('blueFirstBlood', 1.739883289397427),\n",
       " ('blueKills', 10.118784055845307),\n",
       " ('blueAssists', 5.827019898764536),\n",
       " ('blueDragons', 2.8034574016805704),\n",
       " ('blueHeralds', 0.339212455743432),\n",
       " ('blueTowersDestroyed', 0.11433946477497371),\n",
       " ('blueAvgLevel', 10.786102366418875),\n",
       " ('blueCSPerMin', 5.1380663404118225),\n",
       " ('redKills', 11.05202147964727),\n",
       " ('redAssists', 5.558991326550573),\n",
       " ('redDragons', 2.5011357974653086),\n",
       " ('redHeralds', 0.32587248165697685),\n",
       " ('redTowersDestroyed', 0.09511515545655755),\n",
       " ('redAvgLevel', 11.486673933549909),\n",
       " ('redCSPerMin', 6.127981068909055),\n",
       " ('bluePredWinrate', 5.281816124317029),\n",
       " ('redPredWinrate', 4.935777157704113),\n",
       " ('blueAvgPickrate', 3.23058573964723),\n",
       " ('redAvgPickrate', 3.6870650903915934),\n",
       " ('blueHas62', 0.052569862339683936),\n",
       " ('redHas62', 0.09105552406954814),\n",
       " ('blueHas111', 0.07242033132141279),\n",
       " ('redHas111', 0.08648976972346613),\n",
       " ('blueHas145', 0.09333457385798642),\n",
       " ('redHas145', 0.12536107913610378),\n",
       " ('blueHas39', 0.04121022480631232),\n",
       " ('redHas39', 0.08127828285851307),\n",
       " ('blueHas517', 0.04652886748569976),\n",
       " ('redHas517', 0.044839982098867276),\n",
       " ('blueMaxLevel', 0.6516991959421041),\n",
       " ('blueMinLevel', 0.9085749115829574),\n",
       " ('blueSTDLevels', 1.6634113216760025),\n",
       " ('redMaxLevel', 0.5445753505826051),\n",
       " ('redMinLevel', 0.7609686760190468),\n",
       " ('redSTDLevels', 1.604276726288784)]"
      ]
     },
     "execution_count": 13,
     "metadata": {},
     "output_type": "execute_result"
    }
   ],
   "source": [
    "list(zip(X.columns, best_forest.feature_importances_*100))"
   ]
  },
  {
   "cell_type": "code",
   "execution_count": 14,
   "id": "ec1800c4-cf88-4050-b4ae-f3e1ffe89af1",
   "metadata": {},
   "outputs": [
    {
     "data": {
      "text/html": [
       "\n",
       "                <audio  controls=\"controls\" autoplay=\"autoplay\">\n",
       "                    <source src=\"data:audio/mpeg;base64,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\" type=\"audio/mpeg\" />\n",
       "                    Your browser does not support the audio element.\n",
       "                </audio>\n",
       "              "
      ],
      "text/plain": [
       "<IPython.lib.display.Audio object>"
      ]
     },
     "execution_count": 14,
     "metadata": {},
     "output_type": "execute_result"
    }
   ],
   "source": [
    "import IPython\n",
    "IPython.display.Audio('sound.mp3', autoplay = True)"
   ]
  },
  {
   "cell_type": "code",
   "execution_count": 15,
   "id": "5be32dac-d10c-49ba-a32a-18869da3a20d",
   "metadata": {},
   "outputs": [],
   "source": [
    "df.to_csv(path_or_buf = '../../../../archive/Limited_high_diamond.csv', index = False)"
   ]
  }
 ],
 "metadata": {
  "kernelspec": {
   "display_name": "learn-env",
   "language": "python",
   "name": "learn-env"
  },
  "language_info": {
   "codemirror_mode": {
    "name": "ipython",
    "version": 3
   },
   "file_extension": ".py",
   "mimetype": "text/x-python",
   "name": "python",
   "nbconvert_exporter": "python",
   "pygments_lexer": "ipython3",
   "version": "3.8.5"
  }
 },
 "nbformat": 4,
 "nbformat_minor": 5
}
