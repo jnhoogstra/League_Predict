{
 "cells": [
  {
   "cell_type": "code",
   "execution_count": 1,
   "id": "4232f8f2-9ee8-4363-b340-ff87d358552d",
   "metadata": {},
   "outputs": [],
   "source": [
    "import pandas as pd\n",
    "import requests\n",
    "import json\n",
    "from time import sleep\n",
    "from functools import reduce"
   ]
  },
  {
   "cell_type": "code",
   "execution_count": 2,
   "id": "6e7ecb0e-acc7-476e-8c4d-02bcf6193440",
   "metadata": {},
   "outputs": [],
   "source": [
    "ids = pd.read_csv('../../../archive/high_diamond_ranked_10min_no_identical.csv')['gameId']"
   ]
  },
  {
   "cell_type": "code",
   "execution_count": 3,
   "id": "038f53f0-14cc-4412-b669-dfa237d767af",
   "metadata": {},
   "outputs": [
    {
     "data": {
      "text/plain": [
       "0     4519157822\n",
       "1     4523371949\n",
       "2     4521474530\n",
       "3     4524384067\n",
       "4     4436033771\n",
       "         ...    \n",
       "95    4524217548\n",
       "96    4499622849\n",
       "97    4499844894\n",
       "98    4460534353\n",
       "99    4495269641\n",
       "Name: gameId, Length: 100, dtype: int64"
      ]
     },
     "execution_count": 3,
     "metadata": {},
     "output_type": "execute_result"
    }
   ],
   "source": [
    "ids"
   ]
  },
  {
   "cell_type": "code",
   "execution_count": 4,
   "id": "17c56396-34b9-4a15-8f4c-de52b53f6a0e",
   "metadata": {},
   "outputs": [
    {
     "name": "stdout",
     "output_type": "stream",
     "text": [
      "1, 2, 3, 4, 5, 6, 7, 8, 9, 10, 11, 12, 13, 14, 15, 16, 17, 18, 19, 20, 21, 22, 23, 24, 25, 26, 27, 28, 29, 30, 31, 32, 33, 34, 35, 36, 37, 38, 39, 40, 41, 42, 43, 44, 45, 46, 47, 48, 49, 50, 51, 52, 53, 54, 55, 56, 57, 58, 59, 60, 61, 62, 63, 64, 65, 66, 67, 68, 69, 70, 71, 72, 73, 74, 75, 76, 77, 78, 79, 80, 81, 82, 83, 84, 85, 86, 87, 88, 89, 90, 91, 92, 93, 94, 95, 96, 97, 98, 99, 100, "
     ]
    }
   ],
   "source": [
    "champ_item_list = []\n",
    "champ_levels_list = []\n",
    "count = 0\n",
    "for id_ in ids:\n",
    "    count += 1\n",
    "    print(count, end = ', ')\n",
    "    url = f'https://euw1.api.riotgames.com/lol/match/v4/timelines/by-match/{id_}?api_key=RGAPI-9416670c-0f0d-4381-b0a9-c9e723634458'\n",
    "    got = requests.get(url)\n",
    "    timeline = json.loads(got.text)\n",
    "    sleep(1.2)\n",
    "\n",
    "    frames = timeline['frames'][:11]\n",
    "    events = [frame['events'] for frame in frames]\n",
    "    events = reduce(lambda a, b: a+b, events)\n",
    "    item_events = [event for event in events if event['type'].startswith('ITEM')]\n",
    "    \n",
    "    champ_items = {i:[] for i in range(1, 11)}\n",
    "    for event in item_events:\n",
    "        participant = event['participantId']\n",
    "        type_ = event['type']\n",
    "        if type_ == 'ITEM_UNDO':\n",
    "            if event['beforeId'] != 0:\n",
    "                champ_items[participant].remove(event['beforeId'])\n",
    "            else:\n",
    "                champ_items[participant].append(event['afterId'])\n",
    "        elif type_ == 'ITEM_PURCHASED':\n",
    "            item = event['itemId']\n",
    "            champ_items[participant].append(item)\n",
    "    \n",
    "    champ_item_list.append(champ_items)\n",
    "    \n",
    "    final = frames[-1]['participantFrames']\n",
    "    levels = champ_items = {i:None for i in range(1, 11)}\n",
    "    \n",
    "    for participant in final.values():\n",
    "        levels[participant['participantId']] = participant['level']\n",
    "    \n",
    "    champ_levels_list.append(levels)"
   ]
  },
  {
   "cell_type": "code",
   "execution_count": 5,
   "id": "3d54ae0b-8958-43e0-9dd9-fa5940e6f7ac",
   "metadata": {},
   "outputs": [
    {
     "data": {
      "text/html": [
       "<div>\n",
       "<style scoped>\n",
       "    .dataframe tbody tr th:only-of-type {\n",
       "        vertical-align: middle;\n",
       "    }\n",
       "\n",
       "    .dataframe tbody tr th {\n",
       "        vertical-align: top;\n",
       "    }\n",
       "\n",
       "    .dataframe thead th {\n",
       "        text-align: right;\n",
       "    }\n",
       "</style>\n",
       "<table border=\"1\" class=\"dataframe\">\n",
       "  <thead>\n",
       "    <tr style=\"text-align: right;\">\n",
       "      <th></th>\n",
       "      <th>items</th>\n",
       "      <th>levels</th>\n",
       "    </tr>\n",
       "  </thead>\n",
       "  <tbody>\n",
       "    <tr>\n",
       "      <th>0</th>\n",
       "      <td>{1: [3858, 2003, 3340, 1001, 2003, 1029, 2003,...</td>\n",
       "      <td>{1: 5, 2: 7, 3: 7, 4: 7, 5: 7, 6: 6, 7: 6, 8: ...</td>\n",
       "    </tr>\n",
       "    <tr>\n",
       "      <th>1</th>\n",
       "      <td>{1: [3340, 2003, 1056, 2003, 1052, 1001, 2003,...</td>\n",
       "      <td>{1: 7, 2: 5, 3: 8, 4: 6, 5: 7, 6: 6, 7: 7, 8: ...</td>\n",
       "    </tr>\n",
       "    <tr>\n",
       "      <th>2</th>\n",
       "      <td>{1: [1041, 2031, 3340, 3364, 1036, 3706, 1036,...</td>\n",
       "      <td>{1: 6, 2: 8, 3: 5, 4: 6, 5: 7, 6: 6, 7: 6, 8: ...</td>\n",
       "    </tr>\n",
       "    <tr>\n",
       "      <th>3</th>\n",
       "      <td>{1: [1041, 2031, 3340, 3715, 2055], 2: [1056, ...</td>\n",
       "      <td>{1: 7, 2: 8, 3: 7, 4: 7, 5: 6, 6: 6, 7: 6, 8: ...</td>\n",
       "    </tr>\n",
       "    <tr>\n",
       "      <th>4</th>\n",
       "      <td>{1: [1056, 2003, 2003, 3340, 1082, 1001, 2055,...</td>\n",
       "      <td>{1: 8, 2: 8, 3: 7, 4: 5, 5: 7, 6: 6, 7: 8, 8: ...</td>\n",
       "    </tr>\n",
       "  </tbody>\n",
       "</table>\n",
       "</div>"
      ],
      "text/plain": [
       "                                               items  \\\n",
       "0  {1: [3858, 2003, 3340, 1001, 2003, 1029, 2003,...   \n",
       "1  {1: [3340, 2003, 1056, 2003, 1052, 1001, 2003,...   \n",
       "2  {1: [1041, 2031, 3340, 3364, 1036, 3706, 1036,...   \n",
       "3  {1: [1041, 2031, 3340, 3715, 2055], 2: [1056, ...   \n",
       "4  {1: [1056, 2003, 2003, 3340, 1082, 1001, 2055,...   \n",
       "\n",
       "                                              levels  \n",
       "0  {1: 5, 2: 7, 3: 7, 4: 7, 5: 7, 6: 6, 7: 6, 8: ...  \n",
       "1  {1: 7, 2: 5, 3: 8, 4: 6, 5: 7, 6: 6, 7: 7, 8: ...  \n",
       "2  {1: 6, 2: 8, 3: 5, 4: 6, 5: 7, 6: 6, 7: 6, 8: ...  \n",
       "3  {1: 7, 2: 8, 3: 7, 4: 7, 5: 6, 6: 6, 7: 6, 8: ...  \n",
       "4  {1: 8, 2: 8, 3: 7, 4: 5, 5: 7, 6: 6, 7: 8, 8: ...  "
      ]
     },
     "execution_count": 5,
     "metadata": {},
     "output_type": "execute_result"
    }
   ],
   "source": [
    "df = pd.DataFrame({'items':champ_item_list, 'levels': champ_levels_list})\n",
    "df.head()"
   ]
  },
  {
   "cell_type": "code",
   "execution_count": 6,
   "id": "14e5c0b3-924f-4b20-8eea-7f6dea5344cf",
   "metadata": {},
   "outputs": [],
   "source": [
    "df.to_csv(path_or_buf = '../../../archive/items-levels.csv', index = False)"
   ]
  }
 ],
 "metadata": {
  "kernelspec": {
   "display_name": "learn-env",
   "language": "python",
   "name": "learn-env"
  },
  "language_info": {
   "codemirror_mode": {
    "name": "ipython",
    "version": 3
   },
   "file_extension": ".py",
   "mimetype": "text/x-python",
   "name": "python",
   "nbconvert_exporter": "python",
   "pygments_lexer": "ipython3",
   "version": "3.8.5"
  }
 },
 "nbformat": 4,
 "nbformat_minor": 5
}
