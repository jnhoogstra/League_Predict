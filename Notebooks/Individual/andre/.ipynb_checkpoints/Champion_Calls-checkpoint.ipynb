{
 "cells": [
  {
   "cell_type": "code",
   "execution_count": 1,
   "id": "05cf5c46-5d74-4c5b-992e-0192e6547229",
   "metadata": {},
   "outputs": [],
   "source": [
    "import pandas as pd\n",
    "import requests\n",
    "import json\n",
    "from time import sleep\n",
    "from functools import reduce"
   ]
  },
  {
   "cell_type": "code",
   "execution_count": 2,
   "id": "4df64ef0-08ed-443f-a9cb-9a512bb6fbf7",
   "metadata": {},
   "outputs": [],
   "source": [
    "ids = pd.read_csv('../../../archive/high_diamond_ranked_10min_no_identical.csv')['gameId']"
   ]
  },
  {
   "cell_type": "code",
   "execution_count": 3,
   "id": "9cc00721-8774-4482-aed2-a72e7b41ef4c",
   "metadata": {},
   "outputs": [
    {
     "data": {
      "text/plain": [
       "0     4519157822\n",
       "1     4523371949\n",
       "2     4521474530\n",
       "3     4524384067\n",
       "4     4436033771\n",
       "         ...    \n",
       "95    4524217548\n",
       "96    4499622849\n",
       "97    4499844894\n",
       "98    4460534353\n",
       "99    4495269641\n",
       "Name: gameId, Length: 100, dtype: int64"
      ]
     },
     "execution_count": 3,
     "metadata": {},
     "output_type": "execute_result"
    }
   ],
   "source": [
    "ids"
   ]
  },
  {
   "cell_type": "code",
   "execution_count": 4,
   "id": "0b0a34aa-e175-455b-8b3d-e6de017105e9",
   "metadata": {},
   "outputs": [
    {
     "name": "stdout",
     "output_type": "stream",
     "text": [
      "1, 2, 3, 4, 5, 6, 7, 8, 9, 10, 11, 12, 13, 14, 15, 16, 17, 18, 19, 20, 21, 22, 23, 24, 25, 26, 27, 28, 29, 30, 31, 32, 33, 34, 35, 36, 37, 38, 39, 40, 41, 42, 43, 44, 45, 46, 47, 48, 49, 50, 51, 52, 53, 54, 55, 56, 57, 58, 59, 60, 61, 62, 63, 64, 65, 66, 67, 68, 69, 70, 71, 72, 73, 74, 75, 76, 77, 78, 79, 80, 81, 82, 83, 84, 85, 86, 87, 88, 89, 90, 91, 92, 93, 94, 95, 96, 97, 98, 99, 100, "
     ]
    }
   ],
   "source": [
    "champions_list = []\n",
    "count = 0\n",
    "for id_ in ids:\n",
    "    count += 1\n",
    "    print(count, end = ', ')\n",
    "    url = f'https://euw1.api.riotgames.com/lol/match/v4/matches/{id_}?api_key=RGAPI-9416670c-0f0d-4381-b0a9-c9e723634458'\n",
    "    got = requests.get(url)\n",
    "    match = json.loads(got.text)\n",
    "    sleep(1.2)\n",
    "    \n",
    "    participants = match['participants']\n",
    "    \n",
    "    champs = [(p['participantId'], p['teamId'], p['championId'],\n",
    "               p['timeline']['role'], p['timeline']['lane']) for p in participants]\n",
    "    champions_list.append(champs)"
   ]
  },
  {
   "cell_type": "code",
   "execution_count": 5,
   "id": "4d458dd0-7ba2-4daa-980f-26bca71a4774",
   "metadata": {},
   "outputs": [
    {
     "data": {
      "text/html": [
       "<div>\n",
       "<style scoped>\n",
       "    .dataframe tbody tr th:only-of-type {\n",
       "        vertical-align: middle;\n",
       "    }\n",
       "\n",
       "    .dataframe tbody tr th {\n",
       "        vertical-align: top;\n",
       "    }\n",
       "\n",
       "    .dataframe thead th {\n",
       "        text-align: right;\n",
       "    }\n",
       "</style>\n",
       "<table border=\"1\" class=\"dataframe\">\n",
       "  <thead>\n",
       "    <tr style=\"text-align: right;\">\n",
       "      <th></th>\n",
       "      <th>champions</th>\n",
       "    </tr>\n",
       "  </thead>\n",
       "  <tbody>\n",
       "    <tr>\n",
       "      <th>0</th>\n",
       "      <td>[(1, 100, 111, DUO_SUPPORT, BOTTOM), (2, 100, ...</td>\n",
       "    </tr>\n",
       "    <tr>\n",
       "      <th>1</th>\n",
       "      <td>[(1, 100, 4, DUO_SUPPORT, NONE), (2, 100, 350,...</td>\n",
       "    </tr>\n",
       "    <tr>\n",
       "      <th>2</th>\n",
       "      <td>[(1, 100, 421, NONE, JUNGLE), (2, 100, 84, SOL...</td>\n",
       "    </tr>\n",
       "    <tr>\n",
       "      <th>3</th>\n",
       "      <td>[(1, 100, 64, NONE, JUNGLE), (2, 100, 134, SOL...</td>\n",
       "    </tr>\n",
       "    <tr>\n",
       "      <th>4</th>\n",
       "      <td>[(1, 100, 101, DUO, TOP), (2, 100, 266, DUO, T...</td>\n",
       "    </tr>\n",
       "  </tbody>\n",
       "</table>\n",
       "</div>"
      ],
      "text/plain": [
       "                                           champions\n",
       "0  [(1, 100, 111, DUO_SUPPORT, BOTTOM), (2, 100, ...\n",
       "1  [(1, 100, 4, DUO_SUPPORT, NONE), (2, 100, 350,...\n",
       "2  [(1, 100, 421, NONE, JUNGLE), (2, 100, 84, SOL...\n",
       "3  [(1, 100, 64, NONE, JUNGLE), (2, 100, 134, SOL...\n",
       "4  [(1, 100, 101, DUO, TOP), (2, 100, 266, DUO, T..."
      ]
     },
     "execution_count": 5,
     "metadata": {},
     "output_type": "execute_result"
    }
   ],
   "source": [
    "df = pd.DataFrame({'champions':champions_list})\n",
    "df.head()"
   ]
  },
  {
   "cell_type": "code",
   "execution_count": 6,
   "id": "30a9a9e8-6bb7-4116-812f-6ecd5b26343c",
   "metadata": {},
   "outputs": [],
   "source": [
    "df.to_csv(path_or_buf = '../../../archive/champions.csv', index = False)"
   ]
  }
 ],
 "metadata": {
  "kernelspec": {
   "display_name": "learn-env",
   "language": "python",
   "name": "learn-env"
  },
  "language_info": {
   "codemirror_mode": {
    "name": "ipython",
    "version": 3
   },
   "file_extension": ".py",
   "mimetype": "text/x-python",
   "name": "python",
   "nbconvert_exporter": "python",
   "pygments_lexer": "ipython3",
   "version": "3.8.5"
  }
 },
 "nbformat": 4,
 "nbformat_minor": 5
}
