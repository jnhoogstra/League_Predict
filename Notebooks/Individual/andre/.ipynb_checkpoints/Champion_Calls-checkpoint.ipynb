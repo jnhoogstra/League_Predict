{
 "cells": [
  {
   "cell_type": "code",
   "execution_count": 1,
   "id": "05cf5c46-5d74-4c5b-992e-0192e6547229",
   "metadata": {},
   "outputs": [],
   "source": [
    "import pandas as pd\n",
    "import requests\n",
    "import json\n",
    "from time import sleep\n",
    "from functools import reduce"
   ]
  },
  {
   "cell_type": "code",
   "execution_count": 2,
   "id": "4df64ef0-08ed-443f-a9cb-9a512bb6fbf7",
   "metadata": {},
   "outputs": [],
   "source": [
    "ids = pd.read_csv('../../../archive/high_diamond_ranked_10min_no_identical.csv')['gameId']"
   ]
  },
  {
   "cell_type": "code",
   "execution_count": 3,
   "id": "9cc00721-8774-4482-aed2-a72e7b41ef4c",
   "metadata": {},
   "outputs": [
    {
     "data": {
      "text/plain": [
       "0       4519157822\n",
       "1       4523371949\n",
       "2       4521474530\n",
       "3       4524384067\n",
       "4       4436033771\n",
       "           ...    \n",
       "9874    4527873286\n",
       "9875    4527797466\n",
       "9876    4527713716\n",
       "9877    4527628313\n",
       "9878    4523772935\n",
       "Name: gameId, Length: 9879, dtype: int64"
      ]
     },
     "execution_count": 3,
     "metadata": {},
     "output_type": "execute_result"
    }
   ],
   "source": [
    "ids"
   ]
  },
  {
   "cell_type": "code",
   "execution_count": 4,
   "id": "0b0a34aa-e175-455b-8b3d-e6de017105e9",
   "metadata": {},
   "outputs": [
    {
     "name": "stdout",
     "output_type": "stream",
     "text": [
      "1, "
     ]
    },
    {
     "ename": "KeyError",
     "evalue": "'participants'",
     "output_type": "error",
     "traceback": [
      "\u001b[1;31m---------------------------------------------------------------------------\u001b[0m",
      "\u001b[1;31mKeyError\u001b[0m                                  Traceback (most recent call last)",
      "\u001b[1;32m<ipython-input-4-46897cb9431d>\u001b[0m in \u001b[0;36m<module>\u001b[1;34m\u001b[0m\n\u001b[0;32m      9\u001b[0m     \u001b[0msleep\u001b[0m\u001b[1;33m(\u001b[0m\u001b[1;36m1.2\u001b[0m\u001b[1;33m)\u001b[0m\u001b[1;33m\u001b[0m\u001b[1;33m\u001b[0m\u001b[0m\n\u001b[0;32m     10\u001b[0m \u001b[1;33m\u001b[0m\u001b[0m\n\u001b[1;32m---> 11\u001b[1;33m     \u001b[0mparticipants\u001b[0m \u001b[1;33m=\u001b[0m \u001b[0mmatch\u001b[0m\u001b[1;33m[\u001b[0m\u001b[1;34m'participants'\u001b[0m\u001b[1;33m]\u001b[0m\u001b[1;33m\u001b[0m\u001b[1;33m\u001b[0m\u001b[0m\n\u001b[0m\u001b[0;32m     12\u001b[0m \u001b[1;33m\u001b[0m\u001b[0m\n\u001b[0;32m     13\u001b[0m     champs = [(p['participantId'], p['teamId'], p['championId'],\n",
      "\u001b[1;31mKeyError\u001b[0m: 'participants'"
     ]
    }
   ],
   "source": [
    "champions_list = []\n",
    "count = 0\n",
    "for id_ in ids:\n",
    "    count += 1\n",
    "    print(count, end = ', ')\n",
    "    url = f'https://euw1.api.riotgames.com/lol/match/v4/matches/{id_}?api_key=RGAPI-aed180d3-16ad-4083-95a7-68ec258b6948'\n",
    "    got = requests.get(url)\n",
    "    match = json.loads(got.text)\n",
    "    sleep(1.2)\n",
    "    \n",
    "    participants = match['participants']\n",
    "    \n",
    "    champs = [(p['participantId'], p['teamId'], p['championId'],\n",
    "               p['timeline']['role'], p['timeline']['lane']) for p in participants]\n",
    "    champions_list.append(champs)"
   ]
  },
  {
   "cell_type": "code",
   "execution_count": null,
   "id": "4d458dd0-7ba2-4daa-980f-26bca71a4774",
   "metadata": {},
   "outputs": [],
   "source": [
    "df = pd.DataFrame({'champions':champions_list})\n",
    "df.head()"
   ]
  },
  {
   "cell_type": "code",
   "execution_count": null,
   "id": "30a9a9e8-6bb7-4116-812f-6ecd5b26343c",
   "metadata": {},
   "outputs": [],
   "source": [
    "df.to_csv(path_or_buf = '../../../archive/champions.csv', index = False)"
   ]
  }
 ],
 "metadata": {
  "kernelspec": {
   "display_name": "learn-env",
   "language": "python",
   "name": "learn-env"
  },
  "language_info": {
   "codemirror_mode": {
    "name": "ipython",
    "version": 3
   },
   "file_extension": ".py",
   "mimetype": "text/x-python",
   "name": "python",
   "nbconvert_exporter": "python",
   "pygments_lexer": "ipython3",
   "version": "3.8.5"
  }
 },
 "nbformat": 4,
 "nbformat_minor": 5
}
