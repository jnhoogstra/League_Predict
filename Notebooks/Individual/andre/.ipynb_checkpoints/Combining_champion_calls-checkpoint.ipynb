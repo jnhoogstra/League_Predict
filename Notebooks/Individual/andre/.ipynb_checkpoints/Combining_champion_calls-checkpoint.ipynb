{
 "cells": [
  {
   "cell_type": "code",
   "execution_count": 1,
   "id": "adcf22ad-0848-44cd-b4f5-4be8fce238e0",
   "metadata": {},
   "outputs": [],
   "source": [
    "import pandas as pd"
   ]
  },
  {
   "cell_type": "code",
   "execution_count": 2,
   "id": "feb5759a-2e61-4495-a581-f5911a0229f1",
   "metadata": {},
   "outputs": [],
   "source": [
    "df1 = pd.read_csv('../../../archive/7083_champions.csv')"
   ]
  },
  {
   "cell_type": "code",
   "execution_count": 3,
   "id": "e9358878-c0f1-4f6c-b802-c56c95d3f164",
   "metadata": {},
   "outputs": [],
   "source": [
    "df2 = pd.read_csv('../../../archive/remaining_champions.csv')"
   ]
  },
  {
   "cell_type": "code",
   "execution_count": 4,
   "id": "06f0e978-522f-45eb-a6a3-ab10d43d0c28",
   "metadata": {},
   "outputs": [],
   "source": [
    "final = pd.concat([df1, df2])"
   ]
  },
  {
   "cell_type": "code",
   "execution_count": 6,
   "id": "3ea87830-6698-42e5-9852-4e38ecd2a3ac",
   "metadata": {},
   "outputs": [],
   "source": [
    "final.to_csv(path_or_buf = '../../../archive/champions.csv', index = False)"
   ]
  }
 ],
 "metadata": {
  "kernelspec": {
   "display_name": "learn-env",
   "language": "python",
   "name": "learn-env"
  },
  "language_info": {
   "codemirror_mode": {
    "name": "ipython",
    "version": 3
   },
   "file_extension": ".py",
   "mimetype": "text/x-python",
   "name": "python",
   "nbconvert_exporter": "python",
   "pygments_lexer": "ipython3",
   "version": "3.8.5"
  }
 },
 "nbformat": 4,
 "nbformat_minor": 5
}
