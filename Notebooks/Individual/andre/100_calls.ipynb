{
 "cells": [
  {
   "cell_type": "code",
   "execution_count": 1,
   "id": "01fc5eea-7cf8-436a-831d-efed6c6cd4d3",
   "metadata": {},
   "outputs": [],
   "source": [
    "import pandas as pd\n",
    "import requests\n",
    "import json\n",
    "from time import sleep\n",
    "from functools import reduce"
   ]
  },
  {
   "cell_type": "code",
   "execution_count": 2,
   "id": "62e01ac0-11ce-489b-9292-f8ecaec03849",
   "metadata": {},
   "outputs": [],
   "source": [
    "ids = pd.read_csv('../../../archive/high_diamond_ranked_10min_no_identical.csv')['gameId'][:100]"
   ]
  },
  {
   "cell_type": "code",
   "execution_count": 3,
   "id": "5feae6fd-580f-44d9-ab84-7d779a912411",
   "metadata": {},
   "outputs": [
    {
     "data": {
      "text/plain": [
       "0     4519157822\n",
       "1     4523371949\n",
       "2     4521474530\n",
       "3     4524384067\n",
       "4     4436033771\n",
       "         ...    \n",
       "95    4524217548\n",
       "96    4499622849\n",
       "97    4499844894\n",
       "98    4460534353\n",
       "99    4495269641\n",
       "Name: gameId, Length: 100, dtype: int64"
      ]
     },
     "execution_count": 3,
     "metadata": {},
     "output_type": "execute_result"
    }
   ],
   "source": [
    "ids"
   ]
  },
  {
   "cell_type": "code",
   "execution_count": 4,
   "id": "853c25b4-cea9-4cd8-97e0-140b6c58ed32",
   "metadata": {},
   "outputs": [],
   "source": [
    "champions_list = []\n",
    "champ_item_list = []\n",
    "champ_levels_list = []\n",
    "for id_ in ids:\n",
    "    url = f'https://euw1.api.riotgames.com/lol/match/v4/timelines/by-match/{id_}?api_key=RGAPI-9416670c-0f0d-4381-b0a9-c9e723634458'\n",
    "    got = requests.get(url)\n",
    "    timeline = json.loads(got.text)\n",
    "    sleep(1.2)\n",
    "    \n",
    "    url = f'https://euw1.api.riotgames.com/lol/match/v4/matches/{id_}?api_key=RGAPI-9416670c-0f0d-4381-b0a9-c9e723634458'\n",
    "    got = requests.get(url)\n",
    "    match = json.loads(got.text)\n",
    "    sleep(1.2)\n",
    "    \n",
    "    participants = match['participants']\n",
    "    \n",
    "    champs = [(p['participantId'], p['teamId'], p['championId'],\n",
    "               p['timeline']['role'], p['timeline']['lane']) for p in participants]\n",
    "    champions_list.append(champs)\n",
    "    \n",
    "    frames = timeline['frames'][:11]\n",
    "    events = [frame['events'] for frame in frames]\n",
    "    events = reduce(lambda a, b: a+b, events)\n",
    "    item_events = [event for event in events if event['type'].startswith('ITEM')]\n",
    "    \n",
    "    champ_items = {i:[] for i in range(1, 11)}\n",
    "    for event in item_events:\n",
    "        participant = event['participantId']\n",
    "        type_ = event['type']\n",
    "        if type_ == 'ITEM_UNDO':\n",
    "            if event['beforeId'] != 0:\n",
    "                champ_items[participant].remove(event['beforeId'])\n",
    "            else:\n",
    "                champ_items[participant].append(event['afterId'])\n",
    "        elif type_ == 'ITEM_PURCHASED':\n",
    "            item = event['itemId']\n",
    "            champ_items[participant].append(item)\n",
    "    \n",
    "    champ_item_list.append(champ_items)\n",
    "    \n",
    "    final = frames[-1]['participantFrames']\n",
    "    levels = champ_items = {i:None for i in range(1, 11)}\n",
    "    \n",
    "    for participant in final.values():\n",
    "        levels[participant['participantId']] = participant['level']\n",
    "    \n",
    "    champ_levels_list.append(levels)"
   ]
  },
  {
   "cell_type": "code",
   "execution_count": 5,
   "id": "d1b93798-492a-4672-95f1-091b1ba07130",
   "metadata": {},
   "outputs": [
    {
     "data": {
      "text/html": [
       "<div>\n",
       "<style scoped>\n",
       "    .dataframe tbody tr th:only-of-type {\n",
       "        vertical-align: middle;\n",
       "    }\n",
       "\n",
       "    .dataframe tbody tr th {\n",
       "        vertical-align: top;\n",
       "    }\n",
       "\n",
       "    .dataframe thead th {\n",
       "        text-align: right;\n",
       "    }\n",
       "</style>\n",
       "<table border=\"1\" class=\"dataframe\">\n",
       "  <thead>\n",
       "    <tr style=\"text-align: right;\">\n",
       "      <th></th>\n",
       "      <th>champions</th>\n",
       "      <th>items</th>\n",
       "      <th>levels</th>\n",
       "    </tr>\n",
       "  </thead>\n",
       "  <tbody>\n",
       "    <tr>\n",
       "      <th>0</th>\n",
       "      <td>[(1, 100, 111, DUO_SUPPORT, BOTTOM), (2, 100, ...</td>\n",
       "      <td>{1: [3858, 2003, 3340, 1001, 2003, 1029, 2003,...</td>\n",
       "      <td>{1: 5, 2: 7, 3: 7, 4: 7, 5: 7, 6: 6, 7: 6, 8: ...</td>\n",
       "    </tr>\n",
       "    <tr>\n",
       "      <th>1</th>\n",
       "      <td>[(1, 100, 4, DUO_SUPPORT, NONE), (2, 100, 350,...</td>\n",
       "      <td>{1: [3340, 2003, 1056, 2003, 1052, 1001, 2003,...</td>\n",
       "      <td>{1: 7, 2: 5, 3: 8, 4: 6, 5: 7, 6: 6, 7: 7, 8: ...</td>\n",
       "    </tr>\n",
       "    <tr>\n",
       "      <th>2</th>\n",
       "      <td>[(1, 100, 421, NONE, JUNGLE), (2, 100, 84, SOL...</td>\n",
       "      <td>{1: [1041, 2031, 3340, 3364, 1036, 3706, 1036,...</td>\n",
       "      <td>{1: 6, 2: 8, 3: 5, 4: 6, 5: 7, 6: 6, 7: 6, 8: ...</td>\n",
       "    </tr>\n",
       "    <tr>\n",
       "      <th>3</th>\n",
       "      <td>[(1, 100, 64, NONE, JUNGLE), (2, 100, 134, SOL...</td>\n",
       "      <td>{1: [1041, 2031, 3340, 3715, 2055], 2: [1056, ...</td>\n",
       "      <td>{1: 7, 2: 8, 3: 7, 4: 7, 5: 6, 6: 6, 7: 6, 8: ...</td>\n",
       "    </tr>\n",
       "    <tr>\n",
       "      <th>4</th>\n",
       "      <td>[(1, 100, 101, DUO, TOP), (2, 100, 266, DUO, T...</td>\n",
       "      <td>{1: [1056, 2003, 2003, 3340, 1082, 1001, 2055,...</td>\n",
       "      <td>{1: 8, 2: 8, 3: 7, 4: 5, 5: 7, 6: 6, 7: 8, 8: ...</td>\n",
       "    </tr>\n",
       "  </tbody>\n",
       "</table>\n",
       "</div>"
      ],
      "text/plain": [
       "                                           champions  \\\n",
       "0  [(1, 100, 111, DUO_SUPPORT, BOTTOM), (2, 100, ...   \n",
       "1  [(1, 100, 4, DUO_SUPPORT, NONE), (2, 100, 350,...   \n",
       "2  [(1, 100, 421, NONE, JUNGLE), (2, 100, 84, SOL...   \n",
       "3  [(1, 100, 64, NONE, JUNGLE), (2, 100, 134, SOL...   \n",
       "4  [(1, 100, 101, DUO, TOP), (2, 100, 266, DUO, T...   \n",
       "\n",
       "                                               items  \\\n",
       "0  {1: [3858, 2003, 3340, 1001, 2003, 1029, 2003,...   \n",
       "1  {1: [3340, 2003, 1056, 2003, 1052, 1001, 2003,...   \n",
       "2  {1: [1041, 2031, 3340, 3364, 1036, 3706, 1036,...   \n",
       "3  {1: [1041, 2031, 3340, 3715, 2055], 2: [1056, ...   \n",
       "4  {1: [1056, 2003, 2003, 3340, 1082, 1001, 2055,...   \n",
       "\n",
       "                                              levels  \n",
       "0  {1: 5, 2: 7, 3: 7, 4: 7, 5: 7, 6: 6, 7: 6, 8: ...  \n",
       "1  {1: 7, 2: 5, 3: 8, 4: 6, 5: 7, 6: 6, 7: 7, 8: ...  \n",
       "2  {1: 6, 2: 8, 3: 5, 4: 6, 5: 7, 6: 6, 7: 6, 8: ...  \n",
       "3  {1: 7, 2: 8, 3: 7, 4: 7, 5: 6, 6: 6, 7: 6, 8: ...  \n",
       "4  {1: 8, 2: 8, 3: 7, 4: 5, 5: 7, 6: 6, 7: 8, 8: ...  "
      ]
     },
     "execution_count": 5,
     "metadata": {},
     "output_type": "execute_result"
    }
   ],
   "source": [
    "df = pd.DataFrame({'champions':champions_list, 'items':champ_item_list, 'levels': champ_levels_list})\n",
    "df.head()"
   ]
  }
 ],
 "metadata": {
  "kernelspec": {
   "display_name": "learn-env",
   "language": "python",
   "name": "learn-env"
  },
  "language_info": {
   "codemirror_mode": {
    "name": "ipython",
    "version": 3
   },
   "file_extension": ".py",
   "mimetype": "text/x-python",
   "name": "python",
   "nbconvert_exporter": "python",
   "pygments_lexer": "ipython3",
   "version": "3.8.5"
  }
 },
 "nbformat": 4,
 "nbformat_minor": 5
}
