{
 "cells": [
  {
   "cell_type": "code",
   "execution_count": 1,
   "id": "e8ced930-4857-4f71-972d-738e5e15afa5",
   "metadata": {},
   "outputs": [],
   "source": [
    "import pandas as pd\n",
    "import re"
   ]
  },
  {
   "cell_type": "code",
   "execution_count": 2,
   "id": "a906e70b-baa7-4a45-b705-f20de33ec05f",
   "metadata": {},
   "outputs": [],
   "source": [
    "df = pd.read_csv('../../../../archive/No_identical_with_champions.csv')"
   ]
  },
  {
   "cell_type": "code",
   "execution_count": 3,
   "id": "5ac3d4c3-d283-4cc7-a881-f21d33ad7d2b",
   "metadata": {},
   "outputs": [],
   "source": [
    "sample = df['champions'].iloc[0]"
   ]
  },
  {
   "cell_type": "code",
   "execution_count": 4,
   "id": "26b94b91-1ab1-43ce-8c02-e762a71c6231",
   "metadata": {},
   "outputs": [
    {
     "data": {
      "text/plain": [
       "\"[(1, 100, 111, 'DUO_SUPPORT', 'BOTTOM'), (2, 100, 91, 'SOLO', 'MIDDLE'), (3, 100, 236, 'DUO_CARRY', 'BOTTOM'), (4, 100, 76, 'NONE', 'JUNGLE'), (5, 100, 54, 'SOLO', 'TOP'), (6, 200, 26, 'DUO_CARRY', 'BOTTOM'), (7, 200, 235, 'DUO_SUPPORT', 'BOTTOM'), (8, 200, 82, 'SOLO', 'TOP'), (9, 200, 421, 'NONE', 'JUNGLE'), (10, 200, 69, 'SOLO', 'MIDDLE')]\""
      ]
     },
     "execution_count": 4,
     "metadata": {},
     "output_type": "execute_result"
    }
   ],
   "source": [
    "sample"
   ]
  },
  {
   "cell_type": "code",
   "execution_count": 5,
   "id": "34a05d96-fb28-4eb3-a449-83fe61f924a8",
   "metadata": {},
   "outputs": [
    {
     "data": {
      "text/plain": [
       "['111', '91', '236', '76', '54', '26', '235', '82', '421', '69']"
      ]
     },
     "execution_count": 5,
     "metadata": {},
     "output_type": "execute_result"
    }
   ],
   "source": [
    "pattern = re.compile(r\"(100|200), \")\n",
    "splitted = pattern.split(sample)\n",
    "[string.split(',')[0] for string in splitted][2:21:2]"
   ]
  },
  {
   "cell_type": "code",
   "execution_count": 6,
   "id": "b6f73a91-68c1-4bc4-a0e3-f5fa5de7da99",
   "metadata": {},
   "outputs": [],
   "source": [
    "def reformat(champs):\n",
    "    pattern = re.compile(r\"(100|200), \")\n",
    "    splitted = pattern.split(champs)\n",
    "    return [string.split(',')[0] for string in splitted][2:21:2]"
   ]
  },
  {
   "cell_type": "code",
   "execution_count": 7,
   "id": "29724705-32d8-42d1-93ee-7a95a2b519dc",
   "metadata": {},
   "outputs": [],
   "source": [
    "df['champions'] = df['champions'].map(reformat)"
   ]
  },
  {
   "cell_type": "code",
   "execution_count": 8,
   "id": "16ad6a8d-e8c2-438b-aaf8-62013da8bb23",
   "metadata": {},
   "outputs": [
    {
     "data": {
      "text/plain": [
       "10    9879\n",
       "Name: champions, dtype: int64"
      ]
     },
     "execution_count": 8,
     "metadata": {},
     "output_type": "execute_result"
    }
   ],
   "source": [
    "df['champions'].map(len).value_counts()"
   ]
  },
  {
   "cell_type": "code",
   "execution_count": 9,
   "id": "82e67f4e-d32a-4667-9dcb-bb20808b452e",
   "metadata": {},
   "outputs": [],
   "source": [
    "df.to_csv(path_or_buf = '../../../../archive/No_identical_with_better_champions.csv', index = False)"
   ]
  }
 ],
 "metadata": {
  "kernelspec": {
   "display_name": "learn-env",
   "language": "python",
   "name": "learn-env"
  },
  "language_info": {
   "codemirror_mode": {
    "name": "ipython",
    "version": 3
   },
   "file_extension": ".py",
   "mimetype": "text/x-python",
   "name": "python",
   "nbconvert_exporter": "python",
   "pygments_lexer": "ipython3",
   "version": "3.8.5"
  }
 },
 "nbformat": 4,
 "nbformat_minor": 5
}
