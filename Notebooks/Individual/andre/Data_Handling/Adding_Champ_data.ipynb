{
 "cells": [
  {
   "cell_type": "code",
   "execution_count": 1,
   "id": "97abdb4a-49ed-4775-ad75-17d2d094f370",
   "metadata": {},
   "outputs": [],
   "source": [
    "import pandas as pd"
   ]
  },
  {
   "cell_type": "code",
   "execution_count": 2,
   "id": "05a0055d-3680-4d1d-80c0-bfbfdfae7942",
   "metadata": {},
   "outputs": [],
   "source": [
    "df = pd.read_csv('../../../../archive/high_diamond_ranked_10min_no_identical.csv')"
   ]
  },
  {
   "cell_type": "code",
   "execution_count": 3,
   "id": "bc600a35-1aac-4ff0-a1c0-ea3c3699855e",
   "metadata": {},
   "outputs": [],
   "source": [
    "df2 = pd.read_csv('../../../../archive/champions.csv')"
   ]
  },
  {
   "cell_type": "code",
   "execution_count": 4,
   "id": "61019405-a2e6-4237-9f1d-aec02bffac86",
   "metadata": {},
   "outputs": [],
   "source": [
    "combined = pd.concat([df,df2], axis = 1)"
   ]
  },
  {
   "cell_type": "code",
   "execution_count": 5,
   "id": "208c02ce-ee3d-4682-a28b-a79c1d1b87dc",
   "metadata": {},
   "outputs": [],
   "source": [
    "combined.to_csv(path_or_buf = '../../../../archive/No_identical_with_champions.csv', index = False)"
   ]
  }
 ],
 "metadata": {
  "kernelspec": {
   "display_name": "learn-env",
   "language": "python",
   "name": "learn-env"
  },
  "language_info": {
   "codemirror_mode": {
    "name": "ipython",
    "version": 3
   },
   "file_extension": ".py",
   "mimetype": "text/x-python",
   "name": "python",
   "nbconvert_exporter": "python",
   "pygments_lexer": "ipython3",
   "version": "3.8.5"
  }
 },
 "nbformat": 4,
 "nbformat_minor": 5
}
