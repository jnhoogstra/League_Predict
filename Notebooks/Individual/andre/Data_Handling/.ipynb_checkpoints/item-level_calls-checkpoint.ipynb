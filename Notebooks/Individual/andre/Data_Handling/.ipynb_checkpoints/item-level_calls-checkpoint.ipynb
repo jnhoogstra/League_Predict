{
 "cells": [
  {
   "cell_type": "code",
   "execution_count": 1,
   "id": "4232f8f2-9ee8-4363-b340-ff87d358552d",
   "metadata": {},
   "outputs": [],
   "source": [
    "import pandas as pd\n",
    "import requests\n",
    "import json\n",
    "from time import sleep\n",
    "from functools import reduce"
   ]
  },
  {
   "cell_type": "code",
   "execution_count": 2,
   "id": "6e7ecb0e-acc7-476e-8c4d-02bcf6193440",
   "metadata": {},
   "outputs": [],
   "source": [
    "ids = pd.read_csv('../../../../archive/high_diamond_ranked_10min_no_identical.csv')['gameId'][3532:]"
   ]
  },
  {
   "cell_type": "code",
   "execution_count": 3,
   "id": "038f53f0-14cc-4412-b669-dfa237d767af",
   "metadata": {},
   "outputs": [
    {
     "data": {
      "text/plain": [
       "3532    4524068681\n",
       "3533    4496547749\n",
       "3534    4516748308\n",
       "3535    4469636302\n",
       "3536    4518861669\n",
       "           ...    \n",
       "9874    4527873286\n",
       "9875    4527797466\n",
       "9876    4527713716\n",
       "9877    4527628313\n",
       "9878    4523772935\n",
       "Name: gameId, Length: 6347, dtype: int64"
      ]
     },
     "execution_count": 3,
     "metadata": {},
     "output_type": "execute_result"
    }
   ],
   "source": [
    "ids"
   ]
  },
  {
   "cell_type": "code",
   "execution_count": 4,
   "id": "17c56396-34b9-4a15-8f4c-de52b53f6a0e",
   "metadata": {},
   "outputs": [
    {
     "name": "stdout",
     "output_type": "stream",
     "text": [
      "1, 2, 3, 4, 5, 6, 7, 8, 9, 10, 11, 12, 13, 14, 15, 16, 17, 18, 19, 20, 21, 22, 23, 24, 25, 26, 27, 28, 29, "
     ]
    },
    {
     "ename": "KeyboardInterrupt",
     "evalue": "",
     "output_type": "error",
     "traceback": [
      "\u001b[1;31m---------------------------------------------------------------------------\u001b[0m",
      "\u001b[1;31mKeyboardInterrupt\u001b[0m                         Traceback (most recent call last)",
      "\u001b[1;32m<ipython-input-4-6e52a276a547>\u001b[0m in \u001b[0;36m<module>\u001b[1;34m\u001b[0m\n\u001b[0;32m      8\u001b[0m     \u001b[0mgot\u001b[0m \u001b[1;33m=\u001b[0m \u001b[0mrequests\u001b[0m\u001b[1;33m.\u001b[0m\u001b[0mget\u001b[0m\u001b[1;33m(\u001b[0m\u001b[0murl\u001b[0m\u001b[1;33m)\u001b[0m\u001b[1;33m\u001b[0m\u001b[1;33m\u001b[0m\u001b[0m\n\u001b[0;32m      9\u001b[0m     \u001b[0mtimeline\u001b[0m \u001b[1;33m=\u001b[0m \u001b[0mjson\u001b[0m\u001b[1;33m.\u001b[0m\u001b[0mloads\u001b[0m\u001b[1;33m(\u001b[0m\u001b[0mgot\u001b[0m\u001b[1;33m.\u001b[0m\u001b[0mtext\u001b[0m\u001b[1;33m)\u001b[0m\u001b[1;33m\u001b[0m\u001b[1;33m\u001b[0m\u001b[0m\n\u001b[1;32m---> 10\u001b[1;33m     \u001b[0msleep\u001b[0m\u001b[1;33m(\u001b[0m\u001b[1;36m1.2\u001b[0m\u001b[1;33m)\u001b[0m\u001b[1;33m\u001b[0m\u001b[1;33m\u001b[0m\u001b[0m\n\u001b[0m\u001b[0;32m     11\u001b[0m \u001b[1;33m\u001b[0m\u001b[0m\n\u001b[0;32m     12\u001b[0m     \u001b[0mframes\u001b[0m \u001b[1;33m=\u001b[0m \u001b[0mtimeline\u001b[0m\u001b[1;33m[\u001b[0m\u001b[1;34m'frames'\u001b[0m\u001b[1;33m]\u001b[0m\u001b[1;33m[\u001b[0m\u001b[1;33m:\u001b[0m\u001b[1;36m11\u001b[0m\u001b[1;33m]\u001b[0m\u001b[1;33m\u001b[0m\u001b[1;33m\u001b[0m\u001b[0m\n",
      "\u001b[1;31mKeyboardInterrupt\u001b[0m: "
     ]
    }
   ],
   "source": [
    "champ_item_list = []\n",
    "champ_levels_list = []\n",
    "count = 0\n",
    "for id_ in ids:\n",
    "    count += 1\n",
    "    print(count, end = ', ')\n",
    "    url = f'https://euw1.api.riotgames.com/lol/match/v4/timelines/by-match/{id_}?api_key=RGAPI-5c3156c4-4d6a-4c4c-87db-d57cda4efa07'\n",
    "    got = requests.get(url)\n",
    "    timeline = json.loads(got.text)\n",
    "    sleep(1.2)\n",
    "\n",
    "    frames = timeline['frames'][:11]\n",
    "    events = [frame['events'] for frame in frames]\n",
    "    events = reduce(lambda a, b: a+b, events)\n",
    "    item_events = [event for event in events if event['type'].startswith('ITEM')]\n",
    "    \n",
    "    champ_items = {i:[] for i in range(1, 11)}\n",
    "    for event in item_events:\n",
    "        participant = event['participantId']\n",
    "        type_ = event['type']\n",
    "        if type_ == 'ITEM_UNDO':\n",
    "            if event['beforeId'] != 0:\n",
    "                champ_items[participant].remove(event['beforeId'])\n",
    "            else:\n",
    "                champ_items[participant].append(event['afterId'])\n",
    "        elif type_ == 'ITEM_PURCHASED':\n",
    "            item = event['itemId']\n",
    "            champ_items[participant].append(item)\n",
    "    \n",
    "    champ_item_list.append(champ_items)\n",
    "    \n",
    "    final = frames[-1]['participantFrames']\n",
    "    levels = champ_items = {i:None for i in range(1, 11)}\n",
    "    \n",
    "    for participant in final.values():\n",
    "        levels[participant['participantId']] = participant['level']\n",
    "    \n",
    "    champ_levels_list.append(levels)"
   ]
  },
  {
   "cell_type": "code",
   "execution_count": null,
   "id": "3d54ae0b-8958-43e0-9dd9-fa5940e6f7ac",
   "metadata": {},
   "outputs": [],
   "source": [
    "df = pd.DataFrame({'items':champ_item_list, 'levels': champ_levels_list})\n",
    "df.head()"
   ]
  },
  {
   "cell_type": "code",
   "execution_count": null,
   "id": "0ec408ab-3f16-46a9-a266-bd490fb9659f",
   "metadata": {},
   "outputs": [],
   "source": [
    "len(df)"
   ]
  },
  {
   "cell_type": "code",
   "execution_count": null,
   "id": "14e5c0b3-924f-4b20-8eea-7f6dea5344cf",
   "metadata": {},
   "outputs": [],
   "source": [
    "df.to_csv(path_or_buf = '../../../../archive/remaining_items-levels.csv', index = False)"
   ]
  }
 ],
 "metadata": {
  "kernelspec": {
   "display_name": "learn-env",
   "language": "python",
   "name": "learn-env"
  },
  "language_info": {
   "codemirror_mode": {
    "name": "ipython",
    "version": 3
   },
   "file_extension": ".py",
   "mimetype": "text/x-python",
   "name": "python",
   "nbconvert_exporter": "python",
   "pygments_lexer": "ipython3",
   "version": "3.8.5"
  }
 },
 "nbformat": 4,
 "nbformat_minor": 5
}
