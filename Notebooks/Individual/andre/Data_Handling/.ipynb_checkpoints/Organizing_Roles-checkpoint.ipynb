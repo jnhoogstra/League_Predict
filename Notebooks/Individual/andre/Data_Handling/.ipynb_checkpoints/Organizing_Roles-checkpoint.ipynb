{
 "cells": [
  {
   "cell_type": "code",
   "execution_count": 1,
   "id": "0d237a82-148f-4427-9f51-1265be6f0147",
   "metadata": {},
   "outputs": [],
   "source": [
    "import pandas as pd"
   ]
  },
  {
   "cell_type": "code",
   "execution_count": 2,
   "id": "55107827-0234-4fb4-8924-f35954e6c4ea",
   "metadata": {},
   "outputs": [],
   "source": [
    "champs = pd.read_csv('../../../../archive/champions.csv')"
   ]
  },
  {
   "cell_type": "code",
   "execution_count": 3,
   "id": "b99ca1b6-a5ef-4ff9-83e7-2e6115d4f835",
   "metadata": {},
   "outputs": [
    {
     "data": {
      "text/html": [
       "<div>\n",
       "<style scoped>\n",
       "    .dataframe tbody tr th:only-of-type {\n",
       "        vertical-align: middle;\n",
       "    }\n",
       "\n",
       "    .dataframe tbody tr th {\n",
       "        vertical-align: top;\n",
       "    }\n",
       "\n",
       "    .dataframe thead th {\n",
       "        text-align: right;\n",
       "    }\n",
       "</style>\n",
       "<table border=\"1\" class=\"dataframe\">\n",
       "  <thead>\n",
       "    <tr style=\"text-align: right;\">\n",
       "      <th></th>\n",
       "      <th>champions</th>\n",
       "    </tr>\n",
       "  </thead>\n",
       "  <tbody>\n",
       "    <tr>\n",
       "      <th>0</th>\n",
       "      <td>[(1, 100, 111, 'DUO_SUPPORT', 'BOTTOM'), (2, 1...</td>\n",
       "    </tr>\n",
       "    <tr>\n",
       "      <th>1</th>\n",
       "      <td>[(1, 100, 4, 'DUO_SUPPORT', 'NONE'), (2, 100, ...</td>\n",
       "    </tr>\n",
       "    <tr>\n",
       "      <th>2</th>\n",
       "      <td>[(1, 100, 421, 'NONE', 'JUNGLE'), (2, 100, 84,...</td>\n",
       "    </tr>\n",
       "    <tr>\n",
       "      <th>3</th>\n",
       "      <td>[(1, 100, 64, 'NONE', 'JUNGLE'), (2, 100, 134,...</td>\n",
       "    </tr>\n",
       "    <tr>\n",
       "      <th>4</th>\n",
       "      <td>[(1, 100, 101, 'DUO', 'TOP'), (2, 100, 266, 'D...</td>\n",
       "    </tr>\n",
       "    <tr>\n",
       "      <th>...</th>\n",
       "      <td>...</td>\n",
       "    </tr>\n",
       "    <tr>\n",
       "      <th>9874</th>\n",
       "      <td>[(1, 100, 21, 'DUO_CARRY', 'BOTTOM'), (2, 100,...</td>\n",
       "    </tr>\n",
       "    <tr>\n",
       "      <th>9875</th>\n",
       "      <td>[(1, 100, 432, 'DUO_SUPPORT', 'BOTTOM'), (2, 1...</td>\n",
       "    </tr>\n",
       "    <tr>\n",
       "      <th>9876</th>\n",
       "      <td>[(1, 100, 145, 'DUO_CARRY', 'BOTTOM'), (2, 100...</td>\n",
       "    </tr>\n",
       "    <tr>\n",
       "      <th>9877</th>\n",
       "      <td>[(1, 100, 38, 'DUO', 'MIDDLE'), (2, 100, 24, '...</td>\n",
       "    </tr>\n",
       "    <tr>\n",
       "      <th>9878</th>\n",
       "      <td>[(1, 100, 517, 'DUO', 'MIDDLE'), (2, 100, 267,...</td>\n",
       "    </tr>\n",
       "  </tbody>\n",
       "</table>\n",
       "<p>9879 rows × 1 columns</p>\n",
       "</div>"
      ],
      "text/plain": [
       "                                              champions\n",
       "0     [(1, 100, 111, 'DUO_SUPPORT', 'BOTTOM'), (2, 1...\n",
       "1     [(1, 100, 4, 'DUO_SUPPORT', 'NONE'), (2, 100, ...\n",
       "2     [(1, 100, 421, 'NONE', 'JUNGLE'), (2, 100, 84,...\n",
       "3     [(1, 100, 64, 'NONE', 'JUNGLE'), (2, 100, 134,...\n",
       "4     [(1, 100, 101, 'DUO', 'TOP'), (2, 100, 266, 'D...\n",
       "...                                                 ...\n",
       "9874  [(1, 100, 21, 'DUO_CARRY', 'BOTTOM'), (2, 100,...\n",
       "9875  [(1, 100, 432, 'DUO_SUPPORT', 'BOTTOM'), (2, 1...\n",
       "9876  [(1, 100, 145, 'DUO_CARRY', 'BOTTOM'), (2, 100...\n",
       "9877  [(1, 100, 38, 'DUO', 'MIDDLE'), (2, 100, 24, '...\n",
       "9878  [(1, 100, 517, 'DUO', 'MIDDLE'), (2, 100, 267,...\n",
       "\n",
       "[9879 rows x 1 columns]"
      ]
     },
     "execution_count": 3,
     "metadata": {},
     "output_type": "execute_result"
    }
   ],
   "source": [
    "champs"
   ]
  },
  {
   "cell_type": "code",
   "execution_count": 4,
   "id": "0c31ac44-1301-4d84-ad1d-a98168ae9ef8",
   "metadata": {},
   "outputs": [],
   "source": [
    "sample = champs['champions'].iloc[0]"
   ]
  },
  {
   "cell_type": "code",
   "execution_count": 5,
   "id": "62341c41-e281-44d1-adf9-3497f982be79",
   "metadata": {},
   "outputs": [
    {
     "data": {
      "text/plain": [
       "\"[(1, 100, 111, 'DUO_SUPPORT', 'BOTTOM'), (2, 100, 91, 'SOLO', 'MIDDLE'), (3, 100, 236, 'DUO_CARRY', 'BOTTOM'), (4, 100, 76, 'NONE', 'JUNGLE'), (5, 100, 54, 'SOLO', 'TOP'), (6, 200, 26, 'DUO_CARRY', 'BOTTOM'), (7, 200, 235, 'DUO_SUPPORT', 'BOTTOM'), (8, 200, 82, 'SOLO', 'TOP'), (9, 200, 421, 'NONE', 'JUNGLE'), (10, 200, 69, 'SOLO', 'MIDDLE')]\""
      ]
     },
     "execution_count": 5,
     "metadata": {},
     "output_type": "execute_result"
    }
   ],
   "source": [
    "sample"
   ]
  },
  {
   "cell_type": "code",
   "execution_count": 6,
   "id": "23892f61-60e3-4e88-88b1-8146997ddbd5",
   "metadata": {},
   "outputs": [],
   "source": [
    "mess = sample.strip('][').split(', ')[4::5]"
   ]
  },
  {
   "cell_type": "code",
   "execution_count": 7,
   "id": "84104f82-e5e9-49cc-927e-baa24f425efb",
   "metadata": {},
   "outputs": [
    {
     "data": {
      "text/plain": [
       "[\"'BOTTOM')\",\n",
       " \"'MIDDLE')\",\n",
       " \"'BOTTOM')\",\n",
       " \"'JUNGLE')\",\n",
       " \"'TOP')\",\n",
       " \"'BOTTOM')\",\n",
       " \"'BOTTOM')\",\n",
       " \"'TOP')\",\n",
       " \"'JUNGLE')\",\n",
       " \"'MIDDLE')\"]"
      ]
     },
     "execution_count": 7,
     "metadata": {},
     "output_type": "execute_result"
    }
   ],
   "source": [
    "mess"
   ]
  },
  {
   "cell_type": "code",
   "execution_count": 8,
   "id": "9490acb9-4274-4079-8b9a-b363046fbf39",
   "metadata": {},
   "outputs": [],
   "source": [
    "cleaned = [lane.strip(\"')'\") for lane in mess]"
   ]
  },
  {
   "cell_type": "code",
   "execution_count": 9,
   "id": "9a22ce0d-251b-4bf4-9240-68b849ed934d",
   "metadata": {},
   "outputs": [
    {
     "data": {
      "text/plain": [
       "['BOTTOM',\n",
       " 'MIDDLE',\n",
       " 'BOTTOM',\n",
       " 'JUNGLE',\n",
       " 'TOP',\n",
       " 'BOTTOM',\n",
       " 'BOTTOM',\n",
       " 'TOP',\n",
       " 'JUNGLE',\n",
       " 'MIDDLE']"
      ]
     },
     "execution_count": 9,
     "metadata": {},
     "output_type": "execute_result"
    }
   ],
   "source": [
    "cleaned"
   ]
  },
  {
   "cell_type": "code",
   "execution_count": 10,
   "id": "738fa9c6-c659-4573-af30-75500bb4a45f",
   "metadata": {},
   "outputs": [],
   "source": [
    "def make_roles(champlist):\n",
    "    mess = champlist.strip('][').split(', ')[4::5]\n",
    "    cleaned = [lane.strip(\"')'\") for lane in mess]\n",
    "    return cleaned"
   ]
  },
  {
   "cell_type": "code",
   "execution_count": 11,
   "id": "0f99fd0a-4433-4342-9171-359fa33dad38",
   "metadata": {},
   "outputs": [],
   "source": [
    "df = pd.read_csv('../../../../archive/with_rates_and_spec_gods.csv')"
   ]
  },
  {
   "cell_type": "code",
   "execution_count": 12,
   "id": "2552314b-f3bf-4e7a-9026-9e0eb7a9978b",
   "metadata": {},
   "outputs": [],
   "source": [
    "df['roles'] = champs['champions'].map(make_roles)"
   ]
  },
  {
   "cell_type": "code",
   "execution_count": 13,
   "id": "c570f7ad-1713-4604-a173-f50387610299",
   "metadata": {},
   "outputs": [],
   "source": [
    "df['blueRoles'] = df['roles'].map(lambda x: x[:5])"
   ]
  },
  {
   "cell_type": "code",
   "execution_count": 14,
   "id": "8a61ed78-7b89-47c8-b108-750fe8ba100b",
   "metadata": {},
   "outputs": [],
   "source": [
    "df['redRoles'] = df['roles'].map(lambda x: x[5:])"
   ]
  },
  {
   "cell_type": "code",
   "execution_count": 15,
   "id": "1aa5f724-069e-4185-80f8-d7a7f88b0aad",
   "metadata": {},
   "outputs": [],
   "source": [
    "def make_conventional(roles):\n",
    "    bot = 0\n",
    "    mid = 0\n",
    "    jung = 0\n",
    "    top = 0\n",
    "    for role in roles:\n",
    "        if role == 'BOTTOM':\n",
    "            bot += 1\n",
    "        elif role == 'MIDDLE':\n",
    "            mid += 1\n",
    "        elif role == 'JUNGLE':\n",
    "            jung += 1\n",
    "        elif role == 'TOP':\n",
    "            top += 1\n",
    "    if (bot == 2) and (mid == 1) and (jung == 1) and (top == 1):\n",
    "        return 1\n",
    "    return 0"
   ]
  },
  {
   "cell_type": "code",
   "execution_count": 16,
   "id": "8c263ebc-6061-45b6-9191-e99ae9cbfde2",
   "metadata": {},
   "outputs": [],
   "source": [
    "df['blueConventional'] = df['blueRoles'].map(make_conventional)\n",
    "df['redConventional'] = df['redRoles'].map(make_conventional)"
   ]
  },
  {
   "cell_type": "code",
   "execution_count": 17,
   "id": "ff3743c8-2521-416e-ba67-501541798613",
   "metadata": {},
   "outputs": [],
   "source": [
    "df['blueBottoms'] = df['blueRoles'].map(lambda x: x.count('BOTTOM'))\n",
    "df['blueMiddles'] = df['blueRoles'].map(lambda x: x.count('MIDDLE'))\n",
    "df['blueTops'] = df['blueRoles'].map(lambda x: x.count('TOP'))\n",
    "df['blueJungles'] = df['blueRoles'].map(lambda x: x.count('JUNGLE'))\n",
    "\n",
    "df['redBottoms'] = df['redRoles'].map(lambda x: x.count('BOTTOM'))\n",
    "df['redMiddles'] = df['redRoles'].map(lambda x: x.count('MIDDLE'))\n",
    "df['redTops'] = df['redRoles'].map(lambda x: x.count('TOP'))\n",
    "df['redJungles'] = df['redRoles'].map(lambda x: x.count('JUNGLE'))"
   ]
  },
  {
   "cell_type": "code",
   "execution_count": 18,
   "id": "74b5a7bd-d6ec-4be4-8205-2750d316d44d",
   "metadata": {},
   "outputs": [],
   "source": [
    "df.to_csv(path_or_buf = '../../../../archive/with_roles.csv', index = False)"
   ]
  }
 ],
 "metadata": {
  "kernelspec": {
   "display_name": "learn-env",
   "language": "python",
   "name": "learn-env"
  },
  "language_info": {
   "codemirror_mode": {
    "name": "ipython",
    "version": 3
   },
   "file_extension": ".py",
   "mimetype": "text/x-python",
   "name": "python",
   "nbconvert_exporter": "python",
   "pygments_lexer": "ipython3",
   "version": "3.8.5"
  }
 },
 "nbformat": 4,
 "nbformat_minor": 5
}
